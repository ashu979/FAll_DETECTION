{
  "cells": [
    {
      "cell_type": "markdown",
      "metadata": {
        "id": "view-in-github",
        "colab_type": "text"
      },
      "source": [
        "<a href=\"https://colab.research.google.com/github/ashu979/FAll_DETECTION/blob/main/Fall_detection.ipynb\" target=\"_parent\"><img src=\"https://colab.research.google.com/assets/colab-badge.svg\" alt=\"Open In Colab\"/></a>"
      ]
    },
    {
      "cell_type": "markdown",
      "metadata": {
        "id": "59453644-ce58-4a54-821f-72683278f580"
      },
      "source": [
        "#                 FALL DETECTION FOR ELDERLY PEOPLE"
      ],
      "id": "59453644-ce58-4a54-821f-72683278f580"
    },
    {
      "cell_type": "code",
      "execution_count": null,
      "metadata": {
        "id": "38342733-8687-43a3-b2e6-79f8c890ed65"
      },
      "outputs": [],
      "source": [
        "import pandas as pd\n",
        "import numpy as np \n",
        "import matplotlib.pyplot as plt \n",
        "import seaborn as sns \n",
        "import sklearn"
      ],
      "id": "38342733-8687-43a3-b2e6-79f8c890ed65"
    },
    {
      "cell_type": "markdown",
      "metadata": {
        "id": "41ab5a7b-54f5-4afc-85b0-13c92d41c0cd"
      },
      "source": [
        "### sisfall Dataset "
      ],
      "id": "41ab5a7b-54f5-4afc-85b0-13c92d41c0cd"
    },
    {
      "cell_type": "code",
      "execution_count": null,
      "metadata": {
        "colab": {
          "base_uri": "https://localhost:8080/"
        },
        "id": "B72NHTA59_Hj",
        "outputId": "1dcfeb51-4573-478e-8a57-fcd61daf9859"
      },
      "outputs": [
        {
          "output_type": "stream",
          "name": "stdout",
          "text": [
            "Mounted at /content/drive\n"
          ]
        }
      ],
      "source": [
        "from google.colab import drive\n",
        "drive.mount('/content/drive')"
      ],
      "id": "B72NHTA59_Hj"
    },
    {
      "cell_type": "code",
      "execution_count": null,
      "metadata": {
        "id": "b_8smc2l-kHL"
      },
      "outputs": [],
      "source": [
        "\n",
        "df = pd.read_csv('/content/drive/MyDrive/PROJECT_6/SisFall_dataset.csv')"
      ],
      "id": "b_8smc2l-kHL"
    },
    {
      "cell_type": "code",
      "execution_count": null,
      "metadata": {
        "colab": {
          "base_uri": "https://localhost:8080/",
          "height": 270
        },
        "id": "943eb4cc-e0cd-462f-9338-e264d2f91f2b",
        "outputId": "98362f63-767f-4cc2-87f4-2d36e1e26811"
      },
      "outputs": [
        {
          "output_type": "execute_result",
          "data": {
            "text/plain": [
              "   ADXL345_x  ADXL345_y  ADXL345_z  ITG3200_x  ITG3200_y  ITG3200_z  \\\n",
              "0          5       -234        -82         37          4         -7   \n",
              "1          2       -234        -87         35          4         -7   \n",
              "2          6       -234        -84         35          3         -7   \n",
              "3          5       -234        -85         34          4         -8   \n",
              "4          7       -237        -83         34          4         -7   \n",
              "\n",
              "   MMA8451Q_x  MMA8451Q_y  MMA8451Q_z Situation  \n",
              "0           9        -959        -319      Fall  \n",
              "1           8        -964        -319      Fall  \n",
              "2          11        -962        -323      Fall  \n",
              "3           7        -961        -323      Fall  \n",
              "4           9        -959        -323      Fall  "
            ],
            "text/html": [
              "\n",
              "  <div id=\"df-0930e68b-a015-46d3-a874-40f97dab91e1\">\n",
              "    <div class=\"colab-df-container\">\n",
              "      <div>\n",
              "<style scoped>\n",
              "    .dataframe tbody tr th:only-of-type {\n",
              "        vertical-align: middle;\n",
              "    }\n",
              "\n",
              "    .dataframe tbody tr th {\n",
              "        vertical-align: top;\n",
              "    }\n",
              "\n",
              "    .dataframe thead th {\n",
              "        text-align: right;\n",
              "    }\n",
              "</style>\n",
              "<table border=\"1\" class=\"dataframe\">\n",
              "  <thead>\n",
              "    <tr style=\"text-align: right;\">\n",
              "      <th></th>\n",
              "      <th>ADXL345_x</th>\n",
              "      <th>ADXL345_y</th>\n",
              "      <th>ADXL345_z</th>\n",
              "      <th>ITG3200_x</th>\n",
              "      <th>ITG3200_y</th>\n",
              "      <th>ITG3200_z</th>\n",
              "      <th>MMA8451Q_x</th>\n",
              "      <th>MMA8451Q_y</th>\n",
              "      <th>MMA8451Q_z</th>\n",
              "      <th>Situation</th>\n",
              "    </tr>\n",
              "  </thead>\n",
              "  <tbody>\n",
              "    <tr>\n",
              "      <th>0</th>\n",
              "      <td>5</td>\n",
              "      <td>-234</td>\n",
              "      <td>-82</td>\n",
              "      <td>37</td>\n",
              "      <td>4</td>\n",
              "      <td>-7</td>\n",
              "      <td>9</td>\n",
              "      <td>-959</td>\n",
              "      <td>-319</td>\n",
              "      <td>Fall</td>\n",
              "    </tr>\n",
              "    <tr>\n",
              "      <th>1</th>\n",
              "      <td>2</td>\n",
              "      <td>-234</td>\n",
              "      <td>-87</td>\n",
              "      <td>35</td>\n",
              "      <td>4</td>\n",
              "      <td>-7</td>\n",
              "      <td>8</td>\n",
              "      <td>-964</td>\n",
              "      <td>-319</td>\n",
              "      <td>Fall</td>\n",
              "    </tr>\n",
              "    <tr>\n",
              "      <th>2</th>\n",
              "      <td>6</td>\n",
              "      <td>-234</td>\n",
              "      <td>-84</td>\n",
              "      <td>35</td>\n",
              "      <td>3</td>\n",
              "      <td>-7</td>\n",
              "      <td>11</td>\n",
              "      <td>-962</td>\n",
              "      <td>-323</td>\n",
              "      <td>Fall</td>\n",
              "    </tr>\n",
              "    <tr>\n",
              "      <th>3</th>\n",
              "      <td>5</td>\n",
              "      <td>-234</td>\n",
              "      <td>-85</td>\n",
              "      <td>34</td>\n",
              "      <td>4</td>\n",
              "      <td>-8</td>\n",
              "      <td>7</td>\n",
              "      <td>-961</td>\n",
              "      <td>-323</td>\n",
              "      <td>Fall</td>\n",
              "    </tr>\n",
              "    <tr>\n",
              "      <th>4</th>\n",
              "      <td>7</td>\n",
              "      <td>-237</td>\n",
              "      <td>-83</td>\n",
              "      <td>34</td>\n",
              "      <td>4</td>\n",
              "      <td>-7</td>\n",
              "      <td>9</td>\n",
              "      <td>-959</td>\n",
              "      <td>-323</td>\n",
              "      <td>Fall</td>\n",
              "    </tr>\n",
              "  </tbody>\n",
              "</table>\n",
              "</div>\n",
              "      <button class=\"colab-df-convert\" onclick=\"convertToInteractive('df-0930e68b-a015-46d3-a874-40f97dab91e1')\"\n",
              "              title=\"Convert this dataframe to an interactive table.\"\n",
              "              style=\"display:none;\">\n",
              "        \n",
              "  <svg xmlns=\"http://www.w3.org/2000/svg\" height=\"24px\"viewBox=\"0 0 24 24\"\n",
              "       width=\"24px\">\n",
              "    <path d=\"M0 0h24v24H0V0z\" fill=\"none\"/>\n",
              "    <path d=\"M18.56 5.44l.94 2.06.94-2.06 2.06-.94-2.06-.94-.94-2.06-.94 2.06-2.06.94zm-11 1L8.5 8.5l.94-2.06 2.06-.94-2.06-.94L8.5 2.5l-.94 2.06-2.06.94zm10 10l.94 2.06.94-2.06 2.06-.94-2.06-.94-.94-2.06-.94 2.06-2.06.94z\"/><path d=\"M17.41 7.96l-1.37-1.37c-.4-.4-.92-.59-1.43-.59-.52 0-1.04.2-1.43.59L10.3 9.45l-7.72 7.72c-.78.78-.78 2.05 0 2.83L4 21.41c.39.39.9.59 1.41.59.51 0 1.02-.2 1.41-.59l7.78-7.78 2.81-2.81c.8-.78.8-2.07 0-2.86zM5.41 20L4 18.59l7.72-7.72 1.47 1.35L5.41 20z\"/>\n",
              "  </svg>\n",
              "      </button>\n",
              "      \n",
              "  <style>\n",
              "    .colab-df-container {\n",
              "      display:flex;\n",
              "      flex-wrap:wrap;\n",
              "      gap: 12px;\n",
              "    }\n",
              "\n",
              "    .colab-df-convert {\n",
              "      background-color: #E8F0FE;\n",
              "      border: none;\n",
              "      border-radius: 50%;\n",
              "      cursor: pointer;\n",
              "      display: none;\n",
              "      fill: #1967D2;\n",
              "      height: 32px;\n",
              "      padding: 0 0 0 0;\n",
              "      width: 32px;\n",
              "    }\n",
              "\n",
              "    .colab-df-convert:hover {\n",
              "      background-color: #E2EBFA;\n",
              "      box-shadow: 0px 1px 2px rgba(60, 64, 67, 0.3), 0px 1px 3px 1px rgba(60, 64, 67, 0.15);\n",
              "      fill: #174EA6;\n",
              "    }\n",
              "\n",
              "    [theme=dark] .colab-df-convert {\n",
              "      background-color: #3B4455;\n",
              "      fill: #D2E3FC;\n",
              "    }\n",
              "\n",
              "    [theme=dark] .colab-df-convert:hover {\n",
              "      background-color: #434B5C;\n",
              "      box-shadow: 0px 1px 3px 1px rgba(0, 0, 0, 0.15);\n",
              "      filter: drop-shadow(0px 1px 2px rgba(0, 0, 0, 0.3));\n",
              "      fill: #FFFFFF;\n",
              "    }\n",
              "  </style>\n",
              "\n",
              "      <script>\n",
              "        const buttonEl =\n",
              "          document.querySelector('#df-0930e68b-a015-46d3-a874-40f97dab91e1 button.colab-df-convert');\n",
              "        buttonEl.style.display =\n",
              "          google.colab.kernel.accessAllowed ? 'block' : 'none';\n",
              "\n",
              "        async function convertToInteractive(key) {\n",
              "          const element = document.querySelector('#df-0930e68b-a015-46d3-a874-40f97dab91e1');\n",
              "          const dataTable =\n",
              "            await google.colab.kernel.invokeFunction('convertToInteractive',\n",
              "                                                     [key], {});\n",
              "          if (!dataTable) return;\n",
              "\n",
              "          const docLinkHtml = 'Like what you see? Visit the ' +\n",
              "            '<a target=\"_blank\" href=https://colab.research.google.com/notebooks/data_table.ipynb>data table notebook</a>'\n",
              "            + ' to learn more about interactive tables.';\n",
              "          element.innerHTML = '';\n",
              "          dataTable['output_type'] = 'display_data';\n",
              "          await google.colab.output.renderOutput(dataTable, element);\n",
              "          const docLink = document.createElement('div');\n",
              "          docLink.innerHTML = docLinkHtml;\n",
              "          element.appendChild(docLink);\n",
              "        }\n",
              "      </script>\n",
              "    </div>\n",
              "  </div>\n",
              "  "
            ]
          },
          "metadata": {},
          "execution_count": 4
        }
      ],
      "source": [
        "df.head()"
      ],
      "id": "943eb4cc-e0cd-462f-9338-e264d2f91f2b"
    },
    {
      "cell_type": "code",
      "execution_count": null,
      "metadata": {
        "colab": {
          "base_uri": "https://localhost:8080/"
        },
        "id": "b9a5e16e",
        "outputId": "478ce1d9-3156-40ff-e9f3-9fbd0d43dfb1"
      },
      "outputs": [
        {
          "output_type": "stream",
          "name": "stdout",
          "text": [
            "<class 'pandas.core.frame.DataFrame'>\n",
            "RangeIndex: 2097150 entries, 0 to 2097149\n",
            "Data columns (total 10 columns):\n",
            " #   Column      Dtype \n",
            "---  ------      ----- \n",
            " 0   ADXL345_x   int64 \n",
            " 1   ADXL345_y   int64 \n",
            " 2   ADXL345_z   int64 \n",
            " 3   ITG3200_x   int64 \n",
            " 4   ITG3200_y   int64 \n",
            " 5   ITG3200_z   int64 \n",
            " 6   MMA8451Q_x  int64 \n",
            " 7   MMA8451Q_y  int64 \n",
            " 8   MMA8451Q_z  int64 \n",
            " 9   Situation   object\n",
            "dtypes: int64(9), object(1)\n",
            "memory usage: 160.0+ MB\n"
          ]
        }
      ],
      "source": [
        "df.info()"
      ],
      "id": "b9a5e16e"
    },
    {
      "cell_type": "code",
      "execution_count": null,
      "metadata": {
        "colab": {
          "base_uri": "https://localhost:8080/"
        },
        "id": "c8a68719",
        "outputId": "b2bfb105-3377-41a5-af2b-e92bb9c03318"
      },
      "outputs": [
        {
          "output_type": "execute_result",
          "data": {
            "text/plain": [
              "(2097150, 10)"
            ]
          },
          "metadata": {},
          "execution_count": 6
        }
      ],
      "source": [
        "df.shape"
      ],
      "id": "c8a68719"
    },
    {
      "cell_type": "code",
      "source": [
        "df=df.sample(21000,random_state=42)"
      ],
      "metadata": {
        "id": "qvrof3skpTVB"
      },
      "id": "qvrof3skpTVB",
      "execution_count": null,
      "outputs": []
    },
    {
      "cell_type": "markdown",
      "metadata": {
        "id": "943b592c-6761-4fba-90aa-b82f260c7e23"
      },
      "source": [
        "#### --> Understaing the Data "
      ],
      "id": "943b592c-6761-4fba-90aa-b82f260c7e23"
    },
    {
      "cell_type": "markdown",
      "metadata": {
        "id": "7c7870a6-73c1-40b9-972d-4a336a98734f"
      },
      "source": [
        "##### *) The SisFall dataset.\n",
        "#####   It consisted of up to 34 activities (falls and ADLs) that were performed by 38 participants with a wearable device fixed to their waist."
      ],
      "id": "7c7870a6-73c1-40b9-972d-4a336a98734f"
    },
    {
      "cell_type": "markdown",
      "metadata": {
        "id": "15b69c3c-8b9e-48d6-bc12-b9bf107c1803"
      },
      "source": [
        "##### *) The SisFall dataset contains more participants, types of activities and recordings than any other publicly available dataset. It consists of 2706 ADL and 1798 falls, including data from 15 healthy independent elderly persons. To our knowledge, no public dataset contains data from elderly people, and their number of recordings is smaller"
      ],
      "id": "15b69c3c-8b9e-48d6-bc12-b9bf107c1803"
    },
    {
      "cell_type": "markdown",
      "metadata": {
        "id": "d515cacc"
      },
      "source": [
        "##### *) Types of fall"
      ],
      "id": "d515cacc"
    },
    {
      "cell_type": "code",
      "source": [
        "%cd /content/drive/MyDrive/PROJECT_6/\n",
        "from IPython.display import Image\n",
        "Image(filename='type-of-fall.jpg')"
      ],
      "metadata": {
        "colab": {
          "base_uri": "https://localhost:8080/",
          "height": 518
        },
        "id": "QFx0g1uXL1Hm",
        "outputId": "caa59116-b138-455c-b988-7b20a0a4d334"
      },
      "id": "QFx0g1uXL1Hm",
      "execution_count": null,
      "outputs": [
        {
          "output_type": "stream",
          "name": "stdout",
          "text": [
            "/content/drive/MyDrive/PROJECT_6\n"
          ]
        },
        {
          "output_type": "execute_result",
          "data": {
            "image/jpeg": "[encoded data removed]",
            "text/plain": [
              "<IPython.core.display.Image object>"
            ]
          },
          "metadata": {},
          "execution_count": 8
        }
      ]
    },
    {
      "cell_type": "markdown",
      "metadata": {
        "id": "e8da0c0d-eb3c-4328-814f-f9972268ad88"
      },
      "source": [
        "##### *) The activity of daily living selected for this work \n"
      ],
      "id": "e8da0c0d-eb3c-4328-814f-f9972268ad88"
    },
    {
      "cell_type": "code",
      "source": [
        "Image(filename='type-of-activity.jpg')"
      ],
      "metadata": {
        "colab": {
          "base_uri": "https://localhost:8080/",
          "height": 571
        },
        "id": "5EACeGk7NVke",
        "outputId": "442b3527-caf0-406c-95cc-208baf2cb76e"
      },
      "id": "5EACeGk7NVke",
      "execution_count": null,
      "outputs": [
        {
          "output_type": "execute_result",
          "data": {
            "image/jpeg": "[encoded data removed]",
            "text/plain": [
              "<IPython.core.display.Image object>"
            ]
          },
          "metadata": {},
          "execution_count": 9
        }
      ]
    },
    {
      "cell_type": "markdown",
      "metadata": {
        "id": "e1d08d30"
      },
      "source": [
        "##### *) Now , the device used to collect this data , are represented as :\n",
        "#####    ADXL345 - Accelerometer\n",
        "#####    ITG3200 - Gyroscope\n",
        "#####    MMA8451Q -  Freescale Accelerometer\n",
        "\n",
        "##### Only acceleration data acquired with the ADXL345 sensor was used in this work, as it is energy efficient and provides the larger span."
      ],
      "id": "e1d08d30"
    },
    {
      "cell_type": "code",
      "execution_count": null,
      "metadata": {
        "colab": {
          "base_uri": "https://localhost:8080/",
          "height": 364
        },
        "id": "46408ccf",
        "outputId": "383f9114-f167-4a23-f3e4-1445346b3193"
      },
      "outputs": [
        {
          "output_type": "execute_result",
          "data": {
            "text/plain": [
              "          ADXL345_x     ADXL345_y    ADXL345_z     ITG3200_x     ITG3200_y  \\\n",
              "count  21000.000000  21000.000000  21000.00000  21000.000000  21000.000000   \n",
              "mean       3.859952   -168.211429    -23.52019    -22.781286     29.093571   \n",
              "std      110.359138    154.752708    131.63024    525.006336    498.123947   \n",
              "min    -1237.000000  -1801.000000  -1507.00000 -13181.000000  -4095.000000   \n",
              "25%      -18.000000   -256.000000   -100.00000    -73.000000    -17.000000   \n",
              "50%       10.000000   -222.000000    -32.00000    -28.000000     15.000000   \n",
              "75%       35.000000    -30.000000     49.00000     59.000000     59.000000   \n",
              "max      930.000000    606.000000   1571.00000   7591.000000   6293.000000   \n",
              "\n",
              "          ITG3200_z    MMA8451Q_x    MMA8451Q_y    MMA8451Q_z  \n",
              "count  21000.000000  21000.000000  21000.000000  21000.000000  \n",
              "mean      -6.396476    -34.377667   -657.423143      7.027429  \n",
              "std      403.957535    433.234084    604.432738    524.160033  \n",
              "min    -4758.000000  -5036.000000  -7055.000000  -6120.000000  \n",
              "25%      -24.000000   -114.000000   -995.000000   -271.000000  \n",
              "50%       -7.000000     -1.000000   -880.000000    -19.000000  \n",
              "75%       13.000000     79.000000   -110.000000    295.000000  \n",
              "max     4896.000000   3551.000000   2085.000000   6324.000000  "
            ],
            "text/html": [
              "\n",
              "  <div id=\"df-d12b613a-1cf8-44af-b8fb-df0f6ccb3b3e\">\n",
              "    <div class=\"colab-df-container\">\n",
              "      <div>\n",
              "<style scoped>\n",
              "    .dataframe tbody tr th:only-of-type {\n",
              "        vertical-align: middle;\n",
              "    }\n",
              "\n",
              "    .dataframe tbody tr th {\n",
              "        vertical-align: top;\n",
              "    }\n",
              "\n",
              "    .dataframe thead th {\n",
              "        text-align: right;\n",
              "    }\n",
              "</style>\n",
              "<table border=\"1\" class=\"dataframe\">\n",
              "  <thead>\n",
              "    <tr style=\"text-align: right;\">\n",
              "      <th></th>\n",
              "      <th>ADXL345_x</th>\n",
              "      <th>ADXL345_y</th>\n",
              "      <th>ADXL345_z</th>\n",
              "      <th>ITG3200_x</th>\n",
              "      <th>ITG3200_y</th>\n",
              "      <th>ITG3200_z</th>\n",
              "      <th>MMA8451Q_x</th>\n",
              "      <th>MMA8451Q_y</th>\n",
              "      <th>MMA8451Q_z</th>\n",
              "    </tr>\n",
              "  </thead>\n",
              "  <tbody>\n",
              "    <tr>\n",
              "      <th>count</th>\n",
              "      <td>21000.000000</td>\n",
              "      <td>21000.000000</td>\n",
              "      <td>21000.00000</td>\n",
              "      <td>21000.000000</td>\n",
              "      <td>21000.000000</td>\n",
              "      <td>21000.000000</td>\n",
              "      <td>21000.000000</td>\n",
              "      <td>21000.000000</td>\n",
              "      <td>21000.000000</td>\n",
              "    </tr>\n",
              "    <tr>\n",
              "      <th>mean</th>\n",
              "      <td>3.859952</td>\n",
              "      <td>-168.211429</td>\n",
              "      <td>-23.52019</td>\n",
              "      <td>-22.781286</td>\n",
              "      <td>29.093571</td>\n",
              "      <td>-6.396476</td>\n",
              "      <td>-34.377667</td>\n",
              "      <td>-657.423143</td>\n",
              "      <td>7.027429</td>\n",
              "    </tr>\n",
              "    <tr>\n",
              "      <th>std</th>\n",
              "      <td>110.359138</td>\n",
              "      <td>154.752708</td>\n",
              "      <td>131.63024</td>\n",
              "      <td>525.006336</td>\n",
              "      <td>498.123947</td>\n",
              "      <td>403.957535</td>\n",
              "      <td>433.234084</td>\n",
              "      <td>604.432738</td>\n",
              "      <td>524.160033</td>\n",
              "    </tr>\n",
              "    <tr>\n",
              "      <th>min</th>\n",
              "      <td>-1237.000000</td>\n",
              "      <td>-1801.000000</td>\n",
              "      <td>-1507.00000</td>\n",
              "      <td>-13181.000000</td>\n",
              "      <td>-4095.000000</td>\n",
              "      <td>-4758.000000</td>\n",
              "      <td>-5036.000000</td>\n",
              "      <td>-7055.000000</td>\n",
              "      <td>-6120.000000</td>\n",
              "    </tr>\n",
              "    <tr>\n",
              "      <th>25%</th>\n",
              "      <td>-18.000000</td>\n",
              "      <td>-256.000000</td>\n",
              "      <td>-100.00000</td>\n",
              "      <td>-73.000000</td>\n",
              "      <td>-17.000000</td>\n",
              "      <td>-24.000000</td>\n",
              "      <td>-114.000000</td>\n",
              "      <td>-995.000000</td>\n",
              "      <td>-271.000000</td>\n",
              "    </tr>\n",
              "    <tr>\n",
              "      <th>50%</th>\n",
              "      <td>10.000000</td>\n",
              "      <td>-222.000000</td>\n",
              "      <td>-32.00000</td>\n",
              "      <td>-28.000000</td>\n",
              "      <td>15.000000</td>\n",
              "      <td>-7.000000</td>\n",
              "      <td>-1.000000</td>\n",
              "      <td>-880.000000</td>\n",
              "      <td>-19.000000</td>\n",
              "    </tr>\n",
              "    <tr>\n",
              "      <th>75%</th>\n",
              "      <td>35.000000</td>\n",
              "      <td>-30.000000</td>\n",
              "      <td>49.00000</td>\n",
              "      <td>59.000000</td>\n",
              "      <td>59.000000</td>\n",
              "      <td>13.000000</td>\n",
              "      <td>79.000000</td>\n",
              "      <td>-110.000000</td>\n",
              "      <td>295.000000</td>\n",
              "    </tr>\n",
              "    <tr>\n",
              "      <th>max</th>\n",
              "      <td>930.000000</td>\n",
              "      <td>606.000000</td>\n",
              "      <td>1571.00000</td>\n",
              "      <td>7591.000000</td>\n",
              "      <td>6293.000000</td>\n",
              "      <td>4896.000000</td>\n",
              "      <td>3551.000000</td>\n",
              "      <td>2085.000000</td>\n",
              "      <td>6324.000000</td>\n",
              "    </tr>\n",
              "  </tbody>\n",
              "</table>\n",
              "</div>\n",
              "      <button class=\"colab-df-convert\" onclick=\"convertToInteractive('df-d12b613a-1cf8-44af-b8fb-df0f6ccb3b3e')\"\n",
              "              title=\"Convert this dataframe to an interactive table.\"\n",
              "              style=\"display:none;\">\n",
              "        \n",
              "  <svg xmlns=\"http://www.w3.org/2000/svg\" height=\"24px\"viewBox=\"0 0 24 24\"\n",
              "       width=\"24px\">\n",
              "    <path d=\"M0 0h24v24H0V0z\" fill=\"none\"/>\n",
              "    <path d=\"M18.56 5.44l.94 2.06.94-2.06 2.06-.94-2.06-.94-.94-2.06-.94 2.06-2.06.94zm-11 1L8.5 8.5l.94-2.06 2.06-.94-2.06-.94L8.5 2.5l-.94 2.06-2.06.94zm10 10l.94 2.06.94-2.06 2.06-.94-2.06-.94-.94-2.06-.94 2.06-2.06.94z\"/><path d=\"M17.41 7.96l-1.37-1.37c-.4-.4-.92-.59-1.43-.59-.52 0-1.04.2-1.43.59L10.3 9.45l-7.72 7.72c-.78.78-.78 2.05 0 2.83L4 21.41c.39.39.9.59 1.41.59.51 0 1.02-.2 1.41-.59l7.78-7.78 2.81-2.81c.8-.78.8-2.07 0-2.86zM5.41 20L4 18.59l7.72-7.72 1.47 1.35L5.41 20z\"/>\n",
              "  </svg>\n",
              "      </button>\n",
              "      \n",
              "  <style>\n",
              "    .colab-df-container {\n",
              "      display:flex;\n",
              "      flex-wrap:wrap;\n",
              "      gap: 12px;\n",
              "    }\n",
              "\n",
              "    .colab-df-convert {\n",
              "      background-color: #E8F0FE;\n",
              "      border: none;\n",
              "      border-radius: 50%;\n",
              "      cursor: pointer;\n",
              "      display: none;\n",
              "      fill: #1967D2;\n",
              "      height: 32px;\n",
              "      padding: 0 0 0 0;\n",
              "      width: 32px;\n",
              "    }\n",
              "\n",
              "    .colab-df-convert:hover {\n",
              "      background-color: #E2EBFA;\n",
              "      box-shadow: 0px 1px 2px rgba(60, 64, 67, 0.3), 0px 1px 3px 1px rgba(60, 64, 67, 0.15);\n",
              "      fill: #174EA6;\n",
              "    }\n",
              "\n",
              "    [theme=dark] .colab-df-convert {\n",
              "      background-color: #3B4455;\n",
              "      fill: #D2E3FC;\n",
              "    }\n",
              "\n",
              "    [theme=dark] .colab-df-convert:hover {\n",
              "      background-color: #434B5C;\n",
              "      box-shadow: 0px 1px 3px 1px rgba(0, 0, 0, 0.15);\n",
              "      filter: drop-shadow(0px 1px 2px rgba(0, 0, 0, 0.3));\n",
              "      fill: #FFFFFF;\n",
              "    }\n",
              "  </style>\n",
              "\n",
              "      <script>\n",
              "        const buttonEl =\n",
              "          document.querySelector('#df-d12b613a-1cf8-44af-b8fb-df0f6ccb3b3e button.colab-df-convert');\n",
              "        buttonEl.style.display =\n",
              "          google.colab.kernel.accessAllowed ? 'block' : 'none';\n",
              "\n",
              "        async function convertToInteractive(key) {\n",
              "          const element = document.querySelector('#df-d12b613a-1cf8-44af-b8fb-df0f6ccb3b3e');\n",
              "          const dataTable =\n",
              "            await google.colab.kernel.invokeFunction('convertToInteractive',\n",
              "                                                     [key], {});\n",
              "          if (!dataTable) return;\n",
              "\n",
              "          const docLinkHtml = 'Like what you see? Visit the ' +\n",
              "            '<a target=\"_blank\" href=https://colab.research.google.com/notebooks/data_table.ipynb>data table notebook</a>'\n",
              "            + ' to learn more about interactive tables.';\n",
              "          element.innerHTML = '';\n",
              "          dataTable['output_type'] = 'display_data';\n",
              "          await google.colab.output.renderOutput(dataTable, element);\n",
              "          const docLink = document.createElement('div');\n",
              "          docLink.innerHTML = docLinkHtml;\n",
              "          element.appendChild(docLink);\n",
              "        }\n",
              "      </script>\n",
              "    </div>\n",
              "  </div>\n",
              "  "
            ]
          },
          "metadata": {},
          "execution_count": 10
        }
      ],
      "source": [
        "df.describe()"
      ],
      "id": "46408ccf"
    },
    {
      "cell_type": "code",
      "source": [
        "df.shape"
      ],
      "metadata": {
        "colab": {
          "base_uri": "https://localhost:8080/"
        },
        "id": "v3JREG0mop54",
        "outputId": "9afc7c48-5330-40ae-ab10-0880dcce6a1b"
      },
      "id": "v3JREG0mop54",
      "execution_count": null,
      "outputs": [
        {
          "output_type": "execute_result",
          "data": {
            "text/plain": [
              "(21000, 10)"
            ]
          },
          "metadata": {},
          "execution_count": 11
        }
      ]
    },
    {
      "cell_type": "code",
      "execution_count": null,
      "metadata": {
        "colab": {
          "base_uri": "https://localhost:8080/",
          "height": 431
        },
        "id": "d03d1ef2",
        "outputId": "3600e27f-2ad8-4a5e-a83f-b2fe20d2376f"
      },
      "outputs": [
        {
          "output_type": "stream",
          "name": "stderr",
          "text": [
            "<ipython-input-12-2f6f6606aa2c>:1: FutureWarning: The default value of numeric_only in DataFrame.corr is deprecated. In a future version, it will default to False. Select only valid columns or specify the value of numeric_only to silence this warning.\n",
            "  df.corr()\n"
          ]
        },
        {
          "output_type": "execute_result",
          "data": {
            "text/plain": [
              "            ADXL345_x  ADXL345_y  ADXL345_z  ITG3200_x  ITG3200_y  ITG3200_z  \\\n",
              "ADXL345_x    1.000000  -0.076691  -0.056602   0.035481   0.084200  -0.045927   \n",
              "ADXL345_y   -0.076691   1.000000   0.034893   0.140829  -0.003553  -0.021784   \n",
              "ADXL345_z   -0.056602   0.034893   1.000000   0.093948  -0.000801  -0.006888   \n",
              "ITG3200_x    0.035481   0.140829   0.093948   1.000000   0.020802  -0.065837   \n",
              "ITG3200_y    0.084200  -0.003553  -0.000801   0.020802   1.000000  -0.143351   \n",
              "ITG3200_z   -0.045927  -0.021784  -0.006888  -0.065837  -0.143351   1.000000   \n",
              "MMA8451Q_x   0.995484  -0.084403  -0.047330   0.038472   0.086812  -0.049881   \n",
              "MMA8451Q_y  -0.071630   0.997989   0.023882   0.131371  -0.001671  -0.021016   \n",
              "MMA8451Q_z  -0.056728   0.024153   0.990507   0.087867   0.001043  -0.006523   \n",
              "\n",
              "            MMA8451Q_x  MMA8451Q_y  MMA8451Q_z  \n",
              "ADXL345_x     0.995484   -0.071630   -0.056728  \n",
              "ADXL345_y    -0.084403    0.997989    0.024153  \n",
              "ADXL345_z    -0.047330    0.023882    0.990507  \n",
              "ITG3200_x     0.038472    0.131371    0.087867  \n",
              "ITG3200_y     0.086812   -0.001671    0.001043  \n",
              "ITG3200_z    -0.049881   -0.021016   -0.006523  \n",
              "MMA8451Q_x    1.000000   -0.082268   -0.055495  \n",
              "MMA8451Q_y   -0.082268    1.000000    0.018343  \n",
              "MMA8451Q_z   -0.055495    0.018343    1.000000  "
            ],
            "text/html": [
              "\n",
              "  <div id=\"df-a387c6e0-8121-47da-8add-a2930193ab63\">\n",
              "    <div class=\"colab-df-container\">\n",
              "      <div>\n",
              "<style scoped>\n",
              "    .dataframe tbody tr th:only-of-type {\n",
              "        vertical-align: middle;\n",
              "    }\n",
              "\n",
              "    .dataframe tbody tr th {\n",
              "        vertical-align: top;\n",
              "    }\n",
              "\n",
              "    .dataframe thead th {\n",
              "        text-align: right;\n",
              "    }\n",
              "</style>\n",
              "<table border=\"1\" class=\"dataframe\">\n",
              "  <thead>\n",
              "    <tr style=\"text-align: right;\">\n",
              "      <th></th>\n",
              "      <th>ADXL345_x</th>\n",
              "      <th>ADXL345_y</th>\n",
              "      <th>ADXL345_z</th>\n",
              "      <th>ITG3200_x</th>\n",
              "      <th>ITG3200_y</th>\n",
              "      <th>ITG3200_z</th>\n",
              "      <th>MMA8451Q_x</th>\n",
              "      <th>MMA8451Q_y</th>\n",
              "      <th>MMA8451Q_z</th>\n",
              "    </tr>\n",
              "  </thead>\n",
              "  <tbody>\n",
              "    <tr>\n",
              "      <th>ADXL345_x</th>\n",
              "      <td>1.000000</td>\n",
              "      <td>-0.076691</td>\n",
              "      <td>-0.056602</td>\n",
              "      <td>0.035481</td>\n",
              "      <td>0.084200</td>\n",
              "      <td>-0.045927</td>\n",
              "      <td>0.995484</td>\n",
              "      <td>-0.071630</td>\n",
              "      <td>-0.056728</td>\n",
              "    </tr>\n",
              "    <tr>\n",
              "      <th>ADXL345_y</th>\n",
              "      <td>-0.076691</td>\n",
              "      <td>1.000000</td>\n",
              "      <td>0.034893</td>\n",
              "      <td>0.140829</td>\n",
              "      <td>-0.003553</td>\n",
              "      <td>-0.021784</td>\n",
              "      <td>-0.084403</td>\n",
              "      <td>0.997989</td>\n",
              "      <td>0.024153</td>\n",
              "    </tr>\n",
              "    <tr>\n",
              "      <th>ADXL345_z</th>\n",
              "      <td>-0.056602</td>\n",
              "      <td>0.034893</td>\n",
              "      <td>1.000000</td>\n",
              "      <td>0.093948</td>\n",
              "      <td>-0.000801</td>\n",
              "      <td>-0.006888</td>\n",
              "      <td>-0.047330</td>\n",
              "      <td>0.023882</td>\n",
              "      <td>0.990507</td>\n",
              "    </tr>\n",
              "    <tr>\n",
              "      <th>ITG3200_x</th>\n",
              "      <td>0.035481</td>\n",
              "      <td>0.140829</td>\n",
              "      <td>0.093948</td>\n",
              "      <td>1.000000</td>\n",
              "      <td>0.020802</td>\n",
              "      <td>-0.065837</td>\n",
              "      <td>0.038472</td>\n",
              "      <td>0.131371</td>\n",
              "      <td>0.087867</td>\n",
              "    </tr>\n",
              "    <tr>\n",
              "      <th>ITG3200_y</th>\n",
              "      <td>0.084200</td>\n",
              "      <td>-0.003553</td>\n",
              "      <td>-0.000801</td>\n",
              "      <td>0.020802</td>\n",
              "      <td>1.000000</td>\n",
              "      <td>-0.143351</td>\n",
              "      <td>0.086812</td>\n",
              "      <td>-0.001671</td>\n",
              "      <td>0.001043</td>\n",
              "    </tr>\n",
              "    <tr>\n",
              "      <th>ITG3200_z</th>\n",
              "      <td>-0.045927</td>\n",
              "      <td>-0.021784</td>\n",
              "      <td>-0.006888</td>\n",
              "      <td>-0.065837</td>\n",
              "      <td>-0.143351</td>\n",
              "      <td>1.000000</td>\n",
              "      <td>-0.049881</td>\n",
              "      <td>-0.021016</td>\n",
              "      <td>-0.006523</td>\n",
              "    </tr>\n",
              "    <tr>\n",
              "      <th>MMA8451Q_x</th>\n",
              "      <td>0.995484</td>\n",
              "      <td>-0.084403</td>\n",
              "      <td>-0.047330</td>\n",
              "      <td>0.038472</td>\n",
              "      <td>0.086812</td>\n",
              "      <td>-0.049881</td>\n",
              "      <td>1.000000</td>\n",
              "      <td>-0.082268</td>\n",
              "      <td>-0.055495</td>\n",
              "    </tr>\n",
              "    <tr>\n",
              "      <th>MMA8451Q_y</th>\n",
              "      <td>-0.071630</td>\n",
              "      <td>0.997989</td>\n",
              "      <td>0.023882</td>\n",
              "      <td>0.131371</td>\n",
              "      <td>-0.001671</td>\n",
              "      <td>-0.021016</td>\n",
              "      <td>-0.082268</td>\n",
              "      <td>1.000000</td>\n",
              "      <td>0.018343</td>\n",
              "    </tr>\n",
              "    <tr>\n",
              "      <th>MMA8451Q_z</th>\n",
              "      <td>-0.056728</td>\n",
              "      <td>0.024153</td>\n",
              "      <td>0.990507</td>\n",
              "      <td>0.087867</td>\n",
              "      <td>0.001043</td>\n",
              "      <td>-0.006523</td>\n",
              "      <td>-0.055495</td>\n",
              "      <td>0.018343</td>\n",
              "      <td>1.000000</td>\n",
              "    </tr>\n",
              "  </tbody>\n",
              "</table>\n",
              "</div>\n",
              "      <button class=\"colab-df-convert\" onclick=\"convertToInteractive('df-a387c6e0-8121-47da-8add-a2930193ab63')\"\n",
              "              title=\"Convert this dataframe to an interactive table.\"\n",
              "              style=\"display:none;\">\n",
              "        \n",
              "  <svg xmlns=\"http://www.w3.org/2000/svg\" height=\"24px\"viewBox=\"0 0 24 24\"\n",
              "       width=\"24px\">\n",
              "    <path d=\"M0 0h24v24H0V0z\" fill=\"none\"/>\n",
              "    <path d=\"M18.56 5.44l.94 2.06.94-2.06 2.06-.94-2.06-.94-.94-2.06-.94 2.06-2.06.94zm-11 1L8.5 8.5l.94-2.06 2.06-.94-2.06-.94L8.5 2.5l-.94 2.06-2.06.94zm10 10l.94 2.06.94-2.06 2.06-.94-2.06-.94-.94-2.06-.94 2.06-2.06.94z\"/><path d=\"M17.41 7.96l-1.37-1.37c-.4-.4-.92-.59-1.43-.59-.52 0-1.04.2-1.43.59L10.3 9.45l-7.72 7.72c-.78.78-.78 2.05 0 2.83L4 21.41c.39.39.9.59 1.41.59.51 0 1.02-.2 1.41-.59l7.78-7.78 2.81-2.81c.8-.78.8-2.07 0-2.86zM5.41 20L4 18.59l7.72-7.72 1.47 1.35L5.41 20z\"/>\n",
              "  </svg>\n",
              "      </button>\n",
              "      \n",
              "  <style>\n",
              "    .colab-df-container {\n",
              "      display:flex;\n",
              "      flex-wrap:wrap;\n",
              "      gap: 12px;\n",
              "    }\n",
              "\n",
              "    .colab-df-convert {\n",
              "      background-color: #E8F0FE;\n",
              "      border: none;\n",
              "      border-radius: 50%;\n",
              "      cursor: pointer;\n",
              "      display: none;\n",
              "      fill: #1967D2;\n",
              "      height: 32px;\n",
              "      padding: 0 0 0 0;\n",
              "      width: 32px;\n",
              "    }\n",
              "\n",
              "    .colab-df-convert:hover {\n",
              "      background-color: #E2EBFA;\n",
              "      box-shadow: 0px 1px 2px rgba(60, 64, 67, 0.3), 0px 1px 3px 1px rgba(60, 64, 67, 0.15);\n",
              "      fill: #174EA6;\n",
              "    }\n",
              "\n",
              "    [theme=dark] .colab-df-convert {\n",
              "      background-color: #3B4455;\n",
              "      fill: #D2E3FC;\n",
              "    }\n",
              "\n",
              "    [theme=dark] .colab-df-convert:hover {\n",
              "      background-color: #434B5C;\n",
              "      box-shadow: 0px 1px 3px 1px rgba(0, 0, 0, 0.15);\n",
              "      filter: drop-shadow(0px 1px 2px rgba(0, 0, 0, 0.3));\n",
              "      fill: #FFFFFF;\n",
              "    }\n",
              "  </style>\n",
              "\n",
              "      <script>\n",
              "        const buttonEl =\n",
              "          document.querySelector('#df-a387c6e0-8121-47da-8add-a2930193ab63 button.colab-df-convert');\n",
              "        buttonEl.style.display =\n",
              "          google.colab.kernel.accessAllowed ? 'block' : 'none';\n",
              "\n",
              "        async function convertToInteractive(key) {\n",
              "          const element = document.querySelector('#df-a387c6e0-8121-47da-8add-a2930193ab63');\n",
              "          const dataTable =\n",
              "            await google.colab.kernel.invokeFunction('convertToInteractive',\n",
              "                                                     [key], {});\n",
              "          if (!dataTable) return;\n",
              "\n",
              "          const docLinkHtml = 'Like what you see? Visit the ' +\n",
              "            '<a target=\"_blank\" href=https://colab.research.google.com/notebooks/data_table.ipynb>data table notebook</a>'\n",
              "            + ' to learn more about interactive tables.';\n",
              "          element.innerHTML = '';\n",
              "          dataTable['output_type'] = 'display_data';\n",
              "          await google.colab.output.renderOutput(dataTable, element);\n",
              "          const docLink = document.createElement('div');\n",
              "          docLink.innerHTML = docLinkHtml;\n",
              "          element.appendChild(docLink);\n",
              "        }\n",
              "      </script>\n",
              "    </div>\n",
              "  </div>\n",
              "  "
            ]
          },
          "metadata": {},
          "execution_count": 12
        }
      ],
      "source": [
        "df.corr()"
      ],
      "id": "d03d1ef2"
    },
    {
      "cell_type": "markdown",
      "metadata": {
        "id": "c967e636-12df-457c-868f-c0f6a663d648"
      },
      "source": [
        "### CLEANING THE DATA"
      ],
      "id": "c967e636-12df-457c-868f-c0f6a663d648"
    },
    {
      "cell_type": "code",
      "execution_count": null,
      "metadata": {
        "colab": {
          "base_uri": "https://localhost:8080/",
          "height": 487
        },
        "id": "dac8d44e",
        "outputId": "6f9f4264-a149-471f-f662-5988ea9b7af6"
      },
      "outputs": [
        {
          "output_type": "execute_result",
          "data": {
            "text/plain": [
              "         ADXL345_x  ADXL345_y  ADXL345_z  ITG3200_x  ITG3200_y  ITG3200_z  \\\n",
              "1125183      False      False      False      False      False      False   \n",
              "25825        False      False      False      False      False      False   \n",
              "792140       False      False      False      False      False      False   \n",
              "1954170      False      False      False      False      False      False   \n",
              "282235       False      False      False      False      False      False   \n",
              "...            ...        ...        ...        ...        ...        ...   \n",
              "1429012      False      False      False      False      False      False   \n",
              "245329       False      False      False      False      False      False   \n",
              "1737097      False      False      False      False      False      False   \n",
              "713682       False      False      False      False      False      False   \n",
              "914719       False      False      False      False      False      False   \n",
              "\n",
              "         MMA8451Q_x  MMA8451Q_y  MMA8451Q_z  Situation  \n",
              "1125183       False       False       False      False  \n",
              "25825         False       False       False      False  \n",
              "792140        False       False       False      False  \n",
              "1954170       False       False       False      False  \n",
              "282235        False       False       False      False  \n",
              "...             ...         ...         ...        ...  \n",
              "1429012       False       False       False      False  \n",
              "245329        False       False       False      False  \n",
              "1737097       False       False       False      False  \n",
              "713682        False       False       False      False  \n",
              "914719        False       False       False      False  \n",
              "\n",
              "[21000 rows x 10 columns]"
            ],
            "text/html": [
              "\n",
              "  <div id=\"df-b6b9e5f6-5145-49c4-b903-bb47c451ac64\">\n",
              "    <div class=\"colab-df-container\">\n",
              "      <div>\n",
              "<style scoped>\n",
              "    .dataframe tbody tr th:only-of-type {\n",
              "        vertical-align: middle;\n",
              "    }\n",
              "\n",
              "    .dataframe tbody tr th {\n",
              "        vertical-align: top;\n",
              "    }\n",
              "\n",
              "    .dataframe thead th {\n",
              "        text-align: right;\n",
              "    }\n",
              "</style>\n",
              "<table border=\"1\" class=\"dataframe\">\n",
              "  <thead>\n",
              "    <tr style=\"text-align: right;\">\n",
              "      <th></th>\n",
              "      <th>ADXL345_x</th>\n",
              "      <th>ADXL345_y</th>\n",
              "      <th>ADXL345_z</th>\n",
              "      <th>ITG3200_x</th>\n",
              "      <th>ITG3200_y</th>\n",
              "      <th>ITG3200_z</th>\n",
              "      <th>MMA8451Q_x</th>\n",
              "      <th>MMA8451Q_y</th>\n",
              "      <th>MMA8451Q_z</th>\n",
              "      <th>Situation</th>\n",
              "    </tr>\n",
              "  </thead>\n",
              "  <tbody>\n",
              "    <tr>\n",
              "      <th>1125183</th>\n",
              "      <td>False</td>\n",
              "      <td>False</td>\n",
              "      <td>False</td>\n",
              "      <td>False</td>\n",
              "      <td>False</td>\n",
              "      <td>False</td>\n",
              "      <td>False</td>\n",
              "      <td>False</td>\n",
              "      <td>False</td>\n",
              "      <td>False</td>\n",
              "    </tr>\n",
              "    <tr>\n",
              "      <th>25825</th>\n",
              "      <td>False</td>\n",
              "      <td>False</td>\n",
              "      <td>False</td>\n",
              "      <td>False</td>\n",
              "      <td>False</td>\n",
              "      <td>False</td>\n",
              "      <td>False</td>\n",
              "      <td>False</td>\n",
              "      <td>False</td>\n",
              "      <td>False</td>\n",
              "    </tr>\n",
              "    <tr>\n",
              "      <th>792140</th>\n",
              "      <td>False</td>\n",
              "      <td>False</td>\n",
              "      <td>False</td>\n",
              "      <td>False</td>\n",
              "      <td>False</td>\n",
              "      <td>False</td>\n",
              "      <td>False</td>\n",
              "      <td>False</td>\n",
              "      <td>False</td>\n",
              "      <td>False</td>\n",
              "    </tr>\n",
              "    <tr>\n",
              "      <th>1954170</th>\n",
              "      <td>False</td>\n",
              "      <td>False</td>\n",
              "      <td>False</td>\n",
              "      <td>False</td>\n",
              "      <td>False</td>\n",
              "      <td>False</td>\n",
              "      <td>False</td>\n",
              "      <td>False</td>\n",
              "      <td>False</td>\n",
              "      <td>False</td>\n",
              "    </tr>\n",
              "    <tr>\n",
              "      <th>282235</th>\n",
              "      <td>False</td>\n",
              "      <td>False</td>\n",
              "      <td>False</td>\n",
              "      <td>False</td>\n",
              "      <td>False</td>\n",
              "      <td>False</td>\n",
              "      <td>False</td>\n",
              "      <td>False</td>\n",
              "      <td>False</td>\n",
              "      <td>False</td>\n",
              "    </tr>\n",
              "    <tr>\n",
              "      <th>...</th>\n",
              "      <td>...</td>\n",
              "      <td>...</td>\n",
              "      <td>...</td>\n",
              "      <td>...</td>\n",
              "      <td>...</td>\n",
              "      <td>...</td>\n",
              "      <td>...</td>\n",
              "      <td>...</td>\n",
              "      <td>...</td>\n",
              "      <td>...</td>\n",
              "    </tr>\n",
              "    <tr>\n",
              "      <th>1429012</th>\n",
              "      <td>False</td>\n",
              "      <td>False</td>\n",
              "      <td>False</td>\n",
              "      <td>False</td>\n",
              "      <td>False</td>\n",
              "      <td>False</td>\n",
              "      <td>False</td>\n",
              "      <td>False</td>\n",
              "      <td>False</td>\n",
              "      <td>False</td>\n",
              "    </tr>\n",
              "    <tr>\n",
              "      <th>245329</th>\n",
              "      <td>False</td>\n",
              "      <td>False</td>\n",
              "      <td>False</td>\n",
              "      <td>False</td>\n",
              "      <td>False</td>\n",
              "      <td>False</td>\n",
              "      <td>False</td>\n",
              "      <td>False</td>\n",
              "      <td>False</td>\n",
              "      <td>False</td>\n",
              "    </tr>\n",
              "    <tr>\n",
              "      <th>1737097</th>\n",
              "      <td>False</td>\n",
              "      <td>False</td>\n",
              "      <td>False</td>\n",
              "      <td>False</td>\n",
              "      <td>False</td>\n",
              "      <td>False</td>\n",
              "      <td>False</td>\n",
              "      <td>False</td>\n",
              "      <td>False</td>\n",
              "      <td>False</td>\n",
              "    </tr>\n",
              "    <tr>\n",
              "      <th>713682</th>\n",
              "      <td>False</td>\n",
              "      <td>False</td>\n",
              "      <td>False</td>\n",
              "      <td>False</td>\n",
              "      <td>False</td>\n",
              "      <td>False</td>\n",
              "      <td>False</td>\n",
              "      <td>False</td>\n",
              "      <td>False</td>\n",
              "      <td>False</td>\n",
              "    </tr>\n",
              "    <tr>\n",
              "      <th>914719</th>\n",
              "      <td>False</td>\n",
              "      <td>False</td>\n",
              "      <td>False</td>\n",
              "      <td>False</td>\n",
              "      <td>False</td>\n",
              "      <td>False</td>\n",
              "      <td>False</td>\n",
              "      <td>False</td>\n",
              "      <td>False</td>\n",
              "      <td>False</td>\n",
              "    </tr>\n",
              "  </tbody>\n",
              "</table>\n",
              "<p>21000 rows × 10 columns</p>\n",
              "</div>\n",
              "      <button class=\"colab-df-convert\" onclick=\"convertToInteractive('df-b6b9e5f6-5145-49c4-b903-bb47c451ac64')\"\n",
              "              title=\"Convert this dataframe to an interactive table.\"\n",
              "              style=\"display:none;\">\n",
              "        \n",
              "  <svg xmlns=\"http://www.w3.org/2000/svg\" height=\"24px\"viewBox=\"0 0 24 24\"\n",
              "       width=\"24px\">\n",
              "    <path d=\"M0 0h24v24H0V0z\" fill=\"none\"/>\n",
              "    <path d=\"M18.56 5.44l.94 2.06.94-2.06 2.06-.94-2.06-.94-.94-2.06-.94 2.06-2.06.94zm-11 1L8.5 8.5l.94-2.06 2.06-.94-2.06-.94L8.5 2.5l-.94 2.06-2.06.94zm10 10l.94 2.06.94-2.06 2.06-.94-2.06-.94-.94-2.06-.94 2.06-2.06.94z\"/><path d=\"M17.41 7.96l-1.37-1.37c-.4-.4-.92-.59-1.43-.59-.52 0-1.04.2-1.43.59L10.3 9.45l-7.72 7.72c-.78.78-.78 2.05 0 2.83L4 21.41c.39.39.9.59 1.41.59.51 0 1.02-.2 1.41-.59l7.78-7.78 2.81-2.81c.8-.78.8-2.07 0-2.86zM5.41 20L4 18.59l7.72-7.72 1.47 1.35L5.41 20z\"/>\n",
              "  </svg>\n",
              "      </button>\n",
              "      \n",
              "  <style>\n",
              "    .colab-df-container {\n",
              "      display:flex;\n",
              "      flex-wrap:wrap;\n",
              "      gap: 12px;\n",
              "    }\n",
              "\n",
              "    .colab-df-convert {\n",
              "      background-color: #E8F0FE;\n",
              "      border: none;\n",
              "      border-radius: 50%;\n",
              "      cursor: pointer;\n",
              "      display: none;\n",
              "      fill: #1967D2;\n",
              "      height: 32px;\n",
              "      padding: 0 0 0 0;\n",
              "      width: 32px;\n",
              "    }\n",
              "\n",
              "    .colab-df-convert:hover {\n",
              "      background-color: #E2EBFA;\n",
              "      box-shadow: 0px 1px 2px rgba(60, 64, 67, 0.3), 0px 1px 3px 1px rgba(60, 64, 67, 0.15);\n",
              "      fill: #174EA6;\n",
              "    }\n",
              "\n",
              "    [theme=dark] .colab-df-convert {\n",
              "      background-color: #3B4455;\n",
              "      fill: #D2E3FC;\n",
              "    }\n",
              "\n",
              "    [theme=dark] .colab-df-convert:hover {\n",
              "      background-color: #434B5C;\n",
              "      box-shadow: 0px 1px 3px 1px rgba(0, 0, 0, 0.15);\n",
              "      filter: drop-shadow(0px 1px 2px rgba(0, 0, 0, 0.3));\n",
              "      fill: #FFFFFF;\n",
              "    }\n",
              "  </style>\n",
              "\n",
              "      <script>\n",
              "        const buttonEl =\n",
              "          document.querySelector('#df-b6b9e5f6-5145-49c4-b903-bb47c451ac64 button.colab-df-convert');\n",
              "        buttonEl.style.display =\n",
              "          google.colab.kernel.accessAllowed ? 'block' : 'none';\n",
              "\n",
              "        async function convertToInteractive(key) {\n",
              "          const element = document.querySelector('#df-b6b9e5f6-5145-49c4-b903-bb47c451ac64');\n",
              "          const dataTable =\n",
              "            await google.colab.kernel.invokeFunction('convertToInteractive',\n",
              "                                                     [key], {});\n",
              "          if (!dataTable) return;\n",
              "\n",
              "          const docLinkHtml = 'Like what you see? Visit the ' +\n",
              "            '<a target=\"_blank\" href=https://colab.research.google.com/notebooks/data_table.ipynb>data table notebook</a>'\n",
              "            + ' to learn more about interactive tables.';\n",
              "          element.innerHTML = '';\n",
              "          dataTable['output_type'] = 'display_data';\n",
              "          await google.colab.output.renderOutput(dataTable, element);\n",
              "          const docLink = document.createElement('div');\n",
              "          docLink.innerHTML = docLinkHtml;\n",
              "          element.appendChild(docLink);\n",
              "        }\n",
              "      </script>\n",
              "    </div>\n",
              "  </div>\n",
              "  "
            ]
          },
          "metadata": {},
          "execution_count": 13
        }
      ],
      "source": [
        "df.isnull()"
      ],
      "id": "dac8d44e"
    },
    {
      "cell_type": "code",
      "execution_count": null,
      "metadata": {
        "colab": {
          "base_uri": "https://localhost:8080/"
        },
        "id": "11dc7deb-ffad-449b-b8c2-89b29fcf2315",
        "outputId": "1105c23a-d303-4cf7-82f5-54d51fd7c949"
      },
      "outputs": [
        {
          "output_type": "execute_result",
          "data": {
            "text/plain": [
              "False"
            ]
          },
          "metadata": {},
          "execution_count": 14
        }
      ],
      "source": [
        "df.isnull().values.any()"
      ],
      "id": "11dc7deb-ffad-449b-b8c2-89b29fcf2315"
    },
    {
      "cell_type": "code",
      "execution_count": null,
      "metadata": {
        "id": "9e1da488-c2a8-4a8c-b465-59a26443917d"
      },
      "outputs": [],
      "source": [
        "df.drop_duplicates(inplace = True)"
      ],
      "id": "9e1da488-c2a8-4a8c-b465-59a26443917d"
    },
    {
      "cell_type": "code",
      "execution_count": null,
      "metadata": {
        "colab": {
          "base_uri": "https://localhost:8080/"
        },
        "id": "586a4d70-8531-496d-a153-a053de0b7c57",
        "outputId": "a6108ab7-97fc-4076-80ea-7d332946f9e6"
      },
      "outputs": [
        {
          "output_type": "execute_result",
          "data": {
            "text/plain": [
              "Not Fall    10513\n",
              "Fall        10486\n",
              "Name: Situation, dtype: int64"
            ]
          },
          "metadata": {},
          "execution_count": 16
        }
      ],
      "source": [
        "df['Situation'].value_counts()"
      ],
      "id": "586a4d70-8531-496d-a153-a053de0b7c57"
    },
    {
      "cell_type": "markdown",
      "metadata": {
        "id": "79b21780-c4ea-43d8-85d1-949fa22e865a"
      },
      "source": [
        "##### In the current work, accelerometer data from a wearable sensor is used, so dropping the unwanted columns"
      ],
      "id": "79b21780-c4ea-43d8-85d1-949fa22e865a"
    },
    {
      "cell_type": "code",
      "execution_count": null,
      "metadata": {
        "id": "a7ec88d5-21fc-4da3-9ddc-00a55add918a"
      },
      "outputs": [],
      "source": [
        "df.drop(columns = ['ITG3200_x','ITG3200_y','ITG3200_z','MMA8451Q_x','MMA8451Q_y','MMA8451Q_z'] , inplace= True)"
      ],
      "id": "a7ec88d5-21fc-4da3-9ddc-00a55add918a"
    },
    {
      "cell_type": "code",
      "execution_count": null,
      "metadata": {
        "colab": {
          "base_uri": "https://localhost:8080/",
          "height": 423
        },
        "id": "fb1200c1-f155-412d-b87a-acb4747ea294",
        "outputId": "0c344b1e-686d-4621-edfd-99ee605458f4"
      },
      "outputs": [
        {
          "output_type": "execute_result",
          "data": {
            "text/plain": [
              "         ADXL345_x  ADXL345_y  ADXL345_z Situation\n",
              "1125183         -2       -260        -36  Not Fall\n",
              "25825          152         62       -216      Fall\n",
              "792140          28       -182        139      Fall\n",
              "1954170         78       -443         39  Not Fall\n",
              "282235          16       -259        -59      Fall\n",
              "...            ...        ...        ...       ...\n",
              "1429012          0       -249        -35  Not Fall\n",
              "245329        -233         -4       -112      Fall\n",
              "1737097         23       -258        -11  Not Fall\n",
              "713682          61         16        207      Fall\n",
              "914719         -40        -14       -246      Fall\n",
              "\n",
              "[20999 rows x 4 columns]"
            ],
            "text/html": [
              "\n",
              "  <div id=\"df-3e390607-038d-491b-abca-6778512f8c11\">\n",
              "    <div class=\"colab-df-container\">\n",
              "      <div>\n",
              "<style scoped>\n",
              "    .dataframe tbody tr th:only-of-type {\n",
              "        vertical-align: middle;\n",
              "    }\n",
              "\n",
              "    .dataframe tbody tr th {\n",
              "        vertical-align: top;\n",
              "    }\n",
              "\n",
              "    .dataframe thead th {\n",
              "        text-align: right;\n",
              "    }\n",
              "</style>\n",
              "<table border=\"1\" class=\"dataframe\">\n",
              "  <thead>\n",
              "    <tr style=\"text-align: right;\">\n",
              "      <th></th>\n",
              "      <th>ADXL345_x</th>\n",
              "      <th>ADXL345_y</th>\n",
              "      <th>ADXL345_z</th>\n",
              "      <th>Situation</th>\n",
              "    </tr>\n",
              "  </thead>\n",
              "  <tbody>\n",
              "    <tr>\n",
              "      <th>1125183</th>\n",
              "      <td>-2</td>\n",
              "      <td>-260</td>\n",
              "      <td>-36</td>\n",
              "      <td>Not Fall</td>\n",
              "    </tr>\n",
              "    <tr>\n",
              "      <th>25825</th>\n",
              "      <td>152</td>\n",
              "      <td>62</td>\n",
              "      <td>-216</td>\n",
              "      <td>Fall</td>\n",
              "    </tr>\n",
              "    <tr>\n",
              "      <th>792140</th>\n",
              "      <td>28</td>\n",
              "      <td>-182</td>\n",
              "      <td>139</td>\n",
              "      <td>Fall</td>\n",
              "    </tr>\n",
              "    <tr>\n",
              "      <th>1954170</th>\n",
              "      <td>78</td>\n",
              "      <td>-443</td>\n",
              "      <td>39</td>\n",
              "      <td>Not Fall</td>\n",
              "    </tr>\n",
              "    <tr>\n",
              "      <th>282235</th>\n",
              "      <td>16</td>\n",
              "      <td>-259</td>\n",
              "      <td>-59</td>\n",
              "      <td>Fall</td>\n",
              "    </tr>\n",
              "    <tr>\n",
              "      <th>...</th>\n",
              "      <td>...</td>\n",
              "      <td>...</td>\n",
              "      <td>...</td>\n",
              "      <td>...</td>\n",
              "    </tr>\n",
              "    <tr>\n",
              "      <th>1429012</th>\n",
              "      <td>0</td>\n",
              "      <td>-249</td>\n",
              "      <td>-35</td>\n",
              "      <td>Not Fall</td>\n",
              "    </tr>\n",
              "    <tr>\n",
              "      <th>245329</th>\n",
              "      <td>-233</td>\n",
              "      <td>-4</td>\n",
              "      <td>-112</td>\n",
              "      <td>Fall</td>\n",
              "    </tr>\n",
              "    <tr>\n",
              "      <th>1737097</th>\n",
              "      <td>23</td>\n",
              "      <td>-258</td>\n",
              "      <td>-11</td>\n",
              "      <td>Not Fall</td>\n",
              "    </tr>\n",
              "    <tr>\n",
              "      <th>713682</th>\n",
              "      <td>61</td>\n",
              "      <td>16</td>\n",
              "      <td>207</td>\n",
              "      <td>Fall</td>\n",
              "    </tr>\n",
              "    <tr>\n",
              "      <th>914719</th>\n",
              "      <td>-40</td>\n",
              "      <td>-14</td>\n",
              "      <td>-246</td>\n",
              "      <td>Fall</td>\n",
              "    </tr>\n",
              "  </tbody>\n",
              "</table>\n",
              "<p>20999 rows × 4 columns</p>\n",
              "</div>\n",
              "      <button class=\"colab-df-convert\" onclick=\"convertToInteractive('df-3e390607-038d-491b-abca-6778512f8c11')\"\n",
              "              title=\"Convert this dataframe to an interactive table.\"\n",
              "              style=\"display:none;\">\n",
              "        \n",
              "  <svg xmlns=\"http://www.w3.org/2000/svg\" height=\"24px\"viewBox=\"0 0 24 24\"\n",
              "       width=\"24px\">\n",
              "    <path d=\"M0 0h24v24H0V0z\" fill=\"none\"/>\n",
              "    <path d=\"M18.56 5.44l.94 2.06.94-2.06 2.06-.94-2.06-.94-.94-2.06-.94 2.06-2.06.94zm-11 1L8.5 8.5l.94-2.06 2.06-.94-2.06-.94L8.5 2.5l-.94 2.06-2.06.94zm10 10l.94 2.06.94-2.06 2.06-.94-2.06-.94-.94-2.06-.94 2.06-2.06.94z\"/><path d=\"M17.41 7.96l-1.37-1.37c-.4-.4-.92-.59-1.43-.59-.52 0-1.04.2-1.43.59L10.3 9.45l-7.72 7.72c-.78.78-.78 2.05 0 2.83L4 21.41c.39.39.9.59 1.41.59.51 0 1.02-.2 1.41-.59l7.78-7.78 2.81-2.81c.8-.78.8-2.07 0-2.86zM5.41 20L4 18.59l7.72-7.72 1.47 1.35L5.41 20z\"/>\n",
              "  </svg>\n",
              "      </button>\n",
              "      \n",
              "  <style>\n",
              "    .colab-df-container {\n",
              "      display:flex;\n",
              "      flex-wrap:wrap;\n",
              "      gap: 12px;\n",
              "    }\n",
              "\n",
              "    .colab-df-convert {\n",
              "      background-color: #E8F0FE;\n",
              "      border: none;\n",
              "      border-radius: 50%;\n",
              "      cursor: pointer;\n",
              "      display: none;\n",
              "      fill: #1967D2;\n",
              "      height: 32px;\n",
              "      padding: 0 0 0 0;\n",
              "      width: 32px;\n",
              "    }\n",
              "\n",
              "    .colab-df-convert:hover {\n",
              "      background-color: #E2EBFA;\n",
              "      box-shadow: 0px 1px 2px rgba(60, 64, 67, 0.3), 0px 1px 3px 1px rgba(60, 64, 67, 0.15);\n",
              "      fill: #174EA6;\n",
              "    }\n",
              "\n",
              "    [theme=dark] .colab-df-convert {\n",
              "      background-color: #3B4455;\n",
              "      fill: #D2E3FC;\n",
              "    }\n",
              "\n",
              "    [theme=dark] .colab-df-convert:hover {\n",
              "      background-color: #434B5C;\n",
              "      box-shadow: 0px 1px 3px 1px rgba(0, 0, 0, 0.15);\n",
              "      filter: drop-shadow(0px 1px 2px rgba(0, 0, 0, 0.3));\n",
              "      fill: #FFFFFF;\n",
              "    }\n",
              "  </style>\n",
              "\n",
              "      <script>\n",
              "        const buttonEl =\n",
              "          document.querySelector('#df-3e390607-038d-491b-abca-6778512f8c11 button.colab-df-convert');\n",
              "        buttonEl.style.display =\n",
              "          google.colab.kernel.accessAllowed ? 'block' : 'none';\n",
              "\n",
              "        async function convertToInteractive(key) {\n",
              "          const element = document.querySelector('#df-3e390607-038d-491b-abca-6778512f8c11');\n",
              "          const dataTable =\n",
              "            await google.colab.kernel.invokeFunction('convertToInteractive',\n",
              "                                                     [key], {});\n",
              "          if (!dataTable) return;\n",
              "\n",
              "          const docLinkHtml = 'Like what you see? Visit the ' +\n",
              "            '<a target=\"_blank\" href=https://colab.research.google.com/notebooks/data_table.ipynb>data table notebook</a>'\n",
              "            + ' to learn more about interactive tables.';\n",
              "          element.innerHTML = '';\n",
              "          dataTable['output_type'] = 'display_data';\n",
              "          await google.colab.output.renderOutput(dataTable, element);\n",
              "          const docLink = document.createElement('div');\n",
              "          docLink.innerHTML = docLinkHtml;\n",
              "          element.appendChild(docLink);\n",
              "        }\n",
              "      </script>\n",
              "    </div>\n",
              "  </div>\n",
              "  "
            ]
          },
          "metadata": {},
          "execution_count": 18
        }
      ],
      "source": [
        "df"
      ],
      "id": "fb1200c1-f155-412d-b87a-acb4747ea294"
    },
    {
      "cell_type": "code",
      "execution_count": null,
      "metadata": {
        "id": "8dc5558a-0aa3-40f5-93ad-0f670f77bd75"
      },
      "outputs": [],
      "source": [
        "X= df.drop(columns =['Situation'])"
      ],
      "id": "8dc5558a-0aa3-40f5-93ad-0f670f77bd75"
    },
    {
      "cell_type": "code",
      "execution_count": null,
      "metadata": {
        "colab": {
          "base_uri": "https://localhost:8080/",
          "height": 423
        },
        "id": "18df4131-4225-4fa4-8d41-f11eca5f8abe",
        "outputId": "4ca35404-586a-436b-8dd8-c3280da7a947"
      },
      "outputs": [
        {
          "output_type": "execute_result",
          "data": {
            "text/plain": [
              "         ADXL345_x  ADXL345_y  ADXL345_z\n",
              "1125183         -2       -260        -36\n",
              "25825          152         62       -216\n",
              "792140          28       -182        139\n",
              "1954170         78       -443         39\n",
              "282235          16       -259        -59\n",
              "...            ...        ...        ...\n",
              "1429012          0       -249        -35\n",
              "245329        -233         -4       -112\n",
              "1737097         23       -258        -11\n",
              "713682          61         16        207\n",
              "914719         -40        -14       -246\n",
              "\n",
              "[20999 rows x 3 columns]"
            ],
            "text/html": [
              "\n",
              "  <div id=\"df-762e3c1b-527a-4390-b536-0c2567c24707\">\n",
              "    <div class=\"colab-df-container\">\n",
              "      <div>\n",
              "<style scoped>\n",
              "    .dataframe tbody tr th:only-of-type {\n",
              "        vertical-align: middle;\n",
              "    }\n",
              "\n",
              "    .dataframe tbody tr th {\n",
              "        vertical-align: top;\n",
              "    }\n",
              "\n",
              "    .dataframe thead th {\n",
              "        text-align: right;\n",
              "    }\n",
              "</style>\n",
              "<table border=\"1\" class=\"dataframe\">\n",
              "  <thead>\n",
              "    <tr style=\"text-align: right;\">\n",
              "      <th></th>\n",
              "      <th>ADXL345_x</th>\n",
              "      <th>ADXL345_y</th>\n",
              "      <th>ADXL345_z</th>\n",
              "    </tr>\n",
              "  </thead>\n",
              "  <tbody>\n",
              "    <tr>\n",
              "      <th>1125183</th>\n",
              "      <td>-2</td>\n",
              "      <td>-260</td>\n",
              "      <td>-36</td>\n",
              "    </tr>\n",
              "    <tr>\n",
              "      <th>25825</th>\n",
              "      <td>152</td>\n",
              "      <td>62</td>\n",
              "      <td>-216</td>\n",
              "    </tr>\n",
              "    <tr>\n",
              "      <th>792140</th>\n",
              "      <td>28</td>\n",
              "      <td>-182</td>\n",
              "      <td>139</td>\n",
              "    </tr>\n",
              "    <tr>\n",
              "      <th>1954170</th>\n",
              "      <td>78</td>\n",
              "      <td>-443</td>\n",
              "      <td>39</td>\n",
              "    </tr>\n",
              "    <tr>\n",
              "      <th>282235</th>\n",
              "      <td>16</td>\n",
              "      <td>-259</td>\n",
              "      <td>-59</td>\n",
              "    </tr>\n",
              "    <tr>\n",
              "      <th>...</th>\n",
              "      <td>...</td>\n",
              "      <td>...</td>\n",
              "      <td>...</td>\n",
              "    </tr>\n",
              "    <tr>\n",
              "      <th>1429012</th>\n",
              "      <td>0</td>\n",
              "      <td>-249</td>\n",
              "      <td>-35</td>\n",
              "    </tr>\n",
              "    <tr>\n",
              "      <th>245329</th>\n",
              "      <td>-233</td>\n",
              "      <td>-4</td>\n",
              "      <td>-112</td>\n",
              "    </tr>\n",
              "    <tr>\n",
              "      <th>1737097</th>\n",
              "      <td>23</td>\n",
              "      <td>-258</td>\n",
              "      <td>-11</td>\n",
              "    </tr>\n",
              "    <tr>\n",
              "      <th>713682</th>\n",
              "      <td>61</td>\n",
              "      <td>16</td>\n",
              "      <td>207</td>\n",
              "    </tr>\n",
              "    <tr>\n",
              "      <th>914719</th>\n",
              "      <td>-40</td>\n",
              "      <td>-14</td>\n",
              "      <td>-246</td>\n",
              "    </tr>\n",
              "  </tbody>\n",
              "</table>\n",
              "<p>20999 rows × 3 columns</p>\n",
              "</div>\n",
              "      <button class=\"colab-df-convert\" onclick=\"convertToInteractive('df-762e3c1b-527a-4390-b536-0c2567c24707')\"\n",
              "              title=\"Convert this dataframe to an interactive table.\"\n",
              "              style=\"display:none;\">\n",
              "        \n",
              "  <svg xmlns=\"http://www.w3.org/2000/svg\" height=\"24px\"viewBox=\"0 0 24 24\"\n",
              "       width=\"24px\">\n",
              "    <path d=\"M0 0h24v24H0V0z\" fill=\"none\"/>\n",
              "    <path d=\"M18.56 5.44l.94 2.06.94-2.06 2.06-.94-2.06-.94-.94-2.06-.94 2.06-2.06.94zm-11 1L8.5 8.5l.94-2.06 2.06-.94-2.06-.94L8.5 2.5l-.94 2.06-2.06.94zm10 10l.94 2.06.94-2.06 2.06-.94-2.06-.94-.94-2.06-.94 2.06-2.06.94z\"/><path d=\"M17.41 7.96l-1.37-1.37c-.4-.4-.92-.59-1.43-.59-.52 0-1.04.2-1.43.59L10.3 9.45l-7.72 7.72c-.78.78-.78 2.05 0 2.83L4 21.41c.39.39.9.59 1.41.59.51 0 1.02-.2 1.41-.59l7.78-7.78 2.81-2.81c.8-.78.8-2.07 0-2.86zM5.41 20L4 18.59l7.72-7.72 1.47 1.35L5.41 20z\"/>\n",
              "  </svg>\n",
              "      </button>\n",
              "      \n",
              "  <style>\n",
              "    .colab-df-container {\n",
              "      display:flex;\n",
              "      flex-wrap:wrap;\n",
              "      gap: 12px;\n",
              "    }\n",
              "\n",
              "    .colab-df-convert {\n",
              "      background-color: #E8F0FE;\n",
              "      border: none;\n",
              "      border-radius: 50%;\n",
              "      cursor: pointer;\n",
              "      display: none;\n",
              "      fill: #1967D2;\n",
              "      height: 32px;\n",
              "      padding: 0 0 0 0;\n",
              "      width: 32px;\n",
              "    }\n",
              "\n",
              "    .colab-df-convert:hover {\n",
              "      background-color: #E2EBFA;\n",
              "      box-shadow: 0px 1px 2px rgba(60, 64, 67, 0.3), 0px 1px 3px 1px rgba(60, 64, 67, 0.15);\n",
              "      fill: #174EA6;\n",
              "    }\n",
              "\n",
              "    [theme=dark] .colab-df-convert {\n",
              "      background-color: #3B4455;\n",
              "      fill: #D2E3FC;\n",
              "    }\n",
              "\n",
              "    [theme=dark] .colab-df-convert:hover {\n",
              "      background-color: #434B5C;\n",
              "      box-shadow: 0px 1px 3px 1px rgba(0, 0, 0, 0.15);\n",
              "      filter: drop-shadow(0px 1px 2px rgba(0, 0, 0, 0.3));\n",
              "      fill: #FFFFFF;\n",
              "    }\n",
              "  </style>\n",
              "\n",
              "      <script>\n",
              "        const buttonEl =\n",
              "          document.querySelector('#df-762e3c1b-527a-4390-b536-0c2567c24707 button.colab-df-convert');\n",
              "        buttonEl.style.display =\n",
              "          google.colab.kernel.accessAllowed ? 'block' : 'none';\n",
              "\n",
              "        async function convertToInteractive(key) {\n",
              "          const element = document.querySelector('#df-762e3c1b-527a-4390-b536-0c2567c24707');\n",
              "          const dataTable =\n",
              "            await google.colab.kernel.invokeFunction('convertToInteractive',\n",
              "                                                     [key], {});\n",
              "          if (!dataTable) return;\n",
              "\n",
              "          const docLinkHtml = 'Like what you see? Visit the ' +\n",
              "            '<a target=\"_blank\" href=https://colab.research.google.com/notebooks/data_table.ipynb>data table notebook</a>'\n",
              "            + ' to learn more about interactive tables.';\n",
              "          element.innerHTML = '';\n",
              "          dataTable['output_type'] = 'display_data';\n",
              "          await google.colab.output.renderOutput(dataTable, element);\n",
              "          const docLink = document.createElement('div');\n",
              "          docLink.innerHTML = docLinkHtml;\n",
              "          element.appendChild(docLink);\n",
              "        }\n",
              "      </script>\n",
              "    </div>\n",
              "  </div>\n",
              "  "
            ]
          },
          "metadata": {},
          "execution_count": 20
        }
      ],
      "source": [
        "X"
      ],
      "id": "18df4131-4225-4fa4-8d41-f11eca5f8abe"
    },
    {
      "cell_type": "code",
      "execution_count": null,
      "metadata": {
        "colab": {
          "base_uri": "https://localhost:8080/",
          "height": 300
        },
        "id": "ef71f488-a056-43f9-8ff1-c8cfc6c52c65",
        "outputId": "d037803a-f512-4bdb-cb66-8f450015a91a"
      },
      "outputs": [
        {
          "output_type": "execute_result",
          "data": {
            "text/plain": [
              "          ADXL345_x    ADXL345_y     ADXL345_z\n",
              "count  20999.000000  20999.00000  20999.000000\n",
              "mean       3.863136   -168.23163    -23.521739\n",
              "std      110.360802    154.72870    131.633183\n",
              "min    -1237.000000  -1801.00000  -1507.000000\n",
              "25%      -18.000000   -256.00000   -100.000000\n",
              "50%       10.000000   -222.00000    -32.000000\n",
              "75%       35.000000    -30.00000     49.000000\n",
              "max      930.000000    606.00000   1571.000000"
            ],
            "text/html": [
              "\n",
              "  <div id=\"df-2b91f581-60c4-406f-8be2-37dfbcc3f5a3\">\n",
              "    <div class=\"colab-df-container\">\n",
              "      <div>\n",
              "<style scoped>\n",
              "    .dataframe tbody tr th:only-of-type {\n",
              "        vertical-align: middle;\n",
              "    }\n",
              "\n",
              "    .dataframe tbody tr th {\n",
              "        vertical-align: top;\n",
              "    }\n",
              "\n",
              "    .dataframe thead th {\n",
              "        text-align: right;\n",
              "    }\n",
              "</style>\n",
              "<table border=\"1\" class=\"dataframe\">\n",
              "  <thead>\n",
              "    <tr style=\"text-align: right;\">\n",
              "      <th></th>\n",
              "      <th>ADXL345_x</th>\n",
              "      <th>ADXL345_y</th>\n",
              "      <th>ADXL345_z</th>\n",
              "    </tr>\n",
              "  </thead>\n",
              "  <tbody>\n",
              "    <tr>\n",
              "      <th>count</th>\n",
              "      <td>20999.000000</td>\n",
              "      <td>20999.00000</td>\n",
              "      <td>20999.000000</td>\n",
              "    </tr>\n",
              "    <tr>\n",
              "      <th>mean</th>\n",
              "      <td>3.863136</td>\n",
              "      <td>-168.23163</td>\n",
              "      <td>-23.521739</td>\n",
              "    </tr>\n",
              "    <tr>\n",
              "      <th>std</th>\n",
              "      <td>110.360802</td>\n",
              "      <td>154.72870</td>\n",
              "      <td>131.633183</td>\n",
              "    </tr>\n",
              "    <tr>\n",
              "      <th>min</th>\n",
              "      <td>-1237.000000</td>\n",
              "      <td>-1801.00000</td>\n",
              "      <td>-1507.000000</td>\n",
              "    </tr>\n",
              "    <tr>\n",
              "      <th>25%</th>\n",
              "      <td>-18.000000</td>\n",
              "      <td>-256.00000</td>\n",
              "      <td>-100.000000</td>\n",
              "    </tr>\n",
              "    <tr>\n",
              "      <th>50%</th>\n",
              "      <td>10.000000</td>\n",
              "      <td>-222.00000</td>\n",
              "      <td>-32.000000</td>\n",
              "    </tr>\n",
              "    <tr>\n",
              "      <th>75%</th>\n",
              "      <td>35.000000</td>\n",
              "      <td>-30.00000</td>\n",
              "      <td>49.000000</td>\n",
              "    </tr>\n",
              "    <tr>\n",
              "      <th>max</th>\n",
              "      <td>930.000000</td>\n",
              "      <td>606.00000</td>\n",
              "      <td>1571.000000</td>\n",
              "    </tr>\n",
              "  </tbody>\n",
              "</table>\n",
              "</div>\n",
              "      <button class=\"colab-df-convert\" onclick=\"convertToInteractive('df-2b91f581-60c4-406f-8be2-37dfbcc3f5a3')\"\n",
              "              title=\"Convert this dataframe to an interactive table.\"\n",
              "              style=\"display:none;\">\n",
              "        \n",
              "  <svg xmlns=\"http://www.w3.org/2000/svg\" height=\"24px\"viewBox=\"0 0 24 24\"\n",
              "       width=\"24px\">\n",
              "    <path d=\"M0 0h24v24H0V0z\" fill=\"none\"/>\n",
              "    <path d=\"M18.56 5.44l.94 2.06.94-2.06 2.06-.94-2.06-.94-.94-2.06-.94 2.06-2.06.94zm-11 1L8.5 8.5l.94-2.06 2.06-.94-2.06-.94L8.5 2.5l-.94 2.06-2.06.94zm10 10l.94 2.06.94-2.06 2.06-.94-2.06-.94-.94-2.06-.94 2.06-2.06.94z\"/><path d=\"M17.41 7.96l-1.37-1.37c-.4-.4-.92-.59-1.43-.59-.52 0-1.04.2-1.43.59L10.3 9.45l-7.72 7.72c-.78.78-.78 2.05 0 2.83L4 21.41c.39.39.9.59 1.41.59.51 0 1.02-.2 1.41-.59l7.78-7.78 2.81-2.81c.8-.78.8-2.07 0-2.86zM5.41 20L4 18.59l7.72-7.72 1.47 1.35L5.41 20z\"/>\n",
              "  </svg>\n",
              "      </button>\n",
              "      \n",
              "  <style>\n",
              "    .colab-df-container {\n",
              "      display:flex;\n",
              "      flex-wrap:wrap;\n",
              "      gap: 12px;\n",
              "    }\n",
              "\n",
              "    .colab-df-convert {\n",
              "      background-color: #E8F0FE;\n",
              "      border: none;\n",
              "      border-radius: 50%;\n",
              "      cursor: pointer;\n",
              "      display: none;\n",
              "      fill: #1967D2;\n",
              "      height: 32px;\n",
              "      padding: 0 0 0 0;\n",
              "      width: 32px;\n",
              "    }\n",
              "\n",
              "    .colab-df-convert:hover {\n",
              "      background-color: #E2EBFA;\n",
              "      box-shadow: 0px 1px 2px rgba(60, 64, 67, 0.3), 0px 1px 3px 1px rgba(60, 64, 67, 0.15);\n",
              "      fill: #174EA6;\n",
              "    }\n",
              "\n",
              "    [theme=dark] .colab-df-convert {\n",
              "      background-color: #3B4455;\n",
              "      fill: #D2E3FC;\n",
              "    }\n",
              "\n",
              "    [theme=dark] .colab-df-convert:hover {\n",
              "      background-color: #434B5C;\n",
              "      box-shadow: 0px 1px 3px 1px rgba(0, 0, 0, 0.15);\n",
              "      filter: drop-shadow(0px 1px 2px rgba(0, 0, 0, 0.3));\n",
              "      fill: #FFFFFF;\n",
              "    }\n",
              "  </style>\n",
              "\n",
              "      <script>\n",
              "        const buttonEl =\n",
              "          document.querySelector('#df-2b91f581-60c4-406f-8be2-37dfbcc3f5a3 button.colab-df-convert');\n",
              "        buttonEl.style.display =\n",
              "          google.colab.kernel.accessAllowed ? 'block' : 'none';\n",
              "\n",
              "        async function convertToInteractive(key) {\n",
              "          const element = document.querySelector('#df-2b91f581-60c4-406f-8be2-37dfbcc3f5a3');\n",
              "          const dataTable =\n",
              "            await google.colab.kernel.invokeFunction('convertToInteractive',\n",
              "                                                     [key], {});\n",
              "          if (!dataTable) return;\n",
              "\n",
              "          const docLinkHtml = 'Like what you see? Visit the ' +\n",
              "            '<a target=\"_blank\" href=https://colab.research.google.com/notebooks/data_table.ipynb>data table notebook</a>'\n",
              "            + ' to learn more about interactive tables.';\n",
              "          element.innerHTML = '';\n",
              "          dataTable['output_type'] = 'display_data';\n",
              "          await google.colab.output.renderOutput(dataTable, element);\n",
              "          const docLink = document.createElement('div');\n",
              "          docLink.innerHTML = docLinkHtml;\n",
              "          element.appendChild(docLink);\n",
              "        }\n",
              "      </script>\n",
              "    </div>\n",
              "  </div>\n",
              "  "
            ]
          },
          "metadata": {},
          "execution_count": 21
        }
      ],
      "source": [
        "X.describe()"
      ],
      "id": "ef71f488-a056-43f9-8ff1-c8cfc6c52c65"
    },
    {
      "cell_type": "code",
      "execution_count": null,
      "metadata": {
        "colab": {
          "base_uri": "https://localhost:8080/",
          "height": 449
        },
        "id": "73c54fd6-0ee5-4534-8167-54708fd4d0c6",
        "outputId": "8869cd77-0a36-4364-9d8a-feaba667b8d2"
      },
      "outputs": [
        {
          "output_type": "display_data",
          "data": {
            "text/plain": [
              "<Figure size 640x480 with 1 Axes>"
            ],
            "image/png": "[encoded data removed]"
          },
          "metadata": {}
        }
      ],
      "source": [
        "sns.boxplot(x =df['ADXL345_x']);"
      ],
      "id": "73c54fd6-0ee5-4534-8167-54708fd4d0c6"
    },
    {
      "cell_type": "markdown",
      "metadata": {
        "id": "b0d4b57c-7061-4729-80a3-643b22231cb6"
      },
      "source": [
        "#### Removing Outliers using IQR method"
      ],
      "id": "b0d4b57c-7061-4729-80a3-643b22231cb6"
    },
    {
      "cell_type": "code",
      "execution_count": null,
      "metadata": {
        "id": "ab04ee14-8c9a-42a4-9c93-454766d12e69"
      },
      "outputs": [],
      "source": [
        "\n",
        "'''\n",
        "def remove_outlier_IQR(x):\n",
        "    # x= int(x)\n",
        "    sorted(x)\n",
        "    Q1=np.quantile(df,0.25)\n",
        "    Q3=np.quantile(df,0.75)\n",
        "    IQR=Q3-Q1\n",
        "    lower = Q1-1.5*IQR\n",
        "    upper =Q3+1.5*IQR\n",
        "    # if(x<int(lower)):\n",
        "    #     (x) = lower\n",
        "    # if(x>int(upper)):\n",
        "    #     (x) = upper\n",
        "    x = (x.height >lower & x.height <upper)\n",
        "\n",
        "    sorted(df['ADXL345_x'])\n",
        "    Q1,Q3= np.percentile(df['ADXL345_x'],[25,75])\n",
        "    iqr=Q3-Q1\n",
        "    lower=Q1-(1.5*iqr)\n",
        "    upper=Q3+(1.5*iqr)\n",
        "'''\n",
        "\n",
        "sorted(df['ADXL345_x'])\n",
        "Q1,Q3= np.percentile(df['ADXL345_x'],[25,75])\n",
        "iqr=Q3-Q1\n",
        "lower=Q1-(1.5*iqr)\n",
        "upper=Q3+(1.5*iqr)\n",
        "\n",
        "        "
      ],
      "id": "ab04ee14-8c9a-42a4-9c93-454766d12e69"
    },
    {
      "cell_type": "code",
      "execution_count": null,
      "metadata": {
        "id": "980f2c06-a7fd-4426-a72b-16d50654957d"
      },
      "outputs": [],
      "source": [
        "df['ADXL345_x'] =df['ADXL345_x'][(df['ADXL345_x'].values >lower) & (df['ADXL345_x'].values <upper)]\n",
        "# df['ADXL345_x']=df['ADXL345_x'].apply(remove_outlier_IQR)"
      ],
      "id": "980f2c06-a7fd-4426-a72b-16d50654957d"
    },
    {
      "cell_type": "code",
      "source": [
        "sns.boxplot(x =df['ADXL345_x']);"
      ],
      "metadata": {
        "colab": {
          "base_uri": "https://localhost:8080/",
          "height": 449
        },
        "id": "Qb9oQ8yDflNn",
        "outputId": "bded3600-340c-4482-9ca2-45d1b386b9d4"
      },
      "id": "Qb9oQ8yDflNn",
      "execution_count": null,
      "outputs": [
        {
          "output_type": "display_data",
          "data": {
            "text/plain": [
              "<Figure size 640x480 with 1 Axes>"
            ],
            "image/png": "[encoded data removed]"
          },
          "metadata": {}
        }
      ]
    },
    {
      "cell_type": "code",
      "source": [
        "sns.boxplot(x =df['ADXL345_y']);"
      ],
      "metadata": {
        "colab": {
          "base_uri": "https://localhost:8080/",
          "height": 449
        },
        "id": "nopiEaodfpsc",
        "outputId": "0d8be1d6-7157-4738-98fc-16c6eee3d74b"
      },
      "id": "nopiEaodfpsc",
      "execution_count": null,
      "outputs": [
        {
          "output_type": "display_data",
          "data": {
            "text/plain": [
              "<Figure size 640x480 with 1 Axes>"
            ],
            "image/png": "[encoded data removed]"
          },
          "metadata": {}
        }
      ]
    },
    {
      "cell_type": "code",
      "source": [
        "sorted(df['ADXL345_y'])\n",
        "Q1,Q3= np.percentile(df['ADXL345_y'],[25,75])\n",
        "iqr=Q3-Q1\n",
        "lower=Q1-(1.5*iqr)\n",
        "upper=Q3+(1.5*iqr)\n",
        "df['ADXL345_y'] =df['ADXL345_y'][(df['ADXL345_y'].values >lower) & (df['ADXL345_y'].values <upper)]"
      ],
      "metadata": {
        "id": "2BGNFNYHecTR"
      },
      "id": "2BGNFNYHecTR",
      "execution_count": null,
      "outputs": []
    },
    {
      "cell_type": "code",
      "execution_count": null,
      "metadata": {
        "colab": {
          "base_uri": "https://localhost:8080/",
          "height": 449
        },
        "id": "a7660fa1-67f9-4bfe-a9b9-ae8c82a989c5",
        "outputId": "fee63dd9-b008-4aaa-e662-0a70a970a4c8"
      },
      "outputs": [
        {
          "output_type": "display_data",
          "data": {
            "text/plain": [
              "<Figure size 640x480 with 1 Axes>"
            ],
            "image/png": "[encoded data removed]"
          },
          "metadata": {}
        }
      ],
      "source": [
        "sns.boxplot(x =df['ADXL345_y']);"
      ],
      "id": "a7660fa1-67f9-4bfe-a9b9-ae8c82a989c5"
    },
    {
      "cell_type": "code",
      "source": [
        "sns.boxplot(x =df['ADXL345_z']);"
      ],
      "metadata": {
        "colab": {
          "base_uri": "https://localhost:8080/",
          "height": 449
        },
        "id": "gl4ICyeDfzx6",
        "outputId": "a09e8b46-9bdd-441b-8883-585a97e54a84"
      },
      "id": "gl4ICyeDfzx6",
      "execution_count": null,
      "outputs": [
        {
          "output_type": "display_data",
          "data": {
            "text/plain": [
              "<Figure size 640x480 with 1 Axes>"
            ],
            "image/png": "[encoded data removed]"
          },
          "metadata": {}
        }
      ]
    },
    {
      "cell_type": "code",
      "source": [
        "sorted(df['ADXL345_z'])\n",
        "Q1,Q3= np.percentile(df['ADXL345_z'],[25,75])\n",
        "iqr=Q3-Q1\n",
        "lower=Q1-(1.5*iqr)\n",
        "upper=Q3+(1.5*iqr)\n",
        "df['ADXL345_z'] =df['ADXL345_z'][(df['ADXL345_z'].values >lower) & (df['ADXL345_z'].values <upper)]"
      ],
      "metadata": {
        "id": "njm6GbCef5at"
      },
      "id": "njm6GbCef5at",
      "execution_count": null,
      "outputs": []
    },
    {
      "cell_type": "code",
      "source": [
        "sns.boxplot(x =df['ADXL345_z']);"
      ],
      "metadata": {
        "colab": {
          "base_uri": "https://localhost:8080/",
          "height": 449
        },
        "id": "EbT77CCUgCaY",
        "outputId": "8cc9c43a-d882-4ce9-fd24-89d9e2c8e86a"
      },
      "id": "EbT77CCUgCaY",
      "execution_count": null,
      "outputs": [
        {
          "output_type": "display_data",
          "data": {
            "text/plain": [
              "<Figure size 640x480 with 1 Axes>"
            ],
            "image/png": "[encoded data removed]"
          },
          "metadata": {}
        }
      ]
    },
    {
      "cell_type": "markdown",
      "metadata": {
        "id": "58bb4695-33d8-4ef2-9939-37468f8481ba"
      },
      "source": [
        "#### PREPROCESSING THE DATA"
      ],
      "id": "58bb4695-33d8-4ef2-9939-37468f8481ba"
    },
    {
      "cell_type": "code",
      "execution_count": null,
      "metadata": {
        "id": "9e311f82-f53e-4a4c-b326-6b3bf4bd0a02"
      },
      "outputs": [],
      "source": [
        "from sklearn.preprocessing import RobustScaler"
      ],
      "id": "9e311f82-f53e-4a4c-b326-6b3bf4bd0a02"
    },
    {
      "cell_type": "code",
      "execution_count": null,
      "metadata": {
        "id": "3c1af15f-3d35-4d9e-9d9b-8309fa47dedb"
      },
      "outputs": [],
      "source": [
        "SS= RobustScaler()"
      ],
      "id": "3c1af15f-3d35-4d9e-9d9b-8309fa47dedb"
    },
    {
      "cell_type": "code",
      "execution_count": null,
      "metadata": {
        "id": "11f3e969-de00-456f-84f0-6bc764ddc518"
      },
      "outputs": [],
      "source": [
        "X = SS.fit_transform(X)"
      ],
      "id": "11f3e969-de00-456f-84f0-6bc764ddc518"
    },
    {
      "cell_type": "code",
      "execution_count": null,
      "metadata": {
        "colab": {
          "base_uri": "https://localhost:8080/"
        },
        "id": "762be979-2823-4040-a54c-c7c782ac2e2e",
        "outputId": "f0b51ddc-136c-400f-bfb7-dcda6872e14b"
      },
      "outputs": [
        {
          "output_type": "execute_result",
          "data": {
            "text/plain": [
              "array([[-0.22641509, -0.16814159, -0.02684564],\n",
              "       [ 2.67924528,  1.25663717, -1.23489933],\n",
              "       [ 0.33962264,  0.17699115,  1.14765101],\n",
              "       ...,\n",
              "       [ 0.24528302, -0.15929204,  0.1409396 ],\n",
              "       [ 0.96226415,  1.05309735,  1.60402685],\n",
              "       [-0.94339623,  0.92035398, -1.43624161]])"
            ]
          },
          "metadata": {},
          "execution_count": 35
        }
      ],
      "source": [
        "X"
      ],
      "id": "762be979-2823-4040-a54c-c7c782ac2e2e"
    },
    {
      "cell_type": "code",
      "execution_count": null,
      "metadata": {
        "id": "df4e795c-0664-4421-afa8-d6ecbbc01f9b"
      },
      "outputs": [],
      "source": [
        "y = df['Situation']"
      ],
      "id": "df4e795c-0664-4421-afa8-d6ecbbc01f9b"
    },
    {
      "cell_type": "code",
      "execution_count": null,
      "metadata": {
        "colab": {
          "base_uri": "https://localhost:8080/"
        },
        "id": "8afb6c25-d011-4854-b94a-b7377c0dcf17",
        "outputId": "d3a67232-ea62-4b35-a4dc-06772114ef5a"
      },
      "outputs": [
        {
          "output_type": "execute_result",
          "data": {
            "text/plain": [
              "1125183    Not Fall\n",
              "25825          Fall\n",
              "792140         Fall\n",
              "1954170    Not Fall\n",
              "282235         Fall\n",
              "             ...   \n",
              "1429012    Not Fall\n",
              "245329         Fall\n",
              "1737097    Not Fall\n",
              "713682         Fall\n",
              "914719         Fall\n",
              "Name: Situation, Length: 20999, dtype: object"
            ]
          },
          "metadata": {},
          "execution_count": 37
        }
      ],
      "source": [
        "y"
      ],
      "id": "8afb6c25-d011-4854-b94a-b7377c0dcf17"
    },
    {
      "cell_type": "code",
      "execution_count": null,
      "metadata": {
        "id": "a466325c-3aad-4f81-97f4-9cd8a64009a2"
      },
      "outputs": [],
      "source": [
        "from sklearn.preprocessing import LabelEncoder "
      ],
      "id": "a466325c-3aad-4f81-97f4-9cd8a64009a2"
    },
    {
      "cell_type": "code",
      "execution_count": null,
      "metadata": {
        "id": "e8498ded-bdf4-4d53-88ff-d9523dfd147b"
      },
      "outputs": [],
      "source": [
        "L = LabelEncoder()"
      ],
      "id": "e8498ded-bdf4-4d53-88ff-d9523dfd147b"
    },
    {
      "cell_type": "code",
      "execution_count": null,
      "metadata": {
        "id": "507f1aa2-77fc-481c-8495-78772274219f"
      },
      "outputs": [],
      "source": [
        "y = L.fit_transform(y)"
      ],
      "id": "507f1aa2-77fc-481c-8495-78772274219f"
    },
    {
      "cell_type": "code",
      "execution_count": null,
      "metadata": {
        "colab": {
          "base_uri": "https://localhost:8080/"
        },
        "id": "8102c348-7e3c-4463-b7eb-9cd4daaaefee",
        "outputId": "8317f9ca-1353-4cd4-b2a5-645dd86f9f5e"
      },
      "outputs": [
        {
          "output_type": "execute_result",
          "data": {
            "text/plain": [
              "array([1, 0, 0, ..., 1, 0, 0])"
            ]
          },
          "metadata": {},
          "execution_count": 41
        }
      ],
      "source": [
        "y"
      ],
      "id": "8102c348-7e3c-4463-b7eb-9cd4daaaefee"
    },
    {
      "cell_type": "markdown",
      "metadata": {
        "id": "4a8f2828-17dc-44e1-b67b-f12bf9db4cd4"
      },
      "source": [
        "### Decision Tree Implementation"
      ],
      "id": "4a8f2828-17dc-44e1-b67b-f12bf9db4cd4"
    },
    {
      "cell_type": "code",
      "execution_count": null,
      "metadata": {
        "colab": {
          "base_uri": "https://localhost:8080/",
          "height": 423
        },
        "id": "24e931b3-22a3-4a50-8f05-e9ac41420dd5",
        "outputId": "aabb2a7a-4cb1-4cba-c825-028dc26f597a"
      },
      "outputs": [
        {
          "output_type": "execute_result",
          "data": {
            "text/plain": [
              "         ADXL345_x  ADXL345_y  ADXL345_z Situation\n",
              "1125183       -2.0     -260.0      -36.0  Not Fall\n",
              "25825          NaN       62.0     -216.0      Fall\n",
              "792140        28.0     -182.0      139.0      Fall\n",
              "1954170       78.0     -443.0       39.0  Not Fall\n",
              "282235        16.0     -259.0      -59.0      Fall\n",
              "...            ...        ...        ...       ...\n",
              "1429012        0.0     -249.0      -35.0  Not Fall\n",
              "245329         NaN       -4.0     -112.0      Fall\n",
              "1737097       23.0     -258.0      -11.0  Not Fall\n",
              "713682        61.0       16.0      207.0      Fall\n",
              "914719       -40.0      -14.0     -246.0      Fall\n",
              "\n",
              "[20999 rows x 4 columns]"
            ],
            "text/html": [
              "\n",
              "  <div id=\"df-efdd0d9e-9d30-4999-986c-df566800b6ce\">\n",
              "    <div class=\"colab-df-container\">\n",
              "      <div>\n",
              "<style scoped>\n",
              "    .dataframe tbody tr th:only-of-type {\n",
              "        vertical-align: middle;\n",
              "    }\n",
              "\n",
              "    .dataframe tbody tr th {\n",
              "        vertical-align: top;\n",
              "    }\n",
              "\n",
              "    .dataframe thead th {\n",
              "        text-align: right;\n",
              "    }\n",
              "</style>\n",
              "<table border=\"1\" class=\"dataframe\">\n",
              "  <thead>\n",
              "    <tr style=\"text-align: right;\">\n",
              "      <th></th>\n",
              "      <th>ADXL345_x</th>\n",
              "      <th>ADXL345_y</th>\n",
              "      <th>ADXL345_z</th>\n",
              "      <th>Situation</th>\n",
              "    </tr>\n",
              "  </thead>\n",
              "  <tbody>\n",
              "    <tr>\n",
              "      <th>1125183</th>\n",
              "      <td>-2.0</td>\n",
              "      <td>-260.0</td>\n",
              "      <td>-36.0</td>\n",
              "      <td>Not Fall</td>\n",
              "    </tr>\n",
              "    <tr>\n",
              "      <th>25825</th>\n",
              "      <td>NaN</td>\n",
              "      <td>62.0</td>\n",
              "      <td>-216.0</td>\n",
              "      <td>Fall</td>\n",
              "    </tr>\n",
              "    <tr>\n",
              "      <th>792140</th>\n",
              "      <td>28.0</td>\n",
              "      <td>-182.0</td>\n",
              "      <td>139.0</td>\n",
              "      <td>Fall</td>\n",
              "    </tr>\n",
              "    <tr>\n",
              "      <th>1954170</th>\n",
              "      <td>78.0</td>\n",
              "      <td>-443.0</td>\n",
              "      <td>39.0</td>\n",
              "      <td>Not Fall</td>\n",
              "    </tr>\n",
              "    <tr>\n",
              "      <th>282235</th>\n",
              "      <td>16.0</td>\n",
              "      <td>-259.0</td>\n",
              "      <td>-59.0</td>\n",
              "      <td>Fall</td>\n",
              "    </tr>\n",
              "    <tr>\n",
              "      <th>...</th>\n",
              "      <td>...</td>\n",
              "      <td>...</td>\n",
              "      <td>...</td>\n",
              "      <td>...</td>\n",
              "    </tr>\n",
              "    <tr>\n",
              "      <th>1429012</th>\n",
              "      <td>0.0</td>\n",
              "      <td>-249.0</td>\n",
              "      <td>-35.0</td>\n",
              "      <td>Not Fall</td>\n",
              "    </tr>\n",
              "    <tr>\n",
              "      <th>245329</th>\n",
              "      <td>NaN</td>\n",
              "      <td>-4.0</td>\n",
              "      <td>-112.0</td>\n",
              "      <td>Fall</td>\n",
              "    </tr>\n",
              "    <tr>\n",
              "      <th>1737097</th>\n",
              "      <td>23.0</td>\n",
              "      <td>-258.0</td>\n",
              "      <td>-11.0</td>\n",
              "      <td>Not Fall</td>\n",
              "    </tr>\n",
              "    <tr>\n",
              "      <th>713682</th>\n",
              "      <td>61.0</td>\n",
              "      <td>16.0</td>\n",
              "      <td>207.0</td>\n",
              "      <td>Fall</td>\n",
              "    </tr>\n",
              "    <tr>\n",
              "      <th>914719</th>\n",
              "      <td>-40.0</td>\n",
              "      <td>-14.0</td>\n",
              "      <td>-246.0</td>\n",
              "      <td>Fall</td>\n",
              "    </tr>\n",
              "  </tbody>\n",
              "</table>\n",
              "<p>20999 rows × 4 columns</p>\n",
              "</div>\n",
              "      <button class=\"colab-df-convert\" onclick=\"convertToInteractive('df-efdd0d9e-9d30-4999-986c-df566800b6ce')\"\n",
              "              title=\"Convert this dataframe to an interactive table.\"\n",
              "              style=\"display:none;\">\n",
              "        \n",
              "  <svg xmlns=\"http://www.w3.org/2000/svg\" height=\"24px\"viewBox=\"0 0 24 24\"\n",
              "       width=\"24px\">\n",
              "    <path d=\"M0 0h24v24H0V0z\" fill=\"none\"/>\n",
              "    <path d=\"M18.56 5.44l.94 2.06.94-2.06 2.06-.94-2.06-.94-.94-2.06-.94 2.06-2.06.94zm-11 1L8.5 8.5l.94-2.06 2.06-.94-2.06-.94L8.5 2.5l-.94 2.06-2.06.94zm10 10l.94 2.06.94-2.06 2.06-.94-2.06-.94-.94-2.06-.94 2.06-2.06.94z\"/><path d=\"M17.41 7.96l-1.37-1.37c-.4-.4-.92-.59-1.43-.59-.52 0-1.04.2-1.43.59L10.3 9.45l-7.72 7.72c-.78.78-.78 2.05 0 2.83L4 21.41c.39.39.9.59 1.41.59.51 0 1.02-.2 1.41-.59l7.78-7.78 2.81-2.81c.8-.78.8-2.07 0-2.86zM5.41 20L4 18.59l7.72-7.72 1.47 1.35L5.41 20z\"/>\n",
              "  </svg>\n",
              "      </button>\n",
              "      \n",
              "  <style>\n",
              "    .colab-df-container {\n",
              "      display:flex;\n",
              "      flex-wrap:wrap;\n",
              "      gap: 12px;\n",
              "    }\n",
              "\n",
              "    .colab-df-convert {\n",
              "      background-color: #E8F0FE;\n",
              "      border: none;\n",
              "      border-radius: 50%;\n",
              "      cursor: pointer;\n",
              "      display: none;\n",
              "      fill: #1967D2;\n",
              "      height: 32px;\n",
              "      padding: 0 0 0 0;\n",
              "      width: 32px;\n",
              "    }\n",
              "\n",
              "    .colab-df-convert:hover {\n",
              "      background-color: #E2EBFA;\n",
              "      box-shadow: 0px 1px 2px rgba(60, 64, 67, 0.3), 0px 1px 3px 1px rgba(60, 64, 67, 0.15);\n",
              "      fill: #174EA6;\n",
              "    }\n",
              "\n",
              "    [theme=dark] .colab-df-convert {\n",
              "      background-color: #3B4455;\n",
              "      fill: #D2E3FC;\n",
              "    }\n",
              "\n",
              "    [theme=dark] .colab-df-convert:hover {\n",
              "      background-color: #434B5C;\n",
              "      box-shadow: 0px 1px 3px 1px rgba(0, 0, 0, 0.15);\n",
              "      filter: drop-shadow(0px 1px 2px rgba(0, 0, 0, 0.3));\n",
              "      fill: #FFFFFF;\n",
              "    }\n",
              "  </style>\n",
              "\n",
              "      <script>\n",
              "        const buttonEl =\n",
              "          document.querySelector('#df-efdd0d9e-9d30-4999-986c-df566800b6ce button.colab-df-convert');\n",
              "        buttonEl.style.display =\n",
              "          google.colab.kernel.accessAllowed ? 'block' : 'none';\n",
              "\n",
              "        async function convertToInteractive(key) {\n",
              "          const element = document.querySelector('#df-efdd0d9e-9d30-4999-986c-df566800b6ce');\n",
              "          const dataTable =\n",
              "            await google.colab.kernel.invokeFunction('convertToInteractive',\n",
              "                                                     [key], {});\n",
              "          if (!dataTable) return;\n",
              "\n",
              "          const docLinkHtml = 'Like what you see? Visit the ' +\n",
              "            '<a target=\"_blank\" href=https://colab.research.google.com/notebooks/data_table.ipynb>data table notebook</a>'\n",
              "            + ' to learn more about interactive tables.';\n",
              "          element.innerHTML = '';\n",
              "          dataTable['output_type'] = 'display_data';\n",
              "          await google.colab.output.renderOutput(dataTable, element);\n",
              "          const docLink = document.createElement('div');\n",
              "          docLink.innerHTML = docLinkHtml;\n",
              "          element.appendChild(docLink);\n",
              "        }\n",
              "      </script>\n",
              "    </div>\n",
              "  </div>\n",
              "  "
            ]
          },
          "metadata": {},
          "execution_count": 42
        }
      ],
      "source": [
        "df"
      ],
      "id": "24e931b3-22a3-4a50-8f05-e9ac41420dd5"
    },
    {
      "cell_type": "code",
      "execution_count": null,
      "metadata": {
        "colab": {
          "base_uri": "https://localhost:8080/"
        },
        "id": "4f17ba26-f5f7-49fc-90b0-f59671ec91f3",
        "outputId": "8477df46-3ac7-4592-d8a8-0894a570e2a6"
      },
      "outputs": [
        {
          "output_type": "execute_result",
          "data": {
            "text/plain": [
              "array([[-0.22641509, -0.16814159, -0.02684564],\n",
              "       [ 2.67924528,  1.25663717, -1.23489933],\n",
              "       [ 0.33962264,  0.17699115,  1.14765101],\n",
              "       ...,\n",
              "       [ 0.24528302, -0.15929204,  0.1409396 ],\n",
              "       [ 0.96226415,  1.05309735,  1.60402685],\n",
              "       [-0.94339623,  0.92035398, -1.43624161]])"
            ]
          },
          "metadata": {},
          "execution_count": 43
        }
      ],
      "source": [
        "X"
      ],
      "id": "4f17ba26-f5f7-49fc-90b0-f59671ec91f3"
    },
    {
      "cell_type": "code",
      "execution_count": null,
      "metadata": {
        "colab": {
          "base_uri": "https://localhost:8080/"
        },
        "id": "2ec3841e-d87d-44d0-ac6f-ed440324540b",
        "outputId": "dc4d9efb-ce6d-4598-bd60-72e2e674ceb9"
      },
      "outputs": [
        {
          "output_type": "execute_result",
          "data": {
            "text/plain": [
              "array([1, 0, 0, ..., 1, 0, 0])"
            ]
          },
          "metadata": {},
          "execution_count": 44
        }
      ],
      "source": [
        "y"
      ],
      "id": "2ec3841e-d87d-44d0-ac6f-ed440324540b"
    },
    {
      "cell_type": "code",
      "execution_count": null,
      "metadata": {
        "id": "6a8d2554-0ece-477e-ba8a-7ca884d3844d"
      },
      "outputs": [],
      "source": [
        "from sklearn import preprocessing\n",
        "from sklearn.model_selection import train_test_split\n",
        "from sklearn.preprocessing import StandardScaler\n",
        "from sklearn.model_selection import cross_val_score\n",
        "from sklearn.model_selection import cross_val_predict\n",
        "from sklearn.metrics import confusion_matrix , roc_auc_score\n",
        "from sklearn.metrics import accuracy_score , classification_report\n",
        "from sklearn.metrics import precision_score ,recall_score, f1_score\n",
        "from sklearn.tree import DecisionTreeClassifier"
      ],
      "id": "6a8d2554-0ece-477e-ba8a-7ca884d3844d"
    },
    {
      "cell_type": "code",
      "execution_count": null,
      "metadata": {
        "id": "90341e73-1c0a-46fc-8766-5813b94cff95"
      },
      "outputs": [],
      "source": [
        "X_train , X_test , y_train , y_test =  train_test_split(X,y,test_size = 0.2,random_state = 42)"
      ],
      "id": "90341e73-1c0a-46fc-8766-5813b94cff95"
    },
    {
      "cell_type": "code",
      "execution_count": null,
      "metadata": {
        "id": "e0967LIoVQdw"
      },
      "outputs": [],
      "source": [
        "def print_score(clf, X_train,X_test , y_train , y_test , train= True):\n",
        "  lb = preprocessing.LabelBinarizer()\n",
        "  lb.fit(y_train)\n",
        "\n",
        "  if train:\n",
        "    '''\n",
        "    training performance \n",
        "    '''\n",
        "\n",
        "    res=clf.predict(X_train)\n",
        "    print(\"Train Result :\\n\")\n",
        "    print(\"Accuracy score : {0:4f}\\n\".format(accuracy_score(y_train, res)))\n",
        "    print(\"Classification Report :\\n {}\\n\".format(classification_report(y_train, res)))\n",
        "    print(\"Confusion Matrix :\\n {} \\n\".format(confusion_matrix(y_train, res)))\n",
        "\n",
        "    print(\"ROC AUC: {0:4f}\\n\".format(roc_auc_score(lb.transform(y_train), lb.transform(res))))\n",
        "\n",
        "    res = cross_val_score(clf ,X_train , y_train , cv = 10 , scoring=\"accuracy\")\n",
        "    print(\"Average Accuracy : {0:4f}\".format(np.mean(res)))\n",
        "    print(\"Accuracy SD: \\t\\t {0:4f}\".format(np.std(res)))\n",
        "\n",
        "\n",
        "  elif train==False :\n",
        "\n",
        "    res = clf.predict(X_test)\n",
        "    print(\"Test Result :\\n\")\n",
        "    print(\"Accuracy score : {0:4f}\\n\".format(accuracy_score(y_test, res)))\n",
        "    print(\"Classification Report :\\n {}\\n\".format(classification_report(y_test, res)))\n",
        "    print(\"Confusion Matrix :\\n {} \\n\".format(confusion_matrix(y_test, res)))\n",
        "\n",
        "    print(\"ROC AUC: {0:4f}\\n\".format(roc_auc_score(lb.transform(y_test), lb.transform(res))))\n"
      ],
      "id": "e0967LIoVQdw"
    },
    {
      "cell_type": "code",
      "execution_count": null,
      "metadata": {
        "id": "0074e626-d21b-44da-82a5-27710fbd6dde"
      },
      "outputs": [],
      "source": [
        "sc_x = StandardScaler()\n",
        "X_std_train = sc_x.fit_transform(X_train)"
      ],
      "id": "0074e626-d21b-44da-82a5-27710fbd6dde"
    },
    {
      "cell_type": "code",
      "execution_count": null,
      "metadata": {
        "id": "d5b0c333-5096-41d9-9900-1ef5933b80d0"
      },
      "outputs": [],
      "source": [
        "# C=0.01\n",
        "# clf = svm.SVC(kernel='linear' , C=C)\n",
        "# clf.fit(X_std_train , y_train)"
      ],
      "id": "d5b0c333-5096-41d9-9900-1ef5933b80d0"
    },
    {
      "cell_type": "code",
      "execution_count": null,
      "metadata": {
        "id": "373629c2-8872-4e35-a40c-b931df06146e"
      },
      "outputs": [],
      "source": [
        "dt=DecisionTreeClassifier()"
      ],
      "id": "373629c2-8872-4e35-a40c-b931df06146e"
    },
    {
      "cell_type": "code",
      "execution_count": null,
      "metadata": {
        "colab": {
          "base_uri": "https://localhost:8080/",
          "height": 74
        },
        "id": "877c168b-0a28-42f3-bf50-eb75f2fb7a6a",
        "outputId": "afb76709-9d28-4282-ccf1-451dfa2595ba"
      },
      "outputs": [
        {
          "output_type": "execute_result",
          "data": {
            "text/plain": [
              "DecisionTreeClassifier()"
            ],
            "text/html": [
              "<style>#sk-container-id-1 {color: black;background-color: white;}#sk-container-id-1 pre{padding: 0;}#sk-container-id-1 div.sk-toggleable {background-color: white;}#sk-container-id-1 label.sk-toggleable__label {cursor: pointer;display: block;width: 100%;margin-bottom: 0;padding: 0.3em;box-sizing: border-box;text-align: center;}#sk-container-id-1 label.sk-toggleable__label-arrow:before {content: \"▸\";float: left;margin-right: 0.25em;color: #696969;}#sk-container-id-1 label.sk-toggleable__label-arrow:hover:before {color: black;}#sk-container-id-1 div.sk-estimator:hover label.sk-toggleable__label-arrow:before {color: black;}#sk-container-id-1 div.sk-toggleable__content {max-height: 0;max-width: 0;overflow: hidden;text-align: left;background-color: #f0f8ff;}#sk-container-id-1 div.sk-toggleable__content pre {margin: 0.2em;color: black;border-radius: 0.25em;background-color: #f0f8ff;}#sk-container-id-1 input.sk-toggleable__control:checked~div.sk-toggleable__content {max-height: 200px;max-width: 100%;overflow: auto;}#sk-container-id-1 input.sk-toggleable__control:checked~label.sk-toggleable__label-arrow:before {content: \"▾\";}#sk-container-id-1 div.sk-estimator input.sk-toggleable__control:checked~label.sk-toggleable__label {background-color: #d4ebff;}#sk-container-id-1 div.sk-label input.sk-toggleable__control:checked~label.sk-toggleable__label {background-color: #d4ebff;}#sk-container-id-1 input.sk-hidden--visually {border: 0;clip: rect(1px 1px 1px 1px);clip: rect(1px, 1px, 1px, 1px);height: 1px;margin: -1px;overflow: hidden;padding: 0;position: absolute;width: 1px;}#sk-container-id-1 div.sk-estimator {font-family: monospace;background-color: #f0f8ff;border: 1px dotted black;border-radius: 0.25em;box-sizing: border-box;margin-bottom: 0.5em;}#sk-container-id-1 div.sk-estimator:hover {background-color: #d4ebff;}#sk-container-id-1 div.sk-parallel-item::after {content: \"\";width: 100%;border-bottom: 1px solid gray;flex-grow: 1;}#sk-container-id-1 div.sk-label:hover label.sk-toggleable__label {background-color: #d4ebff;}#sk-container-id-1 div.sk-serial::before {content: \"\";position: absolute;border-left: 1px solid gray;box-sizing: border-box;top: 0;bottom: 0;left: 50%;z-index: 0;}#sk-container-id-1 div.sk-serial {display: flex;flex-direction: column;align-items: center;background-color: white;padding-right: 0.2em;padding-left: 0.2em;position: relative;}#sk-container-id-1 div.sk-item {position: relative;z-index: 1;}#sk-container-id-1 div.sk-parallel {display: flex;align-items: stretch;justify-content: center;background-color: white;position: relative;}#sk-container-id-1 div.sk-item::before, #sk-container-id-1 div.sk-parallel-item::before {content: \"\";position: absolute;border-left: 1px solid gray;box-sizing: border-box;top: 0;bottom: 0;left: 50%;z-index: -1;}#sk-container-id-1 div.sk-parallel-item {display: flex;flex-direction: column;z-index: 1;position: relative;background-color: white;}#sk-container-id-1 div.sk-parallel-item:first-child::after {align-self: flex-end;width: 50%;}#sk-container-id-1 div.sk-parallel-item:last-child::after {align-self: flex-start;width: 50%;}#sk-container-id-1 div.sk-parallel-item:only-child::after {width: 0;}#sk-container-id-1 div.sk-dashed-wrapped {border: 1px dashed gray;margin: 0 0.4em 0.5em 0.4em;box-sizing: border-box;padding-bottom: 0.4em;background-color: white;}#sk-container-id-1 div.sk-label label {font-family: monospace;font-weight: bold;display: inline-block;line-height: 1.2em;}#sk-container-id-1 div.sk-label-container {text-align: center;}#sk-container-id-1 div.sk-container {/* jupyter's `normalize.less` sets `[hidden] { display: none; }` but bootstrap.min.css set `[hidden] { display: none !important; }` so we also need the `!important` here to be able to override the default hidden behavior on the sphinx rendered scikit-learn.org. See: https://github.com/scikit-learn/scikit-learn/issues/21755 */display: inline-block !important;position: relative;}#sk-container-id-1 div.sk-text-repr-fallback {display: none;}</style><div id=\"sk-container-id-1\" class=\"sk-top-container\"><div class=\"sk-text-repr-fallback\"><pre>DecisionTreeClassifier()</pre><b>In a Jupyter environment, please rerun this cell to show the HTML representation or trust the notebook. <br />On GitHub, the HTML representation is unable to render, please try loading this page with nbviewer.org.</b></div><div class=\"sk-container\" hidden><div class=\"sk-item\"><div class=\"sk-estimator sk-toggleable\"><input class=\"sk-toggleable__control sk-hidden--visually\" id=\"sk-estimator-id-1\" type=\"checkbox\" checked><label for=\"sk-estimator-id-1\" class=\"sk-toggleable__label sk-toggleable__label-arrow\">DecisionTreeClassifier</label><div class=\"sk-toggleable__content\"><pre>DecisionTreeClassifier()</pre></div></div></div></div></div>"
            ]
          },
          "metadata": {},
          "execution_count": 50
        }
      ],
      "source": [
        "dt.fit(X_std_train,y_train)"
      ],
      "id": "877c168b-0a28-42f3-bf50-eb75f2fb7a6a"
    },
    {
      "cell_type": "code",
      "execution_count": null,
      "metadata": {
        "colab": {
          "base_uri": "https://localhost:8080/"
        },
        "id": "NCVZKFLjZVec",
        "outputId": "36216a81-efb5-407a-c884-ab17eb0d2cf4"
      },
      "outputs": [
        {
          "output_type": "stream",
          "name": "stdout",
          "text": [
            "Train Result :\n",
            "\n",
            "Accuracy score : 0.555688\n",
            "\n",
            "Classification Report :\n",
            "               precision    recall  f1-score   support\n",
            "\n",
            "           0       0.56      0.51      0.53      8364\n",
            "           1       0.55      0.60      0.58      8435\n",
            "\n",
            "    accuracy                           0.56     16799\n",
            "   macro avg       0.56      0.56      0.55     16799\n",
            "weighted avg       0.56      0.56      0.55     16799\n",
            "\n",
            "\n",
            "Confusion Matrix :\n",
            " [[4237 4127]\n",
            " [3337 5098]] \n",
            "\n",
            "ROC AUC: 0.555481\n",
            "\n",
            "Average Accuracy : 0.744748\n",
            "Accuracy SD: \t\t 0.009398\n",
            "/**************************************************/\n",
            "Test Result :\n",
            "\n",
            "Accuracy score : 0.561429\n",
            "\n",
            "Classification Report :\n",
            "               precision    recall  f1-score   support\n",
            "\n",
            "           0       0.57      0.52      0.54      2122\n",
            "           1       0.55      0.60      0.58      2078\n",
            "\n",
            "    accuracy                           0.56      4200\n",
            "   macro avg       0.56      0.56      0.56      4200\n",
            "weighted avg       0.56      0.56      0.56      4200\n",
            "\n",
            "\n",
            "Confusion Matrix :\n",
            " [[1102 1020]\n",
            " [ 822 1256]] \n",
            "\n",
            "ROC AUC: 0.561874\n",
            "\n"
          ]
        }
      ],
      "source": [
        "print_score(dt,X_train , X_test , y_train , y_test , train = True)\n",
        "print(\"/**************************************************/\")\n",
        "print_score(dt,X_train , X_test , y_train , y_test , train = False)"
      ],
      "id": "NCVZKFLjZVec"
    },
    {
      "cell_type": "code",
      "execution_count": null,
      "metadata": {
        "id": "e1904c88-8979-450a-a3f4-fb11ede947fa"
      },
      "outputs": [],
      "source": [
        "y_pred=dt.predict(X_test)"
      ],
      "id": "e1904c88-8979-450a-a3f4-fb11ede947fa"
    },
    {
      "cell_type": "code",
      "execution_count": null,
      "metadata": {
        "colab": {
          "base_uri": "https://localhost:8080/",
          "height": 143
        },
        "id": "ac446870-ce9f-40eb-8223-2ec8c3bd56c6",
        "outputId": "cbcc3f9e-bf23-4ea2-8e9b-887d2880038f"
      },
      "outputs": [
        {
          "output_type": "execute_result",
          "data": {
            "text/plain": [
              "                Prediction         \n",
              "                  Negative Positive\n",
              "Actual Negative       1102     1020\n",
              "       Positive        822     1256"
            ],
            "text/html": [
              "\n",
              "  <div id=\"df-afd389e2-58c7-4b14-be2d-a7dfbc457f77\">\n",
              "    <div class=\"colab-df-container\">\n",
              "      <div>\n",
              "<style scoped>\n",
              "    .dataframe tbody tr th:only-of-type {\n",
              "        vertical-align: middle;\n",
              "    }\n",
              "\n",
              "    .dataframe tbody tr th {\n",
              "        vertical-align: top;\n",
              "    }\n",
              "\n",
              "    .dataframe thead tr th {\n",
              "        text-align: left;\n",
              "    }\n",
              "</style>\n",
              "<table border=\"1\" class=\"dataframe\">\n",
              "  <thead>\n",
              "    <tr>\n",
              "      <th></th>\n",
              "      <th></th>\n",
              "      <th colspan=\"2\" halign=\"left\">Prediction</th>\n",
              "    </tr>\n",
              "    <tr>\n",
              "      <th></th>\n",
              "      <th></th>\n",
              "      <th>Negative</th>\n",
              "      <th>Positive</th>\n",
              "    </tr>\n",
              "  </thead>\n",
              "  <tbody>\n",
              "    <tr>\n",
              "      <th rowspan=\"2\" valign=\"top\">Actual</th>\n",
              "      <th>Negative</th>\n",
              "      <td>1102</td>\n",
              "      <td>1020</td>\n",
              "    </tr>\n",
              "    <tr>\n",
              "      <th>Positive</th>\n",
              "      <td>822</td>\n",
              "      <td>1256</td>\n",
              "    </tr>\n",
              "  </tbody>\n",
              "</table>\n",
              "</div>\n",
              "      <button class=\"colab-df-convert\" onclick=\"convertToInteractive('df-afd389e2-58c7-4b14-be2d-a7dfbc457f77')\"\n",
              "              title=\"Convert this dataframe to an interactive table.\"\n",
              "              style=\"display:none;\">\n",
              "        \n",
              "  <svg xmlns=\"http://www.w3.org/2000/svg\" height=\"24px\"viewBox=\"0 0 24 24\"\n",
              "       width=\"24px\">\n",
              "    <path d=\"M0 0h24v24H0V0z\" fill=\"none\"/>\n",
              "    <path d=\"M18.56 5.44l.94 2.06.94-2.06 2.06-.94-2.06-.94-.94-2.06-.94 2.06-2.06.94zm-11 1L8.5 8.5l.94-2.06 2.06-.94-2.06-.94L8.5 2.5l-.94 2.06-2.06.94zm10 10l.94 2.06.94-2.06 2.06-.94-2.06-.94-.94-2.06-.94 2.06-2.06.94z\"/><path d=\"M17.41 7.96l-1.37-1.37c-.4-.4-.92-.59-1.43-.59-.52 0-1.04.2-1.43.59L10.3 9.45l-7.72 7.72c-.78.78-.78 2.05 0 2.83L4 21.41c.39.39.9.59 1.41.59.51 0 1.02-.2 1.41-.59l7.78-7.78 2.81-2.81c.8-.78.8-2.07 0-2.86zM5.41 20L4 18.59l7.72-7.72 1.47 1.35L5.41 20z\"/>\n",
              "  </svg>\n",
              "      </button>\n",
              "      \n",
              "  <style>\n",
              "    .colab-df-container {\n",
              "      display:flex;\n",
              "      flex-wrap:wrap;\n",
              "      gap: 12px;\n",
              "    }\n",
              "\n",
              "    .colab-df-convert {\n",
              "      background-color: #E8F0FE;\n",
              "      border: none;\n",
              "      border-radius: 50%;\n",
              "      cursor: pointer;\n",
              "      display: none;\n",
              "      fill: #1967D2;\n",
              "      height: 32px;\n",
              "      padding: 0 0 0 0;\n",
              "      width: 32px;\n",
              "    }\n",
              "\n",
              "    .colab-df-convert:hover {\n",
              "      background-color: #E2EBFA;\n",
              "      box-shadow: 0px 1px 2px rgba(60, 64, 67, 0.3), 0px 1px 3px 1px rgba(60, 64, 67, 0.15);\n",
              "      fill: #174EA6;\n",
              "    }\n",
              "\n",
              "    [theme=dark] .colab-df-convert {\n",
              "      background-color: #3B4455;\n",
              "      fill: #D2E3FC;\n",
              "    }\n",
              "\n",
              "    [theme=dark] .colab-df-convert:hover {\n",
              "      background-color: #434B5C;\n",
              "      box-shadow: 0px 1px 3px 1px rgba(0, 0, 0, 0.15);\n",
              "      filter: drop-shadow(0px 1px 2px rgba(0, 0, 0, 0.3));\n",
              "      fill: #FFFFFF;\n",
              "    }\n",
              "  </style>\n",
              "\n",
              "      <script>\n",
              "        const buttonEl =\n",
              "          document.querySelector('#df-afd389e2-58c7-4b14-be2d-a7dfbc457f77 button.colab-df-convert');\n",
              "        buttonEl.style.display =\n",
              "          google.colab.kernel.accessAllowed ? 'block' : 'none';\n",
              "\n",
              "        async function convertToInteractive(key) {\n",
              "          const element = document.querySelector('#df-afd389e2-58c7-4b14-be2d-a7dfbc457f77');\n",
              "          const dataTable =\n",
              "            await google.colab.kernel.invokeFunction('convertToInteractive',\n",
              "                                                     [key], {});\n",
              "          if (!dataTable) return;\n",
              "\n",
              "          const docLinkHtml = 'Like what you see? Visit the ' +\n",
              "            '<a target=\"_blank\" href=https://colab.research.google.com/notebooks/data_table.ipynb>data table notebook</a>'\n",
              "            + ' to learn more about interactive tables.';\n",
              "          element.innerHTML = '';\n",
              "          dataTable['output_type'] = 'display_data';\n",
              "          await google.colab.output.renderOutput(dataTable, element);\n",
              "          const docLink = document.createElement('div');\n",
              "          docLink.innerHTML = docLinkHtml;\n",
              "          element.appendChild(docLink);\n",
              "        }\n",
              "      </script>\n",
              "    </div>\n",
              "  </div>\n",
              "  "
            ]
          },
          "metadata": {},
          "execution_count": 57
        }
      ],
      "source": [
        "pd.DataFrame(confusion_matrix(y_test,y_pred),\n",
        "             columns=pd.MultiIndex.from_product([['Prediction'],['Negative','Positive']]),\n",
        "             index = pd.MultiIndex.from_product([['Actual'] ,['Negative','Positive']]))"
      ],
      "id": "ac446870-ce9f-40eb-8223-2ec8c3bd56c6"
    },
    {
      "cell_type": "code",
      "execution_count": null,
      "metadata": {
        "colab": {
          "base_uri": "https://localhost:8080/"
        },
        "id": "92f94f32-431a-482b-82b0-d262d0ad3f62",
        "outputId": "1571910b-3119-4e7a-8632-ec3b9da3e5c0"
      },
      "outputs": [
        {
          "output_type": "execute_result",
          "data": {
            "text/plain": [
              "0.5769407441433165"
            ]
          },
          "metadata": {},
          "execution_count": 58
        }
      ],
      "source": [
        "f1_score(y_test,y_pred)"
      ],
      "id": "92f94f32-431a-482b-82b0-d262d0ad3f62"
    },
    {
      "cell_type": "markdown",
      "metadata": {
        "id": "a40a205c-ac9f-4598-854f-835cc8714f83"
      },
      "source": [
        "### RANDOM FOREST IMPLEMENTATION"
      ],
      "id": "a40a205c-ac9f-4598-854f-835cc8714f83"
    },
    {
      "cell_type": "code",
      "execution_count": null,
      "metadata": {
        "id": "abbda754-40fc-4cd8-8e63-0bf15a6c4942"
      },
      "outputs": [],
      "source": [
        "from sklearn.ensemble import RandomForestClassifier"
      ],
      "id": "abbda754-40fc-4cd8-8e63-0bf15a6c4942"
    },
    {
      "cell_type": "code",
      "execution_count": null,
      "metadata": {
        "id": "994fefc8-c76c-4156-b68f-06e18e4df9a4"
      },
      "outputs": [],
      "source": [
        "rf_clf=RandomForestClassifier(random_state = 42 , n_estimators=100)"
      ],
      "id": "994fefc8-c76c-4156-b68f-06e18e4df9a4"
    },
    {
      "cell_type": "code",
      "execution_count": null,
      "metadata": {
        "colab": {
          "base_uri": "https://localhost:8080/",
          "height": 74
        },
        "id": "5a532c45-5736-4293-a2d6-5def5a8ba5df",
        "outputId": "56c01364-62d7-4d09-f776-102eef6036a2"
      },
      "outputs": [
        {
          "output_type": "execute_result",
          "data": {
            "text/plain": [
              "RandomForestClassifier(random_state=42)"
            ],
            "text/html": [
              "<style>#sk-container-id-2 {color: black;background-color: white;}#sk-container-id-2 pre{padding: 0;}#sk-container-id-2 div.sk-toggleable {background-color: white;}#sk-container-id-2 label.sk-toggleable__label {cursor: pointer;display: block;width: 100%;margin-bottom: 0;padding: 0.3em;box-sizing: border-box;text-align: center;}#sk-container-id-2 label.sk-toggleable__label-arrow:before {content: \"▸\";float: left;margin-right: 0.25em;color: #696969;}#sk-container-id-2 label.sk-toggleable__label-arrow:hover:before {color: black;}#sk-container-id-2 div.sk-estimator:hover label.sk-toggleable__label-arrow:before {color: black;}#sk-container-id-2 div.sk-toggleable__content {max-height: 0;max-width: 0;overflow: hidden;text-align: left;background-color: #f0f8ff;}#sk-container-id-2 div.sk-toggleable__content pre {margin: 0.2em;color: black;border-radius: 0.25em;background-color: #f0f8ff;}#sk-container-id-2 input.sk-toggleable__control:checked~div.sk-toggleable__content {max-height: 200px;max-width: 100%;overflow: auto;}#sk-container-id-2 input.sk-toggleable__control:checked~label.sk-toggleable__label-arrow:before {content: \"▾\";}#sk-container-id-2 div.sk-estimator input.sk-toggleable__control:checked~label.sk-toggleable__label {background-color: #d4ebff;}#sk-container-id-2 div.sk-label input.sk-toggleable__control:checked~label.sk-toggleable__label {background-color: #d4ebff;}#sk-container-id-2 input.sk-hidden--visually {border: 0;clip: rect(1px 1px 1px 1px);clip: rect(1px, 1px, 1px, 1px);height: 1px;margin: -1px;overflow: hidden;padding: 0;position: absolute;width: 1px;}#sk-container-id-2 div.sk-estimator {font-family: monospace;background-color: #f0f8ff;border: 1px dotted black;border-radius: 0.25em;box-sizing: border-box;margin-bottom: 0.5em;}#sk-container-id-2 div.sk-estimator:hover {background-color: #d4ebff;}#sk-container-id-2 div.sk-parallel-item::after {content: \"\";width: 100%;border-bottom: 1px solid gray;flex-grow: 1;}#sk-container-id-2 div.sk-label:hover label.sk-toggleable__label {background-color: #d4ebff;}#sk-container-id-2 div.sk-serial::before {content: \"\";position: absolute;border-left: 1px solid gray;box-sizing: border-box;top: 0;bottom: 0;left: 50%;z-index: 0;}#sk-container-id-2 div.sk-serial {display: flex;flex-direction: column;align-items: center;background-color: white;padding-right: 0.2em;padding-left: 0.2em;position: relative;}#sk-container-id-2 div.sk-item {position: relative;z-index: 1;}#sk-container-id-2 div.sk-parallel {display: flex;align-items: stretch;justify-content: center;background-color: white;position: relative;}#sk-container-id-2 div.sk-item::before, #sk-container-id-2 div.sk-parallel-item::before {content: \"\";position: absolute;border-left: 1px solid gray;box-sizing: border-box;top: 0;bottom: 0;left: 50%;z-index: -1;}#sk-container-id-2 div.sk-parallel-item {display: flex;flex-direction: column;z-index: 1;position: relative;background-color: white;}#sk-container-id-2 div.sk-parallel-item:first-child::after {align-self: flex-end;width: 50%;}#sk-container-id-2 div.sk-parallel-item:last-child::after {align-self: flex-start;width: 50%;}#sk-container-id-2 div.sk-parallel-item:only-child::after {width: 0;}#sk-container-id-2 div.sk-dashed-wrapped {border: 1px dashed gray;margin: 0 0.4em 0.5em 0.4em;box-sizing: border-box;padding-bottom: 0.4em;background-color: white;}#sk-container-id-2 div.sk-label label {font-family: monospace;font-weight: bold;display: inline-block;line-height: 1.2em;}#sk-container-id-2 div.sk-label-container {text-align: center;}#sk-container-id-2 div.sk-container {/* jupyter's `normalize.less` sets `[hidden] { display: none; }` but bootstrap.min.css set `[hidden] { display: none !important; }` so we also need the `!important` here to be able to override the default hidden behavior on the sphinx rendered scikit-learn.org. See: https://github.com/scikit-learn/scikit-learn/issues/21755 */display: inline-block !important;position: relative;}#sk-container-id-2 div.sk-text-repr-fallback {display: none;}</style><div id=\"sk-container-id-2\" class=\"sk-top-container\"><div class=\"sk-text-repr-fallback\"><pre>RandomForestClassifier(random_state=42)</pre><b>In a Jupyter environment, please rerun this cell to show the HTML representation or trust the notebook. <br />On GitHub, the HTML representation is unable to render, please try loading this page with nbviewer.org.</b></div><div class=\"sk-container\" hidden><div class=\"sk-item\"><div class=\"sk-estimator sk-toggleable\"><input class=\"sk-toggleable__control sk-hidden--visually\" id=\"sk-estimator-id-2\" type=\"checkbox\" checked><label for=\"sk-estimator-id-2\" class=\"sk-toggleable__label sk-toggleable__label-arrow\">RandomForestClassifier</label><div class=\"sk-toggleable__content\"><pre>RandomForestClassifier(random_state=42)</pre></div></div></div></div></div>"
            ]
          },
          "metadata": {},
          "execution_count": 53
        }
      ],
      "source": [
        "rf_clf.fit(X_std_train,y_train)\n",
        "# y_pred=rf.predict(X_test)\n",
        "# print(f1_score(y_test,y_pred))"
      ],
      "id": "5a532c45-5736-4293-a2d6-5def5a8ba5df"
    },
    {
      "cell_type": "code",
      "execution_count": null,
      "metadata": {
        "id": "0d2fa5c5-6b1f-42b4-a503-0b23265fe0ac",
        "colab": {
          "base_uri": "https://localhost:8080/"
        },
        "outputId": "930330cf-bc57-4bec-ee99-d487ea44e2f1"
      },
      "outputs": [
        {
          "output_type": "stream",
          "name": "stdout",
          "text": [
            "Train Result :\n",
            "\n",
            "Accuracy score : 0.672123\n",
            "\n",
            "Classification Report :\n",
            "               precision    recall  f1-score   support\n",
            "\n",
            "           0       0.70      0.61      0.65      8364\n",
            "           1       0.65      0.74      0.69      8435\n",
            "\n",
            "    accuracy                           0.67     16799\n",
            "   macro avg       0.67      0.67      0.67     16799\n",
            "weighted avg       0.67      0.67      0.67     16799\n",
            "\n",
            "\n",
            "Confusion Matrix :\n",
            " [[5083 3281]\n",
            " [2227 6208]] \n",
            "\n",
            "ROC AUC: 0.671852\n",
            "\n",
            "Average Accuracy : 0.794274\n",
            "Accuracy SD: \t\t 0.005414\n",
            "\n",
            " /*********************************************/ \n",
            "\n",
            "Test Result :\n",
            "\n",
            "Accuracy score : 0.664762\n",
            "\n",
            "Classification Report :\n",
            "               precision    recall  f1-score   support\n",
            "\n",
            "           0       0.69      0.62      0.65      2122\n",
            "           1       0.65      0.71      0.68      2078\n",
            "\n",
            "    accuracy                           0.66      4200\n",
            "   macro avg       0.67      0.67      0.66      4200\n",
            "weighted avg       0.67      0.66      0.66      4200\n",
            "\n",
            "\n",
            "Confusion Matrix :\n",
            " [[1308  814]\n",
            " [ 594 1484]] \n",
            "\n",
            "ROC AUC: 0.665274\n",
            "\n"
          ]
        }
      ],
      "source": [
        "print_score(rf_clf ,X_train , X_test , y_train , y_test ,train = True)\n",
        "print(\"\\n /*********************************************/ \\n\")\n",
        "print_score(rf_clf ,X_train , X_test , y_train , y_test ,train = False)"
      ],
      "id": "0d2fa5c5-6b1f-42b4-a503-0b23265fe0ac"
    },
    {
      "cell_type": "code",
      "execution_count": null,
      "metadata": {
        "id": "PRnyuCKwb-Z3"
      },
      "outputs": [],
      "source": [],
      "id": "PRnyuCKwb-Z3"
    },
    {
      "cell_type": "markdown",
      "metadata": {
        "id": "goDlQ2MYxqa9"
      },
      "source": [
        "### Grid Search Ensemble"
      ],
      "id": "goDlQ2MYxqa9"
    },
    {
      "cell_type": "code",
      "execution_count": null,
      "metadata": {
        "id": "pkgTvqD2xzgt"
      },
      "outputs": [],
      "source": [
        "from sklearn.pipeline import Pipeline\n",
        "from sklearn.model_selection import GridSearchCV"
      ],
      "id": "pkgTvqD2xzgt"
    },
    {
      "cell_type": "code",
      "execution_count": null,
      "metadata": {
        "id": "PdxCF2XLx_ud"
      },
      "outputs": [],
      "source": [
        "params_grid = {'max_depth': [3, None],\n",
        "              'min_samples_split': [2, 3, 10],\n",
        "              'min_samples_leaf': [1, 3, 10],\n",
        "               'bootstrap': [True, False],\n",
        "              'criterion': [\"gini\", \"entropy\"]}"
      ],
      "id": "PdxCF2XLx_ud"
    },
    {
      "cell_type": "code",
      "execution_count": null,
      "metadata": {
        "id": "l2VJFiZPzZrO"
      },
      "outputs": [],
      "source": [
        "grid_search = GridSearchCV(rf_clf , params_grid ,\n",
        "                           n_jobs =-1 ,cv=5 ,\n",
        "                           verbose =1 , \n",
        "                            scoring = 'accuracy')"
      ],
      "id": "l2VJFiZPzZrO"
    },
    {
      "cell_type": "code",
      "execution_count": null,
      "metadata": {
        "id": "z2QP7oBbz9nz",
        "colab": {
          "base_uri": "https://localhost:8080/",
          "height": 134
        },
        "outputId": "fffab99c-e626-4a78-907e-ca1e28f05230"
      },
      "outputs": [
        {
          "output_type": "stream",
          "name": "stdout",
          "text": [
            "Fitting 5 folds for each of 72 candidates, totalling 360 fits\n"
          ]
        },
        {
          "output_type": "execute_result",
          "data": {
            "text/plain": [
              "GridSearchCV(cv=5, estimator=RandomForestClassifier(random_state=42), n_jobs=-1,\n",
              "             param_grid={'bootstrap': [True, False],\n",
              "                         'criterion': ['gini', 'entropy'],\n",
              "                         'max_depth': [3, None], 'min_samples_leaf': [1, 3, 10],\n",
              "                         'min_samples_split': [2, 3, 10]},\n",
              "             scoring='accuracy', verbose=1)"
            ],
            "text/html": [
              "<style>#sk-container-id-3 {color: black;background-color: white;}#sk-container-id-3 pre{padding: 0;}#sk-container-id-3 div.sk-toggleable {background-color: white;}#sk-container-id-3 label.sk-toggleable__label {cursor: pointer;display: block;width: 100%;margin-bottom: 0;padding: 0.3em;box-sizing: border-box;text-align: center;}#sk-container-id-3 label.sk-toggleable__label-arrow:before {content: \"▸\";float: left;margin-right: 0.25em;color: #696969;}#sk-container-id-3 label.sk-toggleable__label-arrow:hover:before {color: black;}#sk-container-id-3 div.sk-estimator:hover label.sk-toggleable__label-arrow:before {color: black;}#sk-container-id-3 div.sk-toggleable__content {max-height: 0;max-width: 0;overflow: hidden;text-align: left;background-color: #f0f8ff;}#sk-container-id-3 div.sk-toggleable__content pre {margin: 0.2em;color: black;border-radius: 0.25em;background-color: #f0f8ff;}#sk-container-id-3 input.sk-toggleable__control:checked~div.sk-toggleable__content {max-height: 200px;max-width: 100%;overflow: auto;}#sk-container-id-3 input.sk-toggleable__control:checked~label.sk-toggleable__label-arrow:before {content: \"▾\";}#sk-container-id-3 div.sk-estimator input.sk-toggleable__control:checked~label.sk-toggleable__label {background-color: #d4ebff;}#sk-container-id-3 div.sk-label input.sk-toggleable__control:checked~label.sk-toggleable__label {background-color: #d4ebff;}#sk-container-id-3 input.sk-hidden--visually {border: 0;clip: rect(1px 1px 1px 1px);clip: rect(1px, 1px, 1px, 1px);height: 1px;margin: -1px;overflow: hidden;padding: 0;position: absolute;width: 1px;}#sk-container-id-3 div.sk-estimator {font-family: monospace;background-color: #f0f8ff;border: 1px dotted black;border-radius: 0.25em;box-sizing: border-box;margin-bottom: 0.5em;}#sk-container-id-3 div.sk-estimator:hover {background-color: #d4ebff;}#sk-container-id-3 div.sk-parallel-item::after {content: \"\";width: 100%;border-bottom: 1px solid gray;flex-grow: 1;}#sk-container-id-3 div.sk-label:hover label.sk-toggleable__label {background-color: #d4ebff;}#sk-container-id-3 div.sk-serial::before {content: \"\";position: absolute;border-left: 1px solid gray;box-sizing: border-box;top: 0;bottom: 0;left: 50%;z-index: 0;}#sk-container-id-3 div.sk-serial {display: flex;flex-direction: column;align-items: center;background-color: white;padding-right: 0.2em;padding-left: 0.2em;position: relative;}#sk-container-id-3 div.sk-item {position: relative;z-index: 1;}#sk-container-id-3 div.sk-parallel {display: flex;align-items: stretch;justify-content: center;background-color: white;position: relative;}#sk-container-id-3 div.sk-item::before, #sk-container-id-3 div.sk-parallel-item::before {content: \"\";position: absolute;border-left: 1px solid gray;box-sizing: border-box;top: 0;bottom: 0;left: 50%;z-index: -1;}#sk-container-id-3 div.sk-parallel-item {display: flex;flex-direction: column;z-index: 1;position: relative;background-color: white;}#sk-container-id-3 div.sk-parallel-item:first-child::after {align-self: flex-end;width: 50%;}#sk-container-id-3 div.sk-parallel-item:last-child::after {align-self: flex-start;width: 50%;}#sk-container-id-3 div.sk-parallel-item:only-child::after {width: 0;}#sk-container-id-3 div.sk-dashed-wrapped {border: 1px dashed gray;margin: 0 0.4em 0.5em 0.4em;box-sizing: border-box;padding-bottom: 0.4em;background-color: white;}#sk-container-id-3 div.sk-label label {font-family: monospace;font-weight: bold;display: inline-block;line-height: 1.2em;}#sk-container-id-3 div.sk-label-container {text-align: center;}#sk-container-id-3 div.sk-container {/* jupyter's `normalize.less` sets `[hidden] { display: none; }` but bootstrap.min.css set `[hidden] { display: none !important; }` so we also need the `!important` here to be able to override the default hidden behavior on the sphinx rendered scikit-learn.org. See: https://github.com/scikit-learn/scikit-learn/issues/21755 */display: inline-block !important;position: relative;}#sk-container-id-3 div.sk-text-repr-fallback {display: none;}</style><div id=\"sk-container-id-3\" class=\"sk-top-container\"><div class=\"sk-text-repr-fallback\"><pre>GridSearchCV(cv=5, estimator=RandomForestClassifier(random_state=42), n_jobs=-1,\n",
              "             param_grid={&#x27;bootstrap&#x27;: [True, False],\n",
              "                         &#x27;criterion&#x27;: [&#x27;gini&#x27;, &#x27;entropy&#x27;],\n",
              "                         &#x27;max_depth&#x27;: [3, None], &#x27;min_samples_leaf&#x27;: [1, 3, 10],\n",
              "                         &#x27;min_samples_split&#x27;: [2, 3, 10]},\n",
              "             scoring=&#x27;accuracy&#x27;, verbose=1)</pre><b>In a Jupyter environment, please rerun this cell to show the HTML representation or trust the notebook. <br />On GitHub, the HTML representation is unable to render, please try loading this page with nbviewer.org.</b></div><div class=\"sk-container\" hidden><div class=\"sk-item sk-dashed-wrapped\"><div class=\"sk-label-container\"><div class=\"sk-label sk-toggleable\"><input class=\"sk-toggleable__control sk-hidden--visually\" id=\"sk-estimator-id-3\" type=\"checkbox\" ><label for=\"sk-estimator-id-3\" class=\"sk-toggleable__label sk-toggleable__label-arrow\">GridSearchCV</label><div class=\"sk-toggleable__content\"><pre>GridSearchCV(cv=5, estimator=RandomForestClassifier(random_state=42), n_jobs=-1,\n",
              "             param_grid={&#x27;bootstrap&#x27;: [True, False],\n",
              "                         &#x27;criterion&#x27;: [&#x27;gini&#x27;, &#x27;entropy&#x27;],\n",
              "                         &#x27;max_depth&#x27;: [3, None], &#x27;min_samples_leaf&#x27;: [1, 3, 10],\n",
              "                         &#x27;min_samples_split&#x27;: [2, 3, 10]},\n",
              "             scoring=&#x27;accuracy&#x27;, verbose=1)</pre></div></div></div><div class=\"sk-parallel\"><div class=\"sk-parallel-item\"><div class=\"sk-item\"><div class=\"sk-label-container\"><div class=\"sk-label sk-toggleable\"><input class=\"sk-toggleable__control sk-hidden--visually\" id=\"sk-estimator-id-4\" type=\"checkbox\" ><label for=\"sk-estimator-id-4\" class=\"sk-toggleable__label sk-toggleable__label-arrow\">estimator: RandomForestClassifier</label><div class=\"sk-toggleable__content\"><pre>RandomForestClassifier(random_state=42)</pre></div></div></div><div class=\"sk-serial\"><div class=\"sk-item\"><div class=\"sk-estimator sk-toggleable\"><input class=\"sk-toggleable__control sk-hidden--visually\" id=\"sk-estimator-id-5\" type=\"checkbox\" ><label for=\"sk-estimator-id-5\" class=\"sk-toggleable__label sk-toggleable__label-arrow\">RandomForestClassifier</label><div class=\"sk-toggleable__content\"><pre>RandomForestClassifier(random_state=42)</pre></div></div></div></div></div></div></div></div></div></div>"
            ]
          },
          "metadata": {},
          "execution_count": 66
        }
      ],
      "source": [
        "grid_search.fit(X_train,y_train)"
      ],
      "id": "z2QP7oBbz9nz"
    },
    {
      "cell_type": "code",
      "execution_count": null,
      "metadata": {
        "id": "JaQ4vGVj04g4",
        "colab": {
          "base_uri": "https://localhost:8080/"
        },
        "outputId": "460336b5-23cf-4e72-f9c0-284c839ed221"
      },
      "outputs": [
        {
          "output_type": "execute_result",
          "data": {
            "text/plain": [
              "0.802964583421937"
            ]
          },
          "metadata": {},
          "execution_count": 67
        }
      ],
      "source": [
        "grid_search.best_score_"
      ],
      "id": "JaQ4vGVj04g4"
    },
    {
      "cell_type": "code",
      "execution_count": null,
      "metadata": {
        "id": "RdIXHspMNP_L",
        "colab": {
          "base_uri": "https://localhost:8080/"
        },
        "outputId": "d4ca9de3-5299-4e9d-81a2-ffe73b5ccd0e"
      },
      "outputs": [
        {
          "output_type": "execute_result",
          "data": {
            "text/plain": [
              "{'bootstrap': True,\n",
              " 'ccp_alpha': 0.0,\n",
              " 'class_weight': None,\n",
              " 'criterion': 'gini',\n",
              " 'max_depth': None,\n",
              " 'max_features': 'sqrt',\n",
              " 'max_leaf_nodes': None,\n",
              " 'max_samples': None,\n",
              " 'min_impurity_decrease': 0.0,\n",
              " 'min_samples_leaf': 3,\n",
              " 'min_samples_split': 10,\n",
              " 'min_weight_fraction_leaf': 0.0,\n",
              " 'n_estimators': 100,\n",
              " 'n_jobs': None,\n",
              " 'oob_score': False,\n",
              " 'random_state': 42,\n",
              " 'verbose': 0,\n",
              " 'warm_start': False}"
            ]
          },
          "metadata": {},
          "execution_count": 70
        }
      ],
      "source": [
        "grid_search.best_estimator_.get_params()"
      ],
      "id": "RdIXHspMNP_L"
    },
    {
      "cell_type": "code",
      "execution_count": null,
      "metadata": {
        "id": "66-toxm4Nco7",
        "colab": {
          "base_uri": "https://localhost:8080/"
        },
        "outputId": "aa609d64-d720-4c8b-b412-16db72b70a6f"
      },
      "outputs": [
        {
          "output_type": "stream",
          "name": "stdout",
          "text": [
            "Test Result :\n",
            "\n",
            "Accuracy score : 0.801429\n",
            "\n",
            "Classification Report :\n",
            "               precision    recall  f1-score   support\n",
            "\n",
            "           0       0.86      0.72      0.79      2122\n",
            "           1       0.76      0.88      0.81      2078\n",
            "\n",
            "    accuracy                           0.80      4200\n",
            "   macro avg       0.81      0.80      0.80      4200\n",
            "weighted avg       0.81      0.80      0.80      4200\n",
            "\n",
            "\n",
            "Confusion Matrix :\n",
            " [[1536  586]\n",
            " [ 248 1830]] \n",
            "\n",
            "ROC AUC: 0.802250\n",
            "\n",
            "\n",
            " /****************************/ \n",
            "\n",
            "Train Result :\n",
            "\n",
            "Accuracy score : 0.896244\n",
            "\n",
            "Classification Report :\n",
            "               precision    recall  f1-score   support\n",
            "\n",
            "           0       0.94      0.85      0.89      8364\n",
            "           1       0.86      0.94      0.90      8435\n",
            "\n",
            "    accuracy                           0.90     16799\n",
            "   macro avg       0.90      0.90      0.90     16799\n",
            "weighted avg       0.90      0.90      0.90     16799\n",
            "\n",
            "\n",
            "Confusion Matrix :\n",
            " [[7086 1278]\n",
            " [ 465 7970]] \n",
            "\n",
            "ROC AUC: 0.896037\n",
            "\n",
            "Fitting 5 folds for each of 72 candidates, totalling 360 fits\n",
            "Fitting 5 folds for each of 72 candidates, totalling 360 fits\n",
            "Fitting 5 folds for each of 72 candidates, totalling 360 fits\n",
            "Fitting 5 folds for each of 72 candidates, totalling 360 fits\n",
            "Fitting 5 folds for each of 72 candidates, totalling 360 fits\n",
            "Fitting 5 folds for each of 72 candidates, totalling 360 fits\n",
            "Fitting 5 folds for each of 72 candidates, totalling 360 fits\n",
            "Fitting 5 folds for each of 72 candidates, totalling 360 fits\n",
            "Fitting 5 folds for each of 72 candidates, totalling 360 fits\n",
            "Fitting 5 folds for each of 72 candidates, totalling 360 fits\n",
            "Average Accuracy : 0.803560\n",
            "Accuracy SD: \t\t 0.005003\n"
          ]
        }
      ],
      "source": [
        "print_score(grid_search , X_train ,X_test , y_train , y_test,train = False)\n",
        "print(\"\\n /****************************/ \\n\")\n",
        "print_score(grid_search , X_train , X_test , y_train , y_test , train = True)"
      ],
      "id": "66-toxm4Nco7"
    },
    {
      "cell_type": "code",
      "execution_count": null,
      "metadata": {
        "id": "U8zV45N6N5hz"
      },
      "outputs": [],
      "source": [],
      "id": "U8zV45N6N5hz"
    },
    {
      "cell_type": "markdown",
      "metadata": {
        "id": "rgNFjqF4N-4S"
      },
      "source": [
        "#### Extra -Trees Ensemble"
      ],
      "id": "rgNFjqF4N-4S"
    },
    {
      "cell_type": "code",
      "execution_count": null,
      "metadata": {
        "id": "Wd41CGifODF9"
      },
      "outputs": [],
      "source": [
        "from sklearn.ensemble import ExtraTreesClassifier"
      ],
      "id": "Wd41CGifODF9"
    },
    {
      "cell_type": "code",
      "execution_count": null,
      "metadata": {
        "id": "X1pdRLJROOWh"
      },
      "outputs": [],
      "source": [
        "xt_clf = ExtraTreesClassifier(random_state=42 , n_estimators=100)"
      ],
      "id": "X1pdRLJROOWh"
    },
    {
      "cell_type": "code",
      "execution_count": null,
      "metadata": {
        "id": "5ENGUXhdOdqx",
        "colab": {
          "base_uri": "https://localhost:8080/",
          "height": 74
        },
        "outputId": "1d729762-0618-42ec-f9a4-dee21704413e"
      },
      "outputs": [
        {
          "output_type": "execute_result",
          "data": {
            "text/plain": [
              "ExtraTreesClassifier(random_state=42)"
            ],
            "text/html": [
              "<style>#sk-container-id-3 {color: black;background-color: white;}#sk-container-id-3 pre{padding: 0;}#sk-container-id-3 div.sk-toggleable {background-color: white;}#sk-container-id-3 label.sk-toggleable__label {cursor: pointer;display: block;width: 100%;margin-bottom: 0;padding: 0.3em;box-sizing: border-box;text-align: center;}#sk-container-id-3 label.sk-toggleable__label-arrow:before {content: \"▸\";float: left;margin-right: 0.25em;color: #696969;}#sk-container-id-3 label.sk-toggleable__label-arrow:hover:before {color: black;}#sk-container-id-3 div.sk-estimator:hover label.sk-toggleable__label-arrow:before {color: black;}#sk-container-id-3 div.sk-toggleable__content {max-height: 0;max-width: 0;overflow: hidden;text-align: left;background-color: #f0f8ff;}#sk-container-id-3 div.sk-toggleable__content pre {margin: 0.2em;color: black;border-radius: 0.25em;background-color: #f0f8ff;}#sk-container-id-3 input.sk-toggleable__control:checked~div.sk-toggleable__content {max-height: 200px;max-width: 100%;overflow: auto;}#sk-container-id-3 input.sk-toggleable__control:checked~label.sk-toggleable__label-arrow:before {content: \"▾\";}#sk-container-id-3 div.sk-estimator input.sk-toggleable__control:checked~label.sk-toggleable__label {background-color: #d4ebff;}#sk-container-id-3 div.sk-label input.sk-toggleable__control:checked~label.sk-toggleable__label {background-color: #d4ebff;}#sk-container-id-3 input.sk-hidden--visually {border: 0;clip: rect(1px 1px 1px 1px);clip: rect(1px, 1px, 1px, 1px);height: 1px;margin: -1px;overflow: hidden;padding: 0;position: absolute;width: 1px;}#sk-container-id-3 div.sk-estimator {font-family: monospace;background-color: #f0f8ff;border: 1px dotted black;border-radius: 0.25em;box-sizing: border-box;margin-bottom: 0.5em;}#sk-container-id-3 div.sk-estimator:hover {background-color: #d4ebff;}#sk-container-id-3 div.sk-parallel-item::after {content: \"\";width: 100%;border-bottom: 1px solid gray;flex-grow: 1;}#sk-container-id-3 div.sk-label:hover label.sk-toggleable__label {background-color: #d4ebff;}#sk-container-id-3 div.sk-serial::before {content: \"\";position: absolute;border-left: 1px solid gray;box-sizing: border-box;top: 0;bottom: 0;left: 50%;z-index: 0;}#sk-container-id-3 div.sk-serial {display: flex;flex-direction: column;align-items: center;background-color: white;padding-right: 0.2em;padding-left: 0.2em;position: relative;}#sk-container-id-3 div.sk-item {position: relative;z-index: 1;}#sk-container-id-3 div.sk-parallel {display: flex;align-items: stretch;justify-content: center;background-color: white;position: relative;}#sk-container-id-3 div.sk-item::before, #sk-container-id-3 div.sk-parallel-item::before {content: \"\";position: absolute;border-left: 1px solid gray;box-sizing: border-box;top: 0;bottom: 0;left: 50%;z-index: -1;}#sk-container-id-3 div.sk-parallel-item {display: flex;flex-direction: column;z-index: 1;position: relative;background-color: white;}#sk-container-id-3 div.sk-parallel-item:first-child::after {align-self: flex-end;width: 50%;}#sk-container-id-3 div.sk-parallel-item:last-child::after {align-self: flex-start;width: 50%;}#sk-container-id-3 div.sk-parallel-item:only-child::after {width: 0;}#sk-container-id-3 div.sk-dashed-wrapped {border: 1px dashed gray;margin: 0 0.4em 0.5em 0.4em;box-sizing: border-box;padding-bottom: 0.4em;background-color: white;}#sk-container-id-3 div.sk-label label {font-family: monospace;font-weight: bold;display: inline-block;line-height: 1.2em;}#sk-container-id-3 div.sk-label-container {text-align: center;}#sk-container-id-3 div.sk-container {/* jupyter's `normalize.less` sets `[hidden] { display: none; }` but bootstrap.min.css set `[hidden] { display: none !important; }` so we also need the `!important` here to be able to override the default hidden behavior on the sphinx rendered scikit-learn.org. See: https://github.com/scikit-learn/scikit-learn/issues/21755 */display: inline-block !important;position: relative;}#sk-container-id-3 div.sk-text-repr-fallback {display: none;}</style><div id=\"sk-container-id-3\" class=\"sk-top-container\"><div class=\"sk-text-repr-fallback\"><pre>ExtraTreesClassifier(random_state=42)</pre><b>In a Jupyter environment, please rerun this cell to show the HTML representation or trust the notebook. <br />On GitHub, the HTML representation is unable to render, please try loading this page with nbviewer.org.</b></div><div class=\"sk-container\" hidden><div class=\"sk-item\"><div class=\"sk-estimator sk-toggleable\"><input class=\"sk-toggleable__control sk-hidden--visually\" id=\"sk-estimator-id-3\" type=\"checkbox\" checked><label for=\"sk-estimator-id-3\" class=\"sk-toggleable__label sk-toggleable__label-arrow\">ExtraTreesClassifier</label><div class=\"sk-toggleable__content\"><pre>ExtraTreesClassifier(random_state=42)</pre></div></div></div></div></div>"
            ]
          },
          "metadata": {},
          "execution_count": 56
        }
      ],
      "source": [
        "xt_clf.fit(X_train, y_train)"
      ],
      "id": "5ENGUXhdOdqx"
    },
    {
      "cell_type": "code",
      "execution_count": null,
      "metadata": {
        "id": "CKE27oh1Oi9c",
        "colab": {
          "base_uri": "https://localhost:8080/"
        },
        "outputId": "7208d06e-6b78-43ed-d8ff-ede175afba32"
      },
      "outputs": [
        {
          "output_type": "stream",
          "name": "stdout",
          "text": [
            "Test Result :\n",
            "\n",
            "Accuracy score : 0.785952\n",
            "\n",
            "Classification Report :\n",
            "               precision    recall  f1-score   support\n",
            "\n",
            "           0       0.83      0.73      0.77      2122\n",
            "           1       0.75      0.84      0.80      2078\n",
            "\n",
            "    accuracy                           0.79      4200\n",
            "   macro avg       0.79      0.79      0.79      4200\n",
            "weighted avg       0.79      0.79      0.79      4200\n",
            "\n",
            "\n",
            "Confusion Matrix :\n",
            " [[1546  576]\n",
            " [ 323 1755]] \n",
            "\n",
            "ROC AUC: 0.786560\n",
            "\n",
            "\n",
            " /**************************************/ \n",
            "\n",
            "Train Result :\n",
            "\n",
            "Accuracy score : 0.998869\n",
            "\n",
            "Classification Report :\n",
            "               precision    recall  f1-score   support\n",
            "\n",
            "           0       1.00      1.00      1.00      8364\n",
            "           1       1.00      1.00      1.00      8435\n",
            "\n",
            "    accuracy                           1.00     16799\n",
            "   macro avg       1.00      1.00      1.00     16799\n",
            "weighted avg       1.00      1.00      1.00     16799\n",
            "\n",
            "\n",
            "Confusion Matrix :\n",
            " [[8364    0]\n",
            " [  19 8416]] \n",
            "\n",
            "ROC AUC: 0.998874\n",
            "\n",
            "Average Accuracy : 0.794334\n",
            "Accuracy SD: \t\t 0.007621\n"
          ]
        }
      ],
      "source": [
        "print_score(xt_clf ,X_train ,X_test , y_train ,y_test , train = False)  \n",
        "print(\"\\n /**************************************/ \\n\")\n",
        "print_score(xt_clf , X_train , X_test , y_train , y_test , train = True)"
      ],
      "id": "CKE27oh1Oi9c"
    },
    {
      "cell_type": "code",
      "execution_count": null,
      "metadata": {
        "id": "DtFHFIX-O9ck"
      },
      "outputs": [],
      "source": [],
      "id": "DtFHFIX-O9ck"
    },
    {
      "cell_type": "code",
      "execution_count": null,
      "metadata": {
        "id": "B_4Sra-dY8XN"
      },
      "outputs": [],
      "source": [],
      "id": "B_4Sra-dY8XN"
    },
    {
      "cell_type": "markdown",
      "metadata": {
        "id": "_rtG_3kEZP5i"
      },
      "source": [
        "#### ADABoost "
      ],
      "id": "_rtG_3kEZP5i"
    },
    {
      "cell_type": "code",
      "execution_count": null,
      "metadata": {
        "id": "Nw2AYbkHZT8L"
      },
      "outputs": [],
      "source": [
        "from sklearn.ensemble import AdaBoostClassifier"
      ],
      "id": "Nw2AYbkHZT8L"
    },
    {
      "cell_type": "code",
      "execution_count": null,
      "metadata": {
        "id": "Er1KKuhXaldH"
      },
      "outputs": [],
      "source": [
        "ada_clf = AdaBoostClassifier(random_state = 42 ,  n_estimators=100 )"
      ],
      "id": "Er1KKuhXaldH"
    },
    {
      "cell_type": "code",
      "execution_count": null,
      "metadata": {
        "id": "JqS5QddFZddE",
        "colab": {
          "base_uri": "https://localhost:8080/",
          "height": 74
        },
        "outputId": "6faa2dac-4ad1-45de-bc8f-ed1230924393"
      },
      "outputs": [
        {
          "output_type": "execute_result",
          "data": {
            "text/plain": [
              "AdaBoostClassifier(n_estimators=100, random_state=42)"
            ],
            "text/html": [
              "<style>#sk-container-id-5 {color: black;background-color: white;}#sk-container-id-5 pre{padding: 0;}#sk-container-id-5 div.sk-toggleable {background-color: white;}#sk-container-id-5 label.sk-toggleable__label {cursor: pointer;display: block;width: 100%;margin-bottom: 0;padding: 0.3em;box-sizing: border-box;text-align: center;}#sk-container-id-5 label.sk-toggleable__label-arrow:before {content: \"▸\";float: left;margin-right: 0.25em;color: #696969;}#sk-container-id-5 label.sk-toggleable__label-arrow:hover:before {color: black;}#sk-container-id-5 div.sk-estimator:hover label.sk-toggleable__label-arrow:before {color: black;}#sk-container-id-5 div.sk-toggleable__content {max-height: 0;max-width: 0;overflow: hidden;text-align: left;background-color: #f0f8ff;}#sk-container-id-5 div.sk-toggleable__content pre {margin: 0.2em;color: black;border-radius: 0.25em;background-color: #f0f8ff;}#sk-container-id-5 input.sk-toggleable__control:checked~div.sk-toggleable__content {max-height: 200px;max-width: 100%;overflow: auto;}#sk-container-id-5 input.sk-toggleable__control:checked~label.sk-toggleable__label-arrow:before {content: \"▾\";}#sk-container-id-5 div.sk-estimator input.sk-toggleable__control:checked~label.sk-toggleable__label {background-color: #d4ebff;}#sk-container-id-5 div.sk-label input.sk-toggleable__control:checked~label.sk-toggleable__label {background-color: #d4ebff;}#sk-container-id-5 input.sk-hidden--visually {border: 0;clip: rect(1px 1px 1px 1px);clip: rect(1px, 1px, 1px, 1px);height: 1px;margin: -1px;overflow: hidden;padding: 0;position: absolute;width: 1px;}#sk-container-id-5 div.sk-estimator {font-family: monospace;background-color: #f0f8ff;border: 1px dotted black;border-radius: 0.25em;box-sizing: border-box;margin-bottom: 0.5em;}#sk-container-id-5 div.sk-estimator:hover {background-color: #d4ebff;}#sk-container-id-5 div.sk-parallel-item::after {content: \"\";width: 100%;border-bottom: 1px solid gray;flex-grow: 1;}#sk-container-id-5 div.sk-label:hover label.sk-toggleable__label {background-color: #d4ebff;}#sk-container-id-5 div.sk-serial::before {content: \"\";position: absolute;border-left: 1px solid gray;box-sizing: border-box;top: 0;bottom: 0;left: 50%;z-index: 0;}#sk-container-id-5 div.sk-serial {display: flex;flex-direction: column;align-items: center;background-color: white;padding-right: 0.2em;padding-left: 0.2em;position: relative;}#sk-container-id-5 div.sk-item {position: relative;z-index: 1;}#sk-container-id-5 div.sk-parallel {display: flex;align-items: stretch;justify-content: center;background-color: white;position: relative;}#sk-container-id-5 div.sk-item::before, #sk-container-id-5 div.sk-parallel-item::before {content: \"\";position: absolute;border-left: 1px solid gray;box-sizing: border-box;top: 0;bottom: 0;left: 50%;z-index: -1;}#sk-container-id-5 div.sk-parallel-item {display: flex;flex-direction: column;z-index: 1;position: relative;background-color: white;}#sk-container-id-5 div.sk-parallel-item:first-child::after {align-self: flex-end;width: 50%;}#sk-container-id-5 div.sk-parallel-item:last-child::after {align-self: flex-start;width: 50%;}#sk-container-id-5 div.sk-parallel-item:only-child::after {width: 0;}#sk-container-id-5 div.sk-dashed-wrapped {border: 1px dashed gray;margin: 0 0.4em 0.5em 0.4em;box-sizing: border-box;padding-bottom: 0.4em;background-color: white;}#sk-container-id-5 div.sk-label label {font-family: monospace;font-weight: bold;display: inline-block;line-height: 1.2em;}#sk-container-id-5 div.sk-label-container {text-align: center;}#sk-container-id-5 div.sk-container {/* jupyter's `normalize.less` sets `[hidden] { display: none; }` but bootstrap.min.css set `[hidden] { display: none !important; }` so we also need the `!important` here to be able to override the default hidden behavior on the sphinx rendered scikit-learn.org. See: https://github.com/scikit-learn/scikit-learn/issues/21755 */display: inline-block !important;position: relative;}#sk-container-id-5 div.sk-text-repr-fallback {display: none;}</style><div id=\"sk-container-id-5\" class=\"sk-top-container\"><div class=\"sk-text-repr-fallback\"><pre>AdaBoostClassifier(n_estimators=100, random_state=42)</pre><b>In a Jupyter environment, please rerun this cell to show the HTML representation or trust the notebook. <br />On GitHub, the HTML representation is unable to render, please try loading this page with nbviewer.org.</b></div><div class=\"sk-container\" hidden><div class=\"sk-item\"><div class=\"sk-estimator sk-toggleable\"><input class=\"sk-toggleable__control sk-hidden--visually\" id=\"sk-estimator-id-7\" type=\"checkbox\" checked><label for=\"sk-estimator-id-7\" class=\"sk-toggleable__label sk-toggleable__label-arrow\">AdaBoostClassifier</label><div class=\"sk-toggleable__content\"><pre>AdaBoostClassifier(n_estimators=100, random_state=42)</pre></div></div></div></div></div>"
            ]
          },
          "metadata": {},
          "execution_count": 78
        }
      ],
      "source": [
        "ada_clf.fit(X_train , y_train)"
      ],
      "id": "JqS5QddFZddE"
    },
    {
      "cell_type": "code",
      "execution_count": null,
      "metadata": {
        "id": "UoxwXvYbcOvx",
        "colab": {
          "base_uri": "https://localhost:8080/"
        },
        "outputId": "447d82d8-0a27-4ec7-a12c-265c119c69c1"
      },
      "outputs": [
        {
          "output_type": "stream",
          "name": "stdout",
          "text": [
            "Test Result :\n",
            "\n",
            "Accuracy score : 0.785952\n",
            "\n",
            "Classification Report :\n",
            "               precision    recall  f1-score   support\n",
            "\n",
            "           0       0.83      0.73      0.77      2122\n",
            "           1       0.75      0.84      0.80      2078\n",
            "\n",
            "    accuracy                           0.79      4200\n",
            "   macro avg       0.79      0.79      0.79      4200\n",
            "weighted avg       0.79      0.79      0.79      4200\n",
            "\n",
            "\n",
            "Confusion Matrix :\n",
            " [[1546  576]\n",
            " [ 323 1755]] \n",
            "\n",
            "ROC AUC: 0.786560\n",
            "\n",
            "\n",
            " /**************************************/ \n",
            "\n",
            "Train Result :\n",
            "\n",
            "Accuracy score : 0.998869\n",
            "\n",
            "Classification Report :\n",
            "               precision    recall  f1-score   support\n",
            "\n",
            "           0       1.00      1.00      1.00      8364\n",
            "           1       1.00      1.00      1.00      8435\n",
            "\n",
            "    accuracy                           1.00     16799\n",
            "   macro avg       1.00      1.00      1.00     16799\n",
            "weighted avg       1.00      1.00      1.00     16799\n",
            "\n",
            "\n",
            "Confusion Matrix :\n",
            " [[8364    0]\n",
            " [  19 8416]] \n",
            "\n",
            "ROC AUC: 0.998874\n",
            "\n",
            "Average Accuracy : 0.794334\n",
            "Accuracy SD: \t\t 0.007621\n"
          ]
        }
      ],
      "source": [
        "print_score(xt_clf ,X_train ,X_test , y_train ,y_test , train = False)  \n",
        "print(\"\\n /**************************************/ \\n\")\n",
        "print_score(xt_clf , X_train , X_test , y_train , y_test , train = True)"
      ],
      "id": "UoxwXvYbcOvx"
    },
    {
      "cell_type": "markdown",
      "metadata": {
        "id": "xjyUH6i5eEnD"
      },
      "source": [
        "#### AdaBoost with Random Forest"
      ],
      "id": "xjyUH6i5eEnD"
    },
    {
      "cell_type": "code",
      "execution_count": null,
      "metadata": {
        "id": "75W1KRrgeYVy"
      },
      "outputs": [],
      "source": [
        "from sklearn.ensemble import RandomForestClassifier"
      ],
      "id": "75W1KRrgeYVy"
    },
    {
      "cell_type": "code",
      "execution_count": null,
      "metadata": {
        "id": "CFXS2Ys_dCpI"
      },
      "outputs": [],
      "source": [
        "ada_clf = AdaBoostClassifier(RandomForestClassifier(random_state = 42 ,  n_estimators=100 ))"
      ],
      "id": "CFXS2Ys_dCpI"
    },
    {
      "cell_type": "code",
      "execution_count": null,
      "metadata": {
        "id": "Hci5L1mDen7T",
        "colab": {
          "base_uri": "https://localhost:8080/",
          "height": 116
        },
        "outputId": "d25d9c8b-4b5c-4792-bcf0-10ebcbd49d6e"
      },
      "outputs": [
        {
          "output_type": "execute_result",
          "data": {
            "text/plain": [
              "AdaBoostClassifier(estimator=RandomForestClassifier(random_state=42))"
            ],
            "text/html": [
              "<style>#sk-container-id-6 {color: black;background-color: white;}#sk-container-id-6 pre{padding: 0;}#sk-container-id-6 div.sk-toggleable {background-color: white;}#sk-container-id-6 label.sk-toggleable__label {cursor: pointer;display: block;width: 100%;margin-bottom: 0;padding: 0.3em;box-sizing: border-box;text-align: center;}#sk-container-id-6 label.sk-toggleable__label-arrow:before {content: \"▸\";float: left;margin-right: 0.25em;color: #696969;}#sk-container-id-6 label.sk-toggleable__label-arrow:hover:before {color: black;}#sk-container-id-6 div.sk-estimator:hover label.sk-toggleable__label-arrow:before {color: black;}#sk-container-id-6 div.sk-toggleable__content {max-height: 0;max-width: 0;overflow: hidden;text-align: left;background-color: #f0f8ff;}#sk-container-id-6 div.sk-toggleable__content pre {margin: 0.2em;color: black;border-radius: 0.25em;background-color: #f0f8ff;}#sk-container-id-6 input.sk-toggleable__control:checked~div.sk-toggleable__content {max-height: 200px;max-width: 100%;overflow: auto;}#sk-container-id-6 input.sk-toggleable__control:checked~label.sk-toggleable__label-arrow:before {content: \"▾\";}#sk-container-id-6 div.sk-estimator input.sk-toggleable__control:checked~label.sk-toggleable__label {background-color: #d4ebff;}#sk-container-id-6 div.sk-label input.sk-toggleable__control:checked~label.sk-toggleable__label {background-color: #d4ebff;}#sk-container-id-6 input.sk-hidden--visually {border: 0;clip: rect(1px 1px 1px 1px);clip: rect(1px, 1px, 1px, 1px);height: 1px;margin: -1px;overflow: hidden;padding: 0;position: absolute;width: 1px;}#sk-container-id-6 div.sk-estimator {font-family: monospace;background-color: #f0f8ff;border: 1px dotted black;border-radius: 0.25em;box-sizing: border-box;margin-bottom: 0.5em;}#sk-container-id-6 div.sk-estimator:hover {background-color: #d4ebff;}#sk-container-id-6 div.sk-parallel-item::after {content: \"\";width: 100%;border-bottom: 1px solid gray;flex-grow: 1;}#sk-container-id-6 div.sk-label:hover label.sk-toggleable__label {background-color: #d4ebff;}#sk-container-id-6 div.sk-serial::before {content: \"\";position: absolute;border-left: 1px solid gray;box-sizing: border-box;top: 0;bottom: 0;left: 50%;z-index: 0;}#sk-container-id-6 div.sk-serial {display: flex;flex-direction: column;align-items: center;background-color: white;padding-right: 0.2em;padding-left: 0.2em;position: relative;}#sk-container-id-6 div.sk-item {position: relative;z-index: 1;}#sk-container-id-6 div.sk-parallel {display: flex;align-items: stretch;justify-content: center;background-color: white;position: relative;}#sk-container-id-6 div.sk-item::before, #sk-container-id-6 div.sk-parallel-item::before {content: \"\";position: absolute;border-left: 1px solid gray;box-sizing: border-box;top: 0;bottom: 0;left: 50%;z-index: -1;}#sk-container-id-6 div.sk-parallel-item {display: flex;flex-direction: column;z-index: 1;position: relative;background-color: white;}#sk-container-id-6 div.sk-parallel-item:first-child::after {align-self: flex-end;width: 50%;}#sk-container-id-6 div.sk-parallel-item:last-child::after {align-self: flex-start;width: 50%;}#sk-container-id-6 div.sk-parallel-item:only-child::after {width: 0;}#sk-container-id-6 div.sk-dashed-wrapped {border: 1px dashed gray;margin: 0 0.4em 0.5em 0.4em;box-sizing: border-box;padding-bottom: 0.4em;background-color: white;}#sk-container-id-6 div.sk-label label {font-family: monospace;font-weight: bold;display: inline-block;line-height: 1.2em;}#sk-container-id-6 div.sk-label-container {text-align: center;}#sk-container-id-6 div.sk-container {/* jupyter's `normalize.less` sets `[hidden] { display: none; }` but bootstrap.min.css set `[hidden] { display: none !important; }` so we also need the `!important` here to be able to override the default hidden behavior on the sphinx rendered scikit-learn.org. See: https://github.com/scikit-learn/scikit-learn/issues/21755 */display: inline-block !important;position: relative;}#sk-container-id-6 div.sk-text-repr-fallback {display: none;}</style><div id=\"sk-container-id-6\" class=\"sk-top-container\"><div class=\"sk-text-repr-fallback\"><pre>AdaBoostClassifier(estimator=RandomForestClassifier(random_state=42))</pre><b>In a Jupyter environment, please rerun this cell to show the HTML representation or trust the notebook. <br />On GitHub, the HTML representation is unable to render, please try loading this page with nbviewer.org.</b></div><div class=\"sk-container\" hidden><div class=\"sk-item sk-dashed-wrapped\"><div class=\"sk-label-container\"><div class=\"sk-label sk-toggleable\"><input class=\"sk-toggleable__control sk-hidden--visually\" id=\"sk-estimator-id-8\" type=\"checkbox\" ><label for=\"sk-estimator-id-8\" class=\"sk-toggleable__label sk-toggleable__label-arrow\">AdaBoostClassifier</label><div class=\"sk-toggleable__content\"><pre>AdaBoostClassifier(estimator=RandomForestClassifier(random_state=42))</pre></div></div></div><div class=\"sk-parallel\"><div class=\"sk-parallel-item\"><div class=\"sk-item\"><div class=\"sk-label-container\"><div class=\"sk-label sk-toggleable\"><input class=\"sk-toggleable__control sk-hidden--visually\" id=\"sk-estimator-id-9\" type=\"checkbox\" ><label for=\"sk-estimator-id-9\" class=\"sk-toggleable__label sk-toggleable__label-arrow\">estimator: RandomForestClassifier</label><div class=\"sk-toggleable__content\"><pre>RandomForestClassifier(random_state=42)</pre></div></div></div><div class=\"sk-serial\"><div class=\"sk-item\"><div class=\"sk-estimator sk-toggleable\"><input class=\"sk-toggleable__control sk-hidden--visually\" id=\"sk-estimator-id-10\" type=\"checkbox\" ><label for=\"sk-estimator-id-10\" class=\"sk-toggleable__label sk-toggleable__label-arrow\">RandomForestClassifier</label><div class=\"sk-toggleable__content\"><pre>RandomForestClassifier(random_state=42)</pre></div></div></div></div></div></div></div></div></div></div>"
            ]
          },
          "metadata": {},
          "execution_count": 82
        }
      ],
      "source": [
        "ada_clf.fit(X_train , y_train)"
      ],
      "id": "Hci5L1mDen7T"
    },
    {
      "cell_type": "code",
      "execution_count": null,
      "metadata": {
        "id": "aVlCyfuleo6w",
        "colab": {
          "base_uri": "https://localhost:8080/"
        },
        "outputId": "de1e5db1-b84e-470f-9762-a29eb4e22f6f"
      },
      "outputs": [
        {
          "output_type": "stream",
          "name": "stdout",
          "text": [
            "Test Result :\n",
            "\n",
            "Accuracy score : 0.785952\n",
            "\n",
            "Classification Report :\n",
            "               precision    recall  f1-score   support\n",
            "\n",
            "           0       0.83      0.73      0.77      2122\n",
            "           1       0.75      0.84      0.80      2078\n",
            "\n",
            "    accuracy                           0.79      4200\n",
            "   macro avg       0.79      0.79      0.79      4200\n",
            "weighted avg       0.79      0.79      0.79      4200\n",
            "\n",
            "\n",
            "Confusion Matrix :\n",
            " [[1546  576]\n",
            " [ 323 1755]] \n",
            "\n",
            "ROC AUC: 0.786560\n",
            "\n",
            "\n",
            " /**************************************/ \n",
            "\n",
            "Train Result :\n",
            "\n",
            "Accuracy score : 0.998869\n",
            "\n",
            "Classification Report :\n",
            "               precision    recall  f1-score   support\n",
            "\n",
            "           0       1.00      1.00      1.00      8364\n",
            "           1       1.00      1.00      1.00      8435\n",
            "\n",
            "    accuracy                           1.00     16799\n",
            "   macro avg       1.00      1.00      1.00     16799\n",
            "weighted avg       1.00      1.00      1.00     16799\n",
            "\n",
            "\n",
            "Confusion Matrix :\n",
            " [[8364    0]\n",
            " [  19 8416]] \n",
            "\n",
            "ROC AUC: 0.998874\n",
            "\n",
            "Average Accuracy : 0.794334\n",
            "Accuracy SD: \t\t 0.007621\n"
          ]
        }
      ],
      "source": [
        "print_score(xt_clf ,X_train ,X_test , y_train ,y_test , train = False)  \n",
        "print(\"\\n /**************************************/ \\n\")\n",
        "print_score(xt_clf , X_train , X_test , y_train , y_test , train = True)"
      ],
      "id": "aVlCyfuleo6w"
    },
    {
      "cell_type": "markdown",
      "metadata": {
        "id": "S1v0W0c4goVo"
      },
      "source": [
        "### XGBoost"
      ],
      "id": "S1v0W0c4goVo"
    },
    {
      "cell_type": "code",
      "execution_count": null,
      "metadata": {
        "id": "mcxyTznPgqrS"
      },
      "outputs": [],
      "source": [
        "import xgboost as xgb"
      ],
      "id": "mcxyTznPgqrS"
    },
    {
      "cell_type": "code",
      "execution_count": null,
      "metadata": {
        "id": "Lo6SE4v_gzo8"
      },
      "outputs": [],
      "source": [
        "xgb_clf = xgb.XGBClassifier(max_depth=5 , n_estimaters=100 ,learning_rate= 0.3 ,\n",
        "                            n_jobs = -1)"
      ],
      "id": "Lo6SE4v_gzo8"
    },
    {
      "cell_type": "code",
      "execution_count": null,
      "metadata": {
        "id": "pDZY_ODvhPCV",
        "colab": {
          "base_uri": "https://localhost:8080/",
          "height": 302
        },
        "outputId": "4f3e9e60-ee4e-4e2a-8a10-a6ca872e7687"
      },
      "outputs": [
        {
          "output_type": "stream",
          "name": "stdout",
          "text": [
            "[17:50:02] WARNING: ../src/learner.cc:767: \n",
            "Parameters: { \"n_estimaters\" } are not used.\n",
            "\n"
          ]
        },
        {
          "output_type": "execute_result",
          "data": {
            "text/plain": [
              "XGBClassifier(base_score=None, booster=None, callbacks=None,\n",
              "              colsample_bylevel=None, colsample_bynode=None,\n",
              "              colsample_bytree=None, early_stopping_rounds=None,\n",
              "              enable_categorical=False, eval_metric=None, feature_types=None,\n",
              "              gamma=None, gpu_id=None, grow_policy=None, importance_type=None,\n",
              "              interaction_constraints=None, learning_rate=0.3, max_bin=None,\n",
              "              max_cat_threshold=None, max_cat_to_onehot=None,\n",
              "              max_delta_step=None, max_depth=5, max_leaves=None,\n",
              "              min_child_weight=None, missing=nan, monotone_constraints=None,\n",
              "              n_estimaters=100, n_estimators=100, n_jobs=-1,\n",
              "              num_parallel_tree=None, predictor=None, ...)"
            ],
            "text/html": [
              "<style>#sk-container-id-7 {color: black;background-color: white;}#sk-container-id-7 pre{padding: 0;}#sk-container-id-7 div.sk-toggleable {background-color: white;}#sk-container-id-7 label.sk-toggleable__label {cursor: pointer;display: block;width: 100%;margin-bottom: 0;padding: 0.3em;box-sizing: border-box;text-align: center;}#sk-container-id-7 label.sk-toggleable__label-arrow:before {content: \"▸\";float: left;margin-right: 0.25em;color: #696969;}#sk-container-id-7 label.sk-toggleable__label-arrow:hover:before {color: black;}#sk-container-id-7 div.sk-estimator:hover label.sk-toggleable__label-arrow:before {color: black;}#sk-container-id-7 div.sk-toggleable__content {max-height: 0;max-width: 0;overflow: hidden;text-align: left;background-color: #f0f8ff;}#sk-container-id-7 div.sk-toggleable__content pre {margin: 0.2em;color: black;border-radius: 0.25em;background-color: #f0f8ff;}#sk-container-id-7 input.sk-toggleable__control:checked~div.sk-toggleable__content {max-height: 200px;max-width: 100%;overflow: auto;}#sk-container-id-7 input.sk-toggleable__control:checked~label.sk-toggleable__label-arrow:before {content: \"▾\";}#sk-container-id-7 div.sk-estimator input.sk-toggleable__control:checked~label.sk-toggleable__label {background-color: #d4ebff;}#sk-container-id-7 div.sk-label input.sk-toggleable__control:checked~label.sk-toggleable__label {background-color: #d4ebff;}#sk-container-id-7 input.sk-hidden--visually {border: 0;clip: rect(1px 1px 1px 1px);clip: rect(1px, 1px, 1px, 1px);height: 1px;margin: -1px;overflow: hidden;padding: 0;position: absolute;width: 1px;}#sk-container-id-7 div.sk-estimator {font-family: monospace;background-color: #f0f8ff;border: 1px dotted black;border-radius: 0.25em;box-sizing: border-box;margin-bottom: 0.5em;}#sk-container-id-7 div.sk-estimator:hover {background-color: #d4ebff;}#sk-container-id-7 div.sk-parallel-item::after {content: \"\";width: 100%;border-bottom: 1px solid gray;flex-grow: 1;}#sk-container-id-7 div.sk-label:hover label.sk-toggleable__label {background-color: #d4ebff;}#sk-container-id-7 div.sk-serial::before {content: \"\";position: absolute;border-left: 1px solid gray;box-sizing: border-box;top: 0;bottom: 0;left: 50%;z-index: 0;}#sk-container-id-7 div.sk-serial {display: flex;flex-direction: column;align-items: center;background-color: white;padding-right: 0.2em;padding-left: 0.2em;position: relative;}#sk-container-id-7 div.sk-item {position: relative;z-index: 1;}#sk-container-id-7 div.sk-parallel {display: flex;align-items: stretch;justify-content: center;background-color: white;position: relative;}#sk-container-id-7 div.sk-item::before, #sk-container-id-7 div.sk-parallel-item::before {content: \"\";position: absolute;border-left: 1px solid gray;box-sizing: border-box;top: 0;bottom: 0;left: 50%;z-index: -1;}#sk-container-id-7 div.sk-parallel-item {display: flex;flex-direction: column;z-index: 1;position: relative;background-color: white;}#sk-container-id-7 div.sk-parallel-item:first-child::after {align-self: flex-end;width: 50%;}#sk-container-id-7 div.sk-parallel-item:last-child::after {align-self: flex-start;width: 50%;}#sk-container-id-7 div.sk-parallel-item:only-child::after {width: 0;}#sk-container-id-7 div.sk-dashed-wrapped {border: 1px dashed gray;margin: 0 0.4em 0.5em 0.4em;box-sizing: border-box;padding-bottom: 0.4em;background-color: white;}#sk-container-id-7 div.sk-label label {font-family: monospace;font-weight: bold;display: inline-block;line-height: 1.2em;}#sk-container-id-7 div.sk-label-container {text-align: center;}#sk-container-id-7 div.sk-container {/* jupyter's `normalize.less` sets `[hidden] { display: none; }` but bootstrap.min.css set `[hidden] { display: none !important; }` so we also need the `!important` here to be able to override the default hidden behavior on the sphinx rendered scikit-learn.org. See: https://github.com/scikit-learn/scikit-learn/issues/21755 */display: inline-block !important;position: relative;}#sk-container-id-7 div.sk-text-repr-fallback {display: none;}</style><div id=\"sk-container-id-7\" class=\"sk-top-container\"><div class=\"sk-text-repr-fallback\"><pre>XGBClassifier(base_score=None, booster=None, callbacks=None,\n",
              "              colsample_bylevel=None, colsample_bynode=None,\n",
              "              colsample_bytree=None, early_stopping_rounds=None,\n",
              "              enable_categorical=False, eval_metric=None, feature_types=None,\n",
              "              gamma=None, gpu_id=None, grow_policy=None, importance_type=None,\n",
              "              interaction_constraints=None, learning_rate=0.3, max_bin=None,\n",
              "              max_cat_threshold=None, max_cat_to_onehot=None,\n",
              "              max_delta_step=None, max_depth=5, max_leaves=None,\n",
              "              min_child_weight=None, missing=nan, monotone_constraints=None,\n",
              "              n_estimaters=100, n_estimators=100, n_jobs=-1,\n",
              "              num_parallel_tree=None, predictor=None, ...)</pre><b>In a Jupyter environment, please rerun this cell to show the HTML representation or trust the notebook. <br />On GitHub, the HTML representation is unable to render, please try loading this page with nbviewer.org.</b></div><div class=\"sk-container\" hidden><div class=\"sk-item\"><div class=\"sk-estimator sk-toggleable\"><input class=\"sk-toggleable__control sk-hidden--visually\" id=\"sk-estimator-id-11\" type=\"checkbox\" checked><label for=\"sk-estimator-id-11\" class=\"sk-toggleable__label sk-toggleable__label-arrow\">XGBClassifier</label><div class=\"sk-toggleable__content\"><pre>XGBClassifier(base_score=None, booster=None, callbacks=None,\n",
              "              colsample_bylevel=None, colsample_bynode=None,\n",
              "              colsample_bytree=None, early_stopping_rounds=None,\n",
              "              enable_categorical=False, eval_metric=None, feature_types=None,\n",
              "              gamma=None, gpu_id=None, grow_policy=None, importance_type=None,\n",
              "              interaction_constraints=None, learning_rate=0.3, max_bin=None,\n",
              "              max_cat_threshold=None, max_cat_to_onehot=None,\n",
              "              max_delta_step=None, max_depth=5, max_leaves=None,\n",
              "              min_child_weight=None, missing=nan, monotone_constraints=None,\n",
              "              n_estimaters=100, n_estimators=100, n_jobs=-1,\n",
              "              num_parallel_tree=None, predictor=None, ...)</pre></div></div></div></div></div>"
            ]
          },
          "metadata": {},
          "execution_count": 86
        }
      ],
      "source": [
        "xgb_clf.fit(X_train , y_train)"
      ],
      "id": "pDZY_ODvhPCV"
    },
    {
      "cell_type": "code",
      "execution_count": null,
      "metadata": {
        "id": "_ykekVLMhb8y",
        "colab": {
          "base_uri": "https://localhost:8080/"
        },
        "outputId": "a60db18d-2fdc-411c-bb9b-7e369262accf"
      },
      "outputs": [
        {
          "output_type": "stream",
          "name": "stdout",
          "text": [
            "Test Result :\n",
            "\n",
            "Accuracy score : 0.785952\n",
            "\n",
            "Classification Report :\n",
            "               precision    recall  f1-score   support\n",
            "\n",
            "           0       0.83      0.73      0.77      2122\n",
            "           1       0.75      0.84      0.80      2078\n",
            "\n",
            "    accuracy                           0.79      4200\n",
            "   macro avg       0.79      0.79      0.79      4200\n",
            "weighted avg       0.79      0.79      0.79      4200\n",
            "\n",
            "\n",
            "Confusion Matrix :\n",
            " [[1546  576]\n",
            " [ 323 1755]] \n",
            "\n",
            "ROC AUC: 0.786560\n",
            "\n",
            "\n",
            " /**************************************/ \n",
            "\n",
            "Train Result :\n",
            "\n",
            "Accuracy score : 0.998869\n",
            "\n",
            "Classification Report :\n",
            "               precision    recall  f1-score   support\n",
            "\n",
            "           0       1.00      1.00      1.00      8364\n",
            "           1       1.00      1.00      1.00      8435\n",
            "\n",
            "    accuracy                           1.00     16799\n",
            "   macro avg       1.00      1.00      1.00     16799\n",
            "weighted avg       1.00      1.00      1.00     16799\n",
            "\n",
            "\n",
            "Confusion Matrix :\n",
            " [[8364    0]\n",
            " [  19 8416]] \n",
            "\n",
            "ROC AUC: 0.998874\n",
            "\n",
            "Average Accuracy : 0.794334\n",
            "Accuracy SD: \t\t 0.007621\n"
          ]
        }
      ],
      "source": [
        "print_score(xt_clf ,X_train ,X_test , y_train ,y_test , train = False)  \n",
        "print(\"\\n /**************************************/ \\n\")\n",
        "print_score(xt_clf , X_train , X_test , y_train , y_test , train = True)"
      ],
      "id": "_ykekVLMhb8y"
    },
    {
      "cell_type": "markdown",
      "source": [
        "### Comparison of outputs "
      ],
      "metadata": {
        "id": "y6PIySq1ZGSA"
      },
      "id": "y6PIySq1ZGSA"
    },
    {
      "cell_type": "code",
      "source": [
        "!pip install pycaret"
      ],
      "metadata": {
        "colab": {
          "base_uri": "https://localhost:8080/"
        },
        "id": "AViM6FUZZTsV",
        "outputId": "a177779a-646c-405f-dd11-3050b7723f7b"
      },
      "id": "AViM6FUZZTsV",
      "execution_count": null,
      "outputs": [
        {
          "output_type": "stream",
          "name": "stdout",
          "text": [
            "Looking in indexes: https://pypi.org/simple, https://us-python.pkg.dev/colab-wheels/public/simple/\n",
            "Collecting pycaret\n",
            "  Downloading pycaret-3.0.0-py3-none-any.whl (481 kB)\n",
            "\u001b[2K     \u001b[90m━━━━━━━━━━━━━━━━━━━━━━━━━━━━━━━━━━━━━━\u001b[0m \u001b[32m481.8/481.8 kB\u001b[0m \u001b[31m17.7 MB/s\u001b[0m eta \u001b[36m0:00:00\u001b[0m\n",
            "\u001b[?25hRequirement already satisfied: tqdm>=4.62.0 in /usr/local/lib/python3.10/dist-packages (from pycaret) (4.65.0)\n",
            "Requirement already satisfied: imbalanced-learn>=0.8.1 in /usr/local/lib/python3.10/dist-packages (from pycaret) (0.10.1)\n",
            "Requirement already satisfied: cloudpickle in /usr/local/lib/python3.10/dist-packages (from pycaret) (2.2.1)\n",
            "Requirement already satisfied: psutil>=5.9.0 in /usr/local/lib/python3.10/dist-packages (from pycaret) (5.9.5)\n",
            "Requirement already satisfied: jinja2>=1.2 in /usr/local/lib/python3.10/dist-packages (from pycaret) (3.1.2)\n",
            "Requirement already satisfied: requests>=2.27.1 in /usr/local/lib/python3.10/dist-packages (from pycaret) (2.27.1)\n",
            "Requirement already satisfied: numpy<1.25,>=1.21 in /usr/local/lib/python3.10/dist-packages (from pycaret) (1.22.4)\n",
            "Collecting kaleido>=0.2.1\n",
            "  Downloading kaleido-0.2.1-py2.py3-none-manylinux1_x86_64.whl (79.9 MB)\n",
            "\u001b[2K     \u001b[90m━━━━━━━━━━━━━━━━━━━━━━━━━━━━━━━━━━━━━━━━\u001b[0m \u001b[32m79.9/79.9 MB\u001b[0m \u001b[31m12.5 MB/s\u001b[0m eta \u001b[36m0:00:00\u001b[0m\n",
            "\u001b[?25hRequirement already satisfied: joblib>=1.2.0 in /usr/local/lib/python3.10/dist-packages (from pycaret) (1.2.0)\n",
            "Requirement already satisfied: markupsafe>=2.0.1 in /usr/local/lib/python3.10/dist-packages (from pycaret) (2.1.2)\n",
            "Requirement already satisfied: scipy<2.0.0 in /usr/local/lib/python3.10/dist-packages (from pycaret) (1.10.1)\n",
            "Requirement already satisfied: pandas<1.6.0,>=1.3.0 in /usr/local/lib/python3.10/dist-packages (from pycaret) (1.5.3)\n",
            "Requirement already satisfied: ipywidgets>=7.6.5 in /usr/local/lib/python3.10/dist-packages (from pycaret) (7.7.1)\n",
            "Requirement already satisfied: lightgbm>=3.0.0 in /usr/local/lib/python3.10/dist-packages (from pycaret) (3.3.5)\n",
            "Collecting importlib-metadata>=4.12.0\n",
            "  Downloading importlib_metadata-6.6.0-py3-none-any.whl (22 kB)\n",
            "Requirement already satisfied: scikit-learn>=1.0 in /usr/local/lib/python3.10/dist-packages (from pycaret) (1.2.2)\n",
            "Collecting schemdraw>=0.14\n",
            "  Downloading schemdraw-0.16-py3-none-any.whl (105 kB)\n",
            "\u001b[2K     \u001b[90m━━━━━━━━━━━━━━━━━━━━━━━━━━━━━━━━━━━━━━\u001b[0m \u001b[32m105.8/105.8 kB\u001b[0m \u001b[31m14.4 MB/s\u001b[0m eta \u001b[36m0:00:00\u001b[0m\n",
            "\u001b[?25hCollecting sktime>=0.16.1\n",
            "  Downloading sktime-0.18.0-py3-none-any.whl (16.9 MB)\n",
            "\u001b[2K     \u001b[90m━━━━━━━━━━━━━━━━━━━━━━━━━━━━━━━━━━━━━━━━\u001b[0m \u001b[32m16.9/16.9 MB\u001b[0m \u001b[31m60.5 MB/s\u001b[0m eta \u001b[36m0:00:00\u001b[0m\n",
            "\u001b[?25hCollecting scikit-plot>=0.3.7\n",
            "  Downloading scikit_plot-0.3.7-py3-none-any.whl (33 kB)\n",
            "Requirement already satisfied: nbformat>=4.2.0 in /usr/local/lib/python3.10/dist-packages (from pycaret) (5.8.0)\n",
            "Collecting category-encoders>=2.4.0\n",
            "  Downloading category_encoders-2.6.0-py2.py3-none-any.whl (81 kB)\n",
            "\u001b[2K     \u001b[90m━━━━━━━━━━━━━━━━━━━━━━━━━━━━━━━━━━━━━━━━\u001b[0m \u001b[32m81.2/81.2 kB\u001b[0m \u001b[31m10.5 MB/s\u001b[0m eta \u001b[36m0:00:00\u001b[0m\n",
            "\u001b[?25hRequirement already satisfied: plotly>=5.0.0 in /usr/local/lib/python3.10/dist-packages (from pycaret) (5.13.1)\n",
            "Collecting tbats>=1.1.0\n",
            "  Downloading tbats-1.1.3-py3-none-any.whl (44 kB)\n",
            "\u001b[2K     \u001b[90m━━━━━━━━━━━━━━━━━━━━━━━━━━━━━━━━━━━━━━━━\u001b[0m \u001b[32m44.0/44.0 kB\u001b[0m \u001b[31m5.4 MB/s\u001b[0m eta \u001b[36m0:00:00\u001b[0m\n",
            "\u001b[?25hCollecting wurlitzer\n",
            "  Downloading wurlitzer-3.0.3-py3-none-any.whl (7.3 kB)\n",
            "Requirement already satisfied: numba>=0.55.0 in /usr/local/lib/python3.10/dist-packages (from pycaret) (0.56.4)\n",
            "Requirement already satisfied: matplotlib>=3.3.0 in /usr/local/lib/python3.10/dist-packages (from pycaret) (3.7.1)\n",
            "Collecting deprecation>=2.1.0\n",
            "  Downloading deprecation-2.1.0-py2.py3-none-any.whl (11 kB)\n",
            "Requirement already satisfied: statsmodels>=0.12.1 in /usr/local/lib/python3.10/dist-packages (from pycaret) (0.13.5)\n",
            "Collecting pyod>=1.0.8\n",
            "  Downloading pyod-1.0.9.tar.gz (149 kB)\n",
            "\u001b[2K     \u001b[90m━━━━━━━━━━━━━━━━━━━━━━━━━━━━━━━━━━━━━━━\u001b[0m \u001b[32m150.0/150.0 kB\u001b[0m \u001b[31m7.1 MB/s\u001b[0m eta \u001b[36m0:00:00\u001b[0m\n",
            "\u001b[?25h  Preparing metadata (setup.py) ... \u001b[?25l\u001b[?25hdone\n",
            "Collecting plotly-resampler>=0.8.3.1\n",
            "  Downloading plotly_resampler-0.8.3.2.tar.gz (46 kB)\n",
            "\u001b[2K     \u001b[90m━━━━━━━━━━━━━━━━━━━━━━━━━━━━━━━━━━━━━━━━\u001b[0m \u001b[32m46.4/46.4 kB\u001b[0m \u001b[31m5.8 MB/s\u001b[0m eta \u001b[36m0:00:00\u001b[0m\n",
            "\u001b[?25h  Installing build dependencies ... \u001b[?25l\u001b[?25hdone\n",
            "  Getting requirements to build wheel ... \u001b[?25l\u001b[?25hdone\n",
            "  Preparing metadata (pyproject.toml) ... \u001b[?25l\u001b[?25hdone\n",
            "Collecting xxhash\n",
            "  Downloading xxhash-3.2.0-cp310-cp310-manylinux_2_17_x86_64.manylinux2014_x86_64.whl (212 kB)\n",
            "\u001b[2K     \u001b[90m━━━━━━━━━━━━━━━━━━━━━━━━━━━━━━━━━━━━━━\u001b[0m \u001b[32m212.5/212.5 kB\u001b[0m \u001b[31m25.4 MB/s\u001b[0m eta \u001b[36m0:00:00\u001b[0m\n",
            "\u001b[?25hRequirement already satisfied: yellowbrick>=1.4 in /usr/local/lib/python3.10/dist-packages (from pycaret) (1.5)\n",
            "Collecting pmdarima!=1.8.1,<3.0.0,>=1.8.0\n",
            "  Downloading pmdarima-2.0.3-cp310-cp310-manylinux_2_17_x86_64.manylinux2014_x86_64.manylinux_2_28_x86_64.whl (1.8 MB)\n",
            "\u001b[2K     \u001b[90m━━━━━━━━━━━━━━━━━━━━━━━━━━━━━━━━━━━━━━━━\u001b[0m \u001b[32m1.8/1.8 MB\u001b[0m \u001b[31m87.7 MB/s\u001b[0m eta \u001b[36m0:00:00\u001b[0m\n",
            "\u001b[?25hRequirement already satisfied: ipython>=5.5.0 in /usr/local/lib/python3.10/dist-packages (from pycaret) (7.34.0)\n",
            "Requirement already satisfied: patsy>=0.5.1 in /usr/local/lib/python3.10/dist-packages (from category-encoders>=2.4.0->pycaret) (0.5.3)\n",
            "Requirement already satisfied: packaging in /usr/local/lib/python3.10/dist-packages (from deprecation>=2.1.0->pycaret) (23.1)\n",
            "Requirement already satisfied: threadpoolctl>=2.0.0 in /usr/local/lib/python3.10/dist-packages (from imbalanced-learn>=0.8.1->pycaret) (3.1.0)\n",
            "Requirement already satisfied: zipp>=0.5 in /usr/local/lib/python3.10/dist-packages (from importlib-metadata>=4.12.0->pycaret) (3.15.0)\n",
            "Requirement already satisfied: pickleshare in /usr/local/lib/python3.10/dist-packages (from ipython>=5.5.0->pycaret) (0.7.5)\n",
            "Requirement already satisfied: matplotlib-inline in /usr/local/lib/python3.10/dist-packages (from ipython>=5.5.0->pycaret) (0.1.6)\n",
            "Requirement already satisfied: pexpect>4.3 in /usr/local/lib/python3.10/dist-packages (from ipython>=5.5.0->pycaret) (4.8.0)\n",
            "Requirement already satisfied: prompt-toolkit!=3.0.0,!=3.0.1,<3.1.0,>=2.0.0 in /usr/local/lib/python3.10/dist-packages (from ipython>=5.5.0->pycaret) (3.0.38)\n",
            "Requirement already satisfied: setuptools>=18.5 in /usr/local/lib/python3.10/dist-packages (from ipython>=5.5.0->pycaret) (67.7.2)\n",
            "Requirement already satisfied: decorator in /usr/local/lib/python3.10/dist-packages (from ipython>=5.5.0->pycaret) (4.4.2)\n",
            "Requirement already satisfied: traitlets>=4.2 in /usr/local/lib/python3.10/dist-packages (from ipython>=5.5.0->pycaret) (5.7.1)\n",
            "Collecting jedi>=0.16\n",
            "  Downloading jedi-0.18.2-py2.py3-none-any.whl (1.6 MB)\n",
            "\u001b[2K     \u001b[90m━━━━━━━━━━━━━━━━━━━━━━━━━━━━━━━━━━━━━━━━\u001b[0m \u001b[32m1.6/1.6 MB\u001b[0m \u001b[31m91.7 MB/s\u001b[0m eta \u001b[36m0:00:00\u001b[0m\n",
            "\u001b[?25hRequirement already satisfied: backcall in /usr/local/lib/python3.10/dist-packages (from ipython>=5.5.0->pycaret) (0.2.0)\n",
            "Requirement already satisfied: pygments in /usr/local/lib/python3.10/dist-packages (from ipython>=5.5.0->pycaret) (2.14.0)\n",
            "Requirement already satisfied: ipython-genutils~=0.2.0 in /usr/local/lib/python3.10/dist-packages (from ipywidgets>=7.6.5->pycaret) (0.2.0)\n",
            "Requirement already satisfied: ipykernel>=4.5.1 in /usr/local/lib/python3.10/dist-packages (from ipywidgets>=7.6.5->pycaret) (5.5.6)\n",
            "Requirement already satisfied: widgetsnbextension~=3.6.0 in /usr/local/lib/python3.10/dist-packages (from ipywidgets>=7.6.5->pycaret) (3.6.4)\n",
            "Requirement already satisfied: jupyterlab-widgets>=1.0.0 in /usr/local/lib/python3.10/dist-packages (from ipywidgets>=7.6.5->pycaret) (3.0.7)\n",
            "Requirement already satisfied: wheel in /usr/local/lib/python3.10/dist-packages (from lightgbm>=3.0.0->pycaret) (0.40.0)\n",
            "Requirement already satisfied: fonttools>=4.22.0 in /usr/local/lib/python3.10/dist-packages (from matplotlib>=3.3.0->pycaret) (4.39.3)\n",
            "Requirement already satisfied: cycler>=0.10 in /usr/local/lib/python3.10/dist-packages (from matplotlib>=3.3.0->pycaret) (0.11.0)\n",
            "Requirement already satisfied: contourpy>=1.0.1 in /usr/local/lib/python3.10/dist-packages (from matplotlib>=3.3.0->pycaret) (1.0.7)\n",
            "Requirement already satisfied: python-dateutil>=2.7 in /usr/local/lib/python3.10/dist-packages (from matplotlib>=3.3.0->pycaret) (2.8.2)\n",
            "Requirement already satisfied: pillow>=6.2.0 in /usr/local/lib/python3.10/dist-packages (from matplotlib>=3.3.0->pycaret) (8.4.0)\n",
            "Requirement already satisfied: pyparsing>=2.3.1 in /usr/local/lib/python3.10/dist-packages (from matplotlib>=3.3.0->pycaret) (3.0.9)\n",
            "Requirement already satisfied: kiwisolver>=1.0.1 in /usr/local/lib/python3.10/dist-packages (from matplotlib>=3.3.0->pycaret) (1.4.4)\n",
            "Requirement already satisfied: fastjsonschema in /usr/local/lib/python3.10/dist-packages (from nbformat>=4.2.0->pycaret) (2.16.3)\n",
            "Requirement already satisfied: jsonschema>=2.6 in /usr/local/lib/python3.10/dist-packages (from nbformat>=4.2.0->pycaret) (4.3.3)\n",
            "Requirement already satisfied: jupyter-core in /usr/local/lib/python3.10/dist-packages (from nbformat>=4.2.0->pycaret) (5.3.0)\n",
            "Requirement already satisfied: llvmlite<0.40,>=0.39.0dev0 in /usr/local/lib/python3.10/dist-packages (from numba>=0.55.0->pycaret) (0.39.1)\n",
            "Requirement already satisfied: pytz>=2020.1 in /usr/local/lib/python3.10/dist-packages (from pandas<1.6.0,>=1.3.0->pycaret) (2022.7.1)\n",
            "Requirement already satisfied: tenacity>=6.2.0 in /usr/local/lib/python3.10/dist-packages (from plotly>=5.0.0->pycaret) (8.2.2)\n",
            "Collecting dash<3.0.0,>=2.2.0\n",
            "  Downloading dash-2.9.3-py3-none-any.whl (10.2 MB)\n",
            "\u001b[2K     \u001b[90m━━━━━━━━━━━━━━━━━━━━━━━━━━━━━━━━━━━━━━━\u001b[0m \u001b[32m10.2/10.2 MB\u001b[0m \u001b[31m112.6 MB/s\u001b[0m eta \u001b[36m0:00:00\u001b[0m\n",
            "\u001b[?25hCollecting jupyter-dash>=0.4.2\n",
            "  Downloading jupyter_dash-0.4.2-py3-none-any.whl (23 kB)\n",
            "Collecting orjson<4.0.0,>=3.8.0\n",
            "  Downloading orjson-3.8.11-cp310-cp310-manylinux_2_28_x86_64.whl (135 kB)\n",
            "\u001b[2K     \u001b[90m━━━━━━━━━━━━━━━━━━━━━━━━━━━━━━━━━━━━━━\u001b[0m \u001b[32m135.6/135.6 kB\u001b[0m \u001b[31m15.4 MB/s\u001b[0m eta \u001b[36m0:00:00\u001b[0m\n",
            "\u001b[?25hCollecting trace-updater>=0.0.8\n",
            "  Downloading trace_updater-0.0.9.1-py3-none-any.whl (185 kB)\n",
            "\u001b[2K     \u001b[90m━━━━━━━━━━━━━━━━━━━━━━━━━━━━━━━━━━━━━━\u001b[0m \u001b[32m185.2/185.2 kB\u001b[0m \u001b[31m23.2 MB/s\u001b[0m eta \u001b[36m0:00:00\u001b[0m\n",
            "\u001b[?25hRequirement already satisfied: Cython!=0.29.18,!=0.29.31,>=0.29 in /usr/local/lib/python3.10/dist-packages (from pmdarima!=1.8.1,<3.0.0,>=1.8.0->pycaret) (0.29.34)\n",
            "Requirement already satisfied: urllib3 in /usr/local/lib/python3.10/dist-packages (from pmdarima!=1.8.1,<3.0.0,>=1.8.0->pycaret) (1.26.15)\n",
            "Requirement already satisfied: six in /usr/local/lib/python3.10/dist-packages (from pyod>=1.0.8->pycaret) (1.16.0)\n",
            "Requirement already satisfied: charset-normalizer~=2.0.0 in /usr/local/lib/python3.10/dist-packages (from requests>=2.27.1->pycaret) (2.0.12)\n",
            "Requirement already satisfied: certifi>=2017.4.17 in /usr/local/lib/python3.10/dist-packages (from requests>=2.27.1->pycaret) (2022.12.7)\n",
            "Requirement already satisfied: idna<4,>=2.5 in /usr/local/lib/python3.10/dist-packages (from requests>=2.27.1->pycaret) (3.4)\n",
            "Collecting scikit-base<0.5.0\n",
            "  Downloading scikit_base-0.4.3-py3-none-any.whl (116 kB)\n",
            "\u001b[2K     \u001b[90m━━━━━━━━━━━━━━━━━━━━━━━━━━━━━━━━━━━━━━\u001b[0m \u001b[32m116.6/116.6 kB\u001b[0m \u001b[31m11.2 MB/s\u001b[0m eta \u001b[36m0:00:00\u001b[0m\n",
            "\u001b[?25hCollecting deprecated>=1.2.13\n",
            "  Downloading Deprecated-1.2.13-py2.py3-none-any.whl (9.6 kB)\n",
            "Collecting dash-core-components==2.0.0\n",
            "  Downloading dash_core_components-2.0.0-py3-none-any.whl (3.8 kB)\n",
            "Requirement already satisfied: Flask>=1.0.4 in /usr/local/lib/python3.10/dist-packages (from dash<3.0.0,>=2.2.0->plotly-resampler>=0.8.3.1->pycaret) (2.2.4)\n",
            "Collecting dash-table==5.0.0\n",
            "  Downloading dash_table-5.0.0-py3-none-any.whl (3.9 kB)\n",
            "Collecting dash-html-components==2.0.0\n",
            "  Downloading dash_html_components-2.0.0-py3-none-any.whl (4.1 kB)\n",
            "Requirement already satisfied: wrapt<2,>=1.10 in /usr/local/lib/python3.10/dist-packages (from deprecated>=1.2.13->sktime>=0.16.1->pycaret) (1.14.1)\n",
            "Requirement already satisfied: jupyter-client in /usr/local/lib/python3.10/dist-packages (from ipykernel>=4.5.1->ipywidgets>=7.6.5->pycaret) (6.1.12)\n",
            "Requirement already satisfied: tornado>=4.2 in /usr/local/lib/python3.10/dist-packages (from ipykernel>=4.5.1->ipywidgets>=7.6.5->pycaret) (6.2)\n",
            "Requirement already satisfied: parso<0.9.0,>=0.8.0 in /usr/local/lib/python3.10/dist-packages (from jedi>=0.16->ipython>=5.5.0->pycaret) (0.8.3)\n",
            "Requirement already satisfied: attrs>=17.4.0 in /usr/local/lib/python3.10/dist-packages (from jsonschema>=2.6->nbformat>=4.2.0->pycaret) (23.1.0)\n",
            "Requirement already satisfied: pyrsistent!=0.17.0,!=0.17.1,!=0.17.2,>=0.14.0 in /usr/local/lib/python3.10/dist-packages (from jsonschema>=2.6->nbformat>=4.2.0->pycaret) (0.19.3)\n",
            "Collecting retrying\n",
            "  Downloading retrying-1.3.4-py3-none-any.whl (11 kB)\n",
            "Requirement already satisfied: nest-asyncio in /usr/local/lib/python3.10/dist-packages (from jupyter-dash>=0.4.2->plotly-resampler>=0.8.3.1->pycaret) (1.5.6)\n",
            "Collecting ansi2html\n",
            "  Downloading ansi2html-1.8.0-py3-none-any.whl (16 kB)\n",
            "Requirement already satisfied: ptyprocess>=0.5 in /usr/local/lib/python3.10/dist-packages (from pexpect>4.3->ipython>=5.5.0->pycaret) (0.7.0)\n",
            "Requirement already satisfied: wcwidth in /usr/local/lib/python3.10/dist-packages (from prompt-toolkit!=3.0.0,!=3.0.1,<3.1.0,>=2.0.0->ipython>=5.5.0->pycaret) (0.2.6)\n",
            "Requirement already satisfied: notebook>=4.4.1 in /usr/local/lib/python3.10/dist-packages (from widgetsnbextension~=3.6.0->ipywidgets>=7.6.5->pycaret) (6.4.8)\n",
            "Requirement already satisfied: platformdirs>=2.5 in /usr/local/lib/python3.10/dist-packages (from jupyter-core->nbformat>=4.2.0->pycaret) (3.3.0)\n",
            "Requirement already satisfied: Werkzeug>=2.2.2 in /usr/local/lib/python3.10/dist-packages (from Flask>=1.0.4->dash<3.0.0,>=2.2.0->plotly-resampler>=0.8.3.1->pycaret) (2.3.0)\n",
            "Requirement already satisfied: click>=8.0 in /usr/local/lib/python3.10/dist-packages (from Flask>=1.0.4->dash<3.0.0,>=2.2.0->plotly-resampler>=0.8.3.1->pycaret) (8.1.3)\n",
            "Requirement already satisfied: itsdangerous>=2.0 in /usr/local/lib/python3.10/dist-packages (from Flask>=1.0.4->dash<3.0.0,>=2.2.0->plotly-resampler>=0.8.3.1->pycaret) (2.1.2)\n",
            "Requirement already satisfied: pyzmq>=17 in /usr/local/lib/python3.10/dist-packages (from notebook>=4.4.1->widgetsnbextension~=3.6.0->ipywidgets>=7.6.5->pycaret) (23.2.1)\n",
            "Requirement already satisfied: Send2Trash>=1.8.0 in /usr/local/lib/python3.10/dist-packages (from notebook>=4.4.1->widgetsnbextension~=3.6.0->ipywidgets>=7.6.5->pycaret) (1.8.0)\n",
            "Requirement already satisfied: terminado>=0.8.3 in /usr/local/lib/python3.10/dist-packages (from notebook>=4.4.1->widgetsnbextension~=3.6.0->ipywidgets>=7.6.5->pycaret) (0.17.1)\n",
            "Requirement already satisfied: prometheus-client in /usr/local/lib/python3.10/dist-packages (from notebook>=4.4.1->widgetsnbextension~=3.6.0->ipywidgets>=7.6.5->pycaret) (0.16.0)\n",
            "Requirement already satisfied: argon2-cffi in /usr/local/lib/python3.10/dist-packages (from notebook>=4.4.1->widgetsnbextension~=3.6.0->ipywidgets>=7.6.5->pycaret) (21.3.0)\n",
            "Requirement already satisfied: nbconvert in /usr/local/lib/python3.10/dist-packages (from notebook>=4.4.1->widgetsnbextension~=3.6.0->ipywidgets>=7.6.5->pycaret) (6.5.4)\n",
            "Requirement already satisfied: argon2-cffi-bindings in /usr/local/lib/python3.10/dist-packages (from argon2-cffi->notebook>=4.4.1->widgetsnbextension~=3.6.0->ipywidgets>=7.6.5->pycaret) (21.2.0)\n",
            "Requirement already satisfied: tinycss2 in /usr/local/lib/python3.10/dist-packages (from nbconvert->notebook>=4.4.1->widgetsnbextension~=3.6.0->ipywidgets>=7.6.5->pycaret) (1.2.1)\n",
            "Requirement already satisfied: beautifulsoup4 in /usr/local/lib/python3.10/dist-packages (from nbconvert->notebook>=4.4.1->widgetsnbextension~=3.6.0->ipywidgets>=7.6.5->pycaret) (4.11.2)\n",
            "Requirement already satisfied: pandocfilters>=1.4.1 in /usr/local/lib/python3.10/dist-packages (from nbconvert->notebook>=4.4.1->widgetsnbextension~=3.6.0->ipywidgets>=7.6.5->pycaret) (1.5.0)\n",
            "Requirement already satisfied: defusedxml in /usr/local/lib/python3.10/dist-packages (from nbconvert->notebook>=4.4.1->widgetsnbextension~=3.6.0->ipywidgets>=7.6.5->pycaret) (0.7.1)\n",
            "Requirement already satisfied: jupyterlab-pygments in /usr/local/lib/python3.10/dist-packages (from nbconvert->notebook>=4.4.1->widgetsnbextension~=3.6.0->ipywidgets>=7.6.5->pycaret) (0.2.2)\n",
            "Requirement already satisfied: bleach in /usr/local/lib/python3.10/dist-packages (from nbconvert->notebook>=4.4.1->widgetsnbextension~=3.6.0->ipywidgets>=7.6.5->pycaret) (6.0.0)\n",
            "Requirement already satisfied: lxml in /usr/local/lib/python3.10/dist-packages (from nbconvert->notebook>=4.4.1->widgetsnbextension~=3.6.0->ipywidgets>=7.6.5->pycaret) (4.9.2)\n",
            "Requirement already satisfied: nbclient>=0.5.0 in /usr/local/lib/python3.10/dist-packages (from nbconvert->notebook>=4.4.1->widgetsnbextension~=3.6.0->ipywidgets>=7.6.5->pycaret) (0.7.4)\n",
            "Requirement already satisfied: entrypoints>=0.2.2 in /usr/local/lib/python3.10/dist-packages (from nbconvert->notebook>=4.4.1->widgetsnbextension~=3.6.0->ipywidgets>=7.6.5->pycaret) (0.4)\n",
            "Requirement already satisfied: mistune<2,>=0.8.1 in /usr/local/lib/python3.10/dist-packages (from nbconvert->notebook>=4.4.1->widgetsnbextension~=3.6.0->ipywidgets>=7.6.5->pycaret) (0.8.4)\n",
            "Requirement already satisfied: cffi>=1.0.1 in /usr/local/lib/python3.10/dist-packages (from argon2-cffi-bindings->argon2-cffi->notebook>=4.4.1->widgetsnbextension~=3.6.0->ipywidgets>=7.6.5->pycaret) (1.15.1)\n",
            "Requirement already satisfied: soupsieve>1.2 in /usr/local/lib/python3.10/dist-packages (from beautifulsoup4->nbconvert->notebook>=4.4.1->widgetsnbextension~=3.6.0->ipywidgets>=7.6.5->pycaret) (2.4.1)\n",
            "Requirement already satisfied: webencodings in /usr/local/lib/python3.10/dist-packages (from bleach->nbconvert->notebook>=4.4.1->widgetsnbextension~=3.6.0->ipywidgets>=7.6.5->pycaret) (0.5.1)\n",
            "Requirement already satisfied: pycparser in /usr/local/lib/python3.10/dist-packages (from cffi>=1.0.1->argon2-cffi-bindings->argon2-cffi->notebook>=4.4.1->widgetsnbextension~=3.6.0->ipywidgets>=7.6.5->pycaret) (2.21)\n",
            "Building wheels for collected packages: plotly-resampler, pyod\n",
            "  Building wheel for plotly-resampler (pyproject.toml) ... \u001b[?25l\u001b[?25hdone\n",
            "  Created wheel for plotly-resampler: filename=plotly_resampler-0.8.3.2-cp310-cp310-manylinux_2_31_x86_64.whl size=75246 sha256=d92cdc6c31f2848ab3092f68b98806a554f0f8ef2370b602a3f0c1c7309c1444\n",
            "  Stored in directory: /root/.cache/pip/wheels/a9/19/e2/ec856d98cf9b617511fff0abae1dfed5bf1f6093ce65126b45\n",
            "  Building wheel for pyod (setup.py) ... \u001b[?25l\u001b[?25hdone\n",
            "  Created wheel for pyod: filename=pyod-1.0.9-py3-none-any.whl size=184112 sha256=17c3f2cbd435233475a4e5002323137421b54609b254150edbdc2c55d0f938ab\n",
            "  Stored in directory: /root/.cache/pip/wheels/83/55/6b/552e083cf5509c0afe808b76cf434f1be284d01a112623bd37\n",
            "Successfully built plotly-resampler pyod\n",
            "Installing collected packages: trace-updater, kaleido, dash-table, dash-html-components, dash-core-components, xxhash, wurlitzer, scikit-base, schemdraw, retrying, orjson, jedi, importlib-metadata, deprecation, deprecated, ansi2html, sktime, scikit-plot, pyod, dash, pmdarima, jupyter-dash, category-encoders, tbats, plotly-resampler, pycaret\n",
            "Successfully installed ansi2html-1.8.0 category-encoders-2.6.0 dash-2.9.3 dash-core-components-2.0.0 dash-html-components-2.0.0 dash-table-5.0.0 deprecated-1.2.13 deprecation-2.1.0 importlib-metadata-6.6.0 jedi-0.18.2 jupyter-dash-0.4.2 kaleido-0.2.1 orjson-3.8.11 plotly-resampler-0.8.3.2 pmdarima-2.0.3 pycaret-3.0.0 pyod-1.0.9 retrying-1.3.4 schemdraw-0.16 scikit-base-0.4.3 scikit-plot-0.3.7 sktime-0.18.0 tbats-1.1.3 trace-updater-0.0.9.1 wurlitzer-3.0.3 xxhash-3.2.0\n"
          ]
        }
      ]
    },
    {
      "cell_type": "code",
      "source": [
        "from pycaret.datasets import get_data\n",
        "from pycaret.classification import *\n",
        "# !pip install  enable_colab\n"
      ],
      "metadata": {
        "id": "tGNMd2A9Z-ne"
      },
      "id": "tGNMd2A9Z-ne",
      "execution_count": null,
      "outputs": []
    },
    {
      "cell_type": "code",
      "source": [
        "# enable_colab()"
      ],
      "metadata": {
        "id": "XEAaH9U5cHbo"
      },
      "id": "XEAaH9U5cHbo",
      "execution_count": null,
      "outputs": []
    },
    {
      "cell_type": "code",
      "source": [
        "# import tensorflow_probability.substrates.jax as tfp_jax\n",
        "# tfp_jax.experimental.enable_x64()\n",
        "s=setup(data=df,target=df.columns[-1])"
      ],
      "metadata": {
        "colab": {
          "base_uri": "https://localhost:8080/",
          "height": 707
        },
        "id": "N11_b9HDbBEU",
        "outputId": "5115aa7f-0b6f-41ff-b642-a0526adeb4e3"
      },
      "id": "N11_b9HDbBEU",
      "execution_count": null,
      "outputs": [
        {
          "output_type": "display_data",
          "data": {
            "text/plain": [
              "<pandas.io.formats.style.Styler at 0x7f55b97df400>"
            ],
            "text/html": [
              "<style type=\"text/css\">\n",
              "#T_6bf41_row10_col1 {\n",
              "  background-color: lightgreen;\n",
              "}\n",
              "</style>\n",
              "<table id=\"T_6bf41\" class=\"dataframe\">\n",
              "  <thead>\n",
              "    <tr>\n",
              "      <th class=\"blank level0\" >&nbsp;</th>\n",
              "      <th id=\"T_6bf41_level0_col0\" class=\"col_heading level0 col0\" >Description</th>\n",
              "      <th id=\"T_6bf41_level0_col1\" class=\"col_heading level0 col1\" >Value</th>\n",
              "    </tr>\n",
              "  </thead>\n",
              "  <tbody>\n",
              "    <tr>\n",
              "      <th id=\"T_6bf41_level0_row0\" class=\"row_heading level0 row0\" >0</th>\n",
              "      <td id=\"T_6bf41_row0_col0\" class=\"data row0 col0\" >Session id</td>\n",
              "      <td id=\"T_6bf41_row0_col1\" class=\"data row0 col1\" >7864</td>\n",
              "    </tr>\n",
              "    <tr>\n",
              "      <th id=\"T_6bf41_level0_row1\" class=\"row_heading level0 row1\" >1</th>\n",
              "      <td id=\"T_6bf41_row1_col0\" class=\"data row1 col0\" >Target</td>\n",
              "      <td id=\"T_6bf41_row1_col1\" class=\"data row1 col1\" >Situation</td>\n",
              "    </tr>\n",
              "    <tr>\n",
              "      <th id=\"T_6bf41_level0_row2\" class=\"row_heading level0 row2\" >2</th>\n",
              "      <td id=\"T_6bf41_row2_col0\" class=\"data row2 col0\" >Target type</td>\n",
              "      <td id=\"T_6bf41_row2_col1\" class=\"data row2 col1\" >Binary</td>\n",
              "    </tr>\n",
              "    <tr>\n",
              "      <th id=\"T_6bf41_level0_row3\" class=\"row_heading level0 row3\" >3</th>\n",
              "      <td id=\"T_6bf41_row3_col0\" class=\"data row3 col0\" >Target mapping</td>\n",
              "      <td id=\"T_6bf41_row3_col1\" class=\"data row3 col1\" >Fall: 0, Not Fall: 1</td>\n",
              "    </tr>\n",
              "    <tr>\n",
              "      <th id=\"T_6bf41_level0_row4\" class=\"row_heading level0 row4\" >4</th>\n",
              "      <td id=\"T_6bf41_row4_col0\" class=\"data row4 col0\" >Original data shape</td>\n",
              "      <td id=\"T_6bf41_row4_col1\" class=\"data row4 col1\" >(20999, 4)</td>\n",
              "    </tr>\n",
              "    <tr>\n",
              "      <th id=\"T_6bf41_level0_row5\" class=\"row_heading level0 row5\" >5</th>\n",
              "      <td id=\"T_6bf41_row5_col0\" class=\"data row5 col0\" >Transformed data shape</td>\n",
              "      <td id=\"T_6bf41_row5_col1\" class=\"data row5 col1\" >(20999, 4)</td>\n",
              "    </tr>\n",
              "    <tr>\n",
              "      <th id=\"T_6bf41_level0_row6\" class=\"row_heading level0 row6\" >6</th>\n",
              "      <td id=\"T_6bf41_row6_col0\" class=\"data row6 col0\" >Transformed train set shape</td>\n",
              "      <td id=\"T_6bf41_row6_col1\" class=\"data row6 col1\" >(14699, 4)</td>\n",
              "    </tr>\n",
              "    <tr>\n",
              "      <th id=\"T_6bf41_level0_row7\" class=\"row_heading level0 row7\" >7</th>\n",
              "      <td id=\"T_6bf41_row7_col0\" class=\"data row7 col0\" >Transformed test set shape</td>\n",
              "      <td id=\"T_6bf41_row7_col1\" class=\"data row7 col1\" >(6300, 4)</td>\n",
              "    </tr>\n",
              "    <tr>\n",
              "      <th id=\"T_6bf41_level0_row8\" class=\"row_heading level0 row8\" >8</th>\n",
              "      <td id=\"T_6bf41_row8_col0\" class=\"data row8 col0\" >Numeric features</td>\n",
              "      <td id=\"T_6bf41_row8_col1\" class=\"data row8 col1\" >3</td>\n",
              "    </tr>\n",
              "    <tr>\n",
              "      <th id=\"T_6bf41_level0_row9\" class=\"row_heading level0 row9\" >9</th>\n",
              "      <td id=\"T_6bf41_row9_col0\" class=\"data row9 col0\" >Rows with missing values</td>\n",
              "      <td id=\"T_6bf41_row9_col1\" class=\"data row9 col1\" >24.0%</td>\n",
              "    </tr>\n",
              "    <tr>\n",
              "      <th id=\"T_6bf41_level0_row10\" class=\"row_heading level0 row10\" >10</th>\n",
              "      <td id=\"T_6bf41_row10_col0\" class=\"data row10 col0\" >Preprocess</td>\n",
              "      <td id=\"T_6bf41_row10_col1\" class=\"data row10 col1\" >True</td>\n",
              "    </tr>\n",
              "    <tr>\n",
              "      <th id=\"T_6bf41_level0_row11\" class=\"row_heading level0 row11\" >11</th>\n",
              "      <td id=\"T_6bf41_row11_col0\" class=\"data row11 col0\" >Imputation type</td>\n",
              "      <td id=\"T_6bf41_row11_col1\" class=\"data row11 col1\" >simple</td>\n",
              "    </tr>\n",
              "    <tr>\n",
              "      <th id=\"T_6bf41_level0_row12\" class=\"row_heading level0 row12\" >12</th>\n",
              "      <td id=\"T_6bf41_row12_col0\" class=\"data row12 col0\" >Numeric imputation</td>\n",
              "      <td id=\"T_6bf41_row12_col1\" class=\"data row12 col1\" >mean</td>\n",
              "    </tr>\n",
              "    <tr>\n",
              "      <th id=\"T_6bf41_level0_row13\" class=\"row_heading level0 row13\" >13</th>\n",
              "      <td id=\"T_6bf41_row13_col0\" class=\"data row13 col0\" >Categorical imputation</td>\n",
              "      <td id=\"T_6bf41_row13_col1\" class=\"data row13 col1\" >mode</td>\n",
              "    </tr>\n",
              "    <tr>\n",
              "      <th id=\"T_6bf41_level0_row14\" class=\"row_heading level0 row14\" >14</th>\n",
              "      <td id=\"T_6bf41_row14_col0\" class=\"data row14 col0\" >Fold Generator</td>\n",
              "      <td id=\"T_6bf41_row14_col1\" class=\"data row14 col1\" >StratifiedKFold</td>\n",
              "    </tr>\n",
              "    <tr>\n",
              "      <th id=\"T_6bf41_level0_row15\" class=\"row_heading level0 row15\" >15</th>\n",
              "      <td id=\"T_6bf41_row15_col0\" class=\"data row15 col0\" >Fold Number</td>\n",
              "      <td id=\"T_6bf41_row15_col1\" class=\"data row15 col1\" >10</td>\n",
              "    </tr>\n",
              "    <tr>\n",
              "      <th id=\"T_6bf41_level0_row16\" class=\"row_heading level0 row16\" >16</th>\n",
              "      <td id=\"T_6bf41_row16_col0\" class=\"data row16 col0\" >CPU Jobs</td>\n",
              "      <td id=\"T_6bf41_row16_col1\" class=\"data row16 col1\" >-1</td>\n",
              "    </tr>\n",
              "    <tr>\n",
              "      <th id=\"T_6bf41_level0_row17\" class=\"row_heading level0 row17\" >17</th>\n",
              "      <td id=\"T_6bf41_row17_col0\" class=\"data row17 col0\" >Use GPU</td>\n",
              "      <td id=\"T_6bf41_row17_col1\" class=\"data row17 col1\" >False</td>\n",
              "    </tr>\n",
              "    <tr>\n",
              "      <th id=\"T_6bf41_level0_row18\" class=\"row_heading level0 row18\" >18</th>\n",
              "      <td id=\"T_6bf41_row18_col0\" class=\"data row18 col0\" >Log Experiment</td>\n",
              "      <td id=\"T_6bf41_row18_col1\" class=\"data row18 col1\" >False</td>\n",
              "    </tr>\n",
              "    <tr>\n",
              "      <th id=\"T_6bf41_level0_row19\" class=\"row_heading level0 row19\" >19</th>\n",
              "      <td id=\"T_6bf41_row19_col0\" class=\"data row19 col0\" >Experiment Name</td>\n",
              "      <td id=\"T_6bf41_row19_col1\" class=\"data row19 col1\" >clf-default-name</td>\n",
              "    </tr>\n",
              "    <tr>\n",
              "      <th id=\"T_6bf41_level0_row20\" class=\"row_heading level0 row20\" >20</th>\n",
              "      <td id=\"T_6bf41_row20_col0\" class=\"data row20 col0\" >USI</td>\n",
              "      <td id=\"T_6bf41_row20_col1\" class=\"data row20 col1\" >d2d4</td>\n",
              "    </tr>\n",
              "  </tbody>\n",
              "</table>\n"
            ]
          },
          "metadata": {}
        }
      ]
    },
    {
      "cell_type": "code",
      "source": [
        "# dt_pycaret = create_model(dt)\n",
        "# rf_pycaret = create_model(rf_clf)\n",
        "# xt_pycaret= create_model(xt_clf)\n",
        "best=compare_models()"
      ],
      "metadata": {
        "colab": {
          "base_uri": "https://localhost:8080/",
          "height": 991,
          "referenced_widgets": [
            "90699dc8783e4169b8e7d3df4cfa5934",
            "f9e002364ea14caf83dee1652f2e1dd1",
            "62d30b926dfe4818b5fd092e05070940",
            "8cb60228339740e896b6bd3e2cc2aecf",
            "36017f57ae0d4352bf5b3228372843b2",
            "a07e2b836eee46929ffecd7c7e358f4c",
            "d8e7f2f2b5c647e7b09d612163a7fa30",
            "e6c7945e92a942a390d9ca4609f553f5",
            "dfb6b1a5630a40c59a8d5d04301bed24",
            "36bd126949a543f7b51a83910fd65293",
            "588ca5e9c38f4b5ba99935f437deac24"
          ]
        },
        "id": "lS7t7JHtaIWG",
        "outputId": "515bf6e7-ee33-4612-ffbb-3093094e3e05"
      },
      "id": "lS7t7JHtaIWG",
      "execution_count": null,
      "outputs": [
        {
          "output_type": "display_data",
          "data": {
            "text/plain": [
              "<IPython.core.display.HTML object>"
            ],
            "text/html": []
          },
          "metadata": {}
        },
        {
          "output_type": "display_data",
          "data": {
            "text/plain": [
              "<pandas.io.formats.style.Styler at 0x7f55cb9e4040>"
            ],
            "text/html": [
              "<style type=\"text/css\">\n",
              "#T_b2aa8 th {\n",
              "  text-align: left;\n",
              "}\n",
              "#T_b2aa8_row0_col0, #T_b2aa8_row0_col2, #T_b2aa8_row0_col3, #T_b2aa8_row0_col4, #T_b2aa8_row1_col0, #T_b2aa8_row1_col1, #T_b2aa8_row1_col2, #T_b2aa8_row1_col3, #T_b2aa8_row1_col4, #T_b2aa8_row1_col5, #T_b2aa8_row1_col6, #T_b2aa8_row1_col7, #T_b2aa8_row2_col0, #T_b2aa8_row2_col1, #T_b2aa8_row2_col3, #T_b2aa8_row2_col4, #T_b2aa8_row2_col5, #T_b2aa8_row2_col6, #T_b2aa8_row2_col7, #T_b2aa8_row3_col0, #T_b2aa8_row3_col1, #T_b2aa8_row3_col2, #T_b2aa8_row3_col3, #T_b2aa8_row3_col5, #T_b2aa8_row3_col6, #T_b2aa8_row3_col7, #T_b2aa8_row4_col0, #T_b2aa8_row4_col1, #T_b2aa8_row4_col2, #T_b2aa8_row4_col3, #T_b2aa8_row4_col4, #T_b2aa8_row4_col5, #T_b2aa8_row4_col6, #T_b2aa8_row4_col7, #T_b2aa8_row5_col0, #T_b2aa8_row5_col1, #T_b2aa8_row5_col2, #T_b2aa8_row5_col3, #T_b2aa8_row5_col4, #T_b2aa8_row5_col5, #T_b2aa8_row5_col6, #T_b2aa8_row5_col7, #T_b2aa8_row6_col0, #T_b2aa8_row6_col1, #T_b2aa8_row6_col2, #T_b2aa8_row6_col3, #T_b2aa8_row6_col4, #T_b2aa8_row6_col5, #T_b2aa8_row6_col6, #T_b2aa8_row6_col7, #T_b2aa8_row7_col0, #T_b2aa8_row7_col1, #T_b2aa8_row7_col2, #T_b2aa8_row7_col3, #T_b2aa8_row7_col4, #T_b2aa8_row7_col5, #T_b2aa8_row7_col6, #T_b2aa8_row7_col7, #T_b2aa8_row8_col0, #T_b2aa8_row8_col1, #T_b2aa8_row8_col2, #T_b2aa8_row8_col3, #T_b2aa8_row8_col4, #T_b2aa8_row8_col5, #T_b2aa8_row8_col6, #T_b2aa8_row8_col7, #T_b2aa8_row9_col0, #T_b2aa8_row9_col1, #T_b2aa8_row9_col2, #T_b2aa8_row9_col3, #T_b2aa8_row9_col4, #T_b2aa8_row9_col5, #T_b2aa8_row9_col6, #T_b2aa8_row9_col7, #T_b2aa8_row10_col0, #T_b2aa8_row10_col1, #T_b2aa8_row10_col2, #T_b2aa8_row10_col3, #T_b2aa8_row10_col4, #T_b2aa8_row10_col5, #T_b2aa8_row10_col6, #T_b2aa8_row10_col7, #T_b2aa8_row11_col0, #T_b2aa8_row11_col1, #T_b2aa8_row11_col2, #T_b2aa8_row11_col3, #T_b2aa8_row11_col4, #T_b2aa8_row11_col5, #T_b2aa8_row11_col6, #T_b2aa8_row11_col7, #T_b2aa8_row12_col0, #T_b2aa8_row12_col1, #T_b2aa8_row12_col2, #T_b2aa8_row12_col3, #T_b2aa8_row12_col4, #T_b2aa8_row12_col5, #T_b2aa8_row12_col6, #T_b2aa8_row12_col7, #T_b2aa8_row13_col0, #T_b2aa8_row13_col1, #T_b2aa8_row13_col2, #T_b2aa8_row13_col3, #T_b2aa8_row13_col4, #T_b2aa8_row13_col5, #T_b2aa8_row13_col6, #T_b2aa8_row13_col7, #T_b2aa8_row14_col0, #T_b2aa8_row14_col1, #T_b2aa8_row14_col2, #T_b2aa8_row14_col4, #T_b2aa8_row14_col5, #T_b2aa8_row14_col6, #T_b2aa8_row14_col7 {\n",
              "  text-align: left;\n",
              "}\n",
              "#T_b2aa8_row0_col1, #T_b2aa8_row0_col5, #T_b2aa8_row0_col6, #T_b2aa8_row0_col7, #T_b2aa8_row2_col2, #T_b2aa8_row3_col4, #T_b2aa8_row14_col3 {\n",
              "  text-align: left;\n",
              "  background-color: yellow;\n",
              "}\n",
              "#T_b2aa8_row0_col8, #T_b2aa8_row1_col8, #T_b2aa8_row2_col8, #T_b2aa8_row3_col8, #T_b2aa8_row4_col8, #T_b2aa8_row5_col8, #T_b2aa8_row6_col8, #T_b2aa8_row7_col8, #T_b2aa8_row8_col8, #T_b2aa8_row9_col8, #T_b2aa8_row11_col8, #T_b2aa8_row12_col8, #T_b2aa8_row13_col8, #T_b2aa8_row14_col8 {\n",
              "  text-align: left;\n",
              "  background-color: lightgrey;\n",
              "}\n",
              "#T_b2aa8_row10_col8 {\n",
              "  text-align: left;\n",
              "  background-color: yellow;\n",
              "  background-color: lightgrey;\n",
              "}\n",
              "</style>\n",
              "<table id=\"T_b2aa8\" class=\"dataframe\">\n",
              "  <thead>\n",
              "    <tr>\n",
              "      <th class=\"blank level0\" >&nbsp;</th>\n",
              "      <th id=\"T_b2aa8_level0_col0\" class=\"col_heading level0 col0\" >Model</th>\n",
              "      <th id=\"T_b2aa8_level0_col1\" class=\"col_heading level0 col1\" >Accuracy</th>\n",
              "      <th id=\"T_b2aa8_level0_col2\" class=\"col_heading level0 col2\" >AUC</th>\n",
              "      <th id=\"T_b2aa8_level0_col3\" class=\"col_heading level0 col3\" >Recall</th>\n",
              "      <th id=\"T_b2aa8_level0_col4\" class=\"col_heading level0 col4\" >Prec.</th>\n",
              "      <th id=\"T_b2aa8_level0_col5\" class=\"col_heading level0 col5\" >F1</th>\n",
              "      <th id=\"T_b2aa8_level0_col6\" class=\"col_heading level0 col6\" >Kappa</th>\n",
              "      <th id=\"T_b2aa8_level0_col7\" class=\"col_heading level0 col7\" >MCC</th>\n",
              "      <th id=\"T_b2aa8_level0_col8\" class=\"col_heading level0 col8\" >TT (Sec)</th>\n",
              "    </tr>\n",
              "  </thead>\n",
              "  <tbody>\n",
              "    <tr>\n",
              "      <th id=\"T_b2aa8_level0_row0\" class=\"row_heading level0 row0\" >lightgbm</th>\n",
              "      <td id=\"T_b2aa8_row0_col0\" class=\"data row0 col0\" >Light Gradient Boosting Machine</td>\n",
              "      <td id=\"T_b2aa8_row0_col1\" class=\"data row0 col1\" >0.7849</td>\n",
              "      <td id=\"T_b2aa8_row0_col2\" class=\"data row0 col2\" >0.8573</td>\n",
              "      <td id=\"T_b2aa8_row0_col3\" class=\"data row0 col3\" >0.8550</td>\n",
              "      <td id=\"T_b2aa8_row0_col4\" class=\"data row0 col4\" >0.7504</td>\n",
              "      <td id=\"T_b2aa8_row0_col5\" class=\"data row0 col5\" >0.7992</td>\n",
              "      <td id=\"T_b2aa8_row0_col6\" class=\"data row0 col6\" >0.5697</td>\n",
              "      <td id=\"T_b2aa8_row0_col7\" class=\"data row0 col7\" >0.5755</td>\n",
              "      <td id=\"T_b2aa8_row0_col8\" class=\"data row0 col8\" >0.3330</td>\n",
              "    </tr>\n",
              "    <tr>\n",
              "      <th id=\"T_b2aa8_level0_row1\" class=\"row_heading level0 row1\" >xgboost</th>\n",
              "      <td id=\"T_b2aa8_row1_col0\" class=\"data row1 col0\" >Extreme Gradient Boosting</td>\n",
              "      <td id=\"T_b2aa8_row1_col1\" class=\"data row1 col1\" >0.7841</td>\n",
              "      <td id=\"T_b2aa8_row1_col2\" class=\"data row1 col2\" >0.8569</td>\n",
              "      <td id=\"T_b2aa8_row1_col3\" class=\"data row1 col3\" >0.8305</td>\n",
              "      <td id=\"T_b2aa8_row1_col4\" class=\"data row1 col4\" >0.7604</td>\n",
              "      <td id=\"T_b2aa8_row1_col5\" class=\"data row1 col5\" >0.7939</td>\n",
              "      <td id=\"T_b2aa8_row1_col6\" class=\"data row1 col6\" >0.5681</td>\n",
              "      <td id=\"T_b2aa8_row1_col7\" class=\"data row1 col7\" >0.5706</td>\n",
              "      <td id=\"T_b2aa8_row1_col8\" class=\"data row1 col8\" >0.7670</td>\n",
              "    </tr>\n",
              "    <tr>\n",
              "      <th id=\"T_b2aa8_level0_row2\" class=\"row_heading level0 row2\" >rf</th>\n",
              "      <td id=\"T_b2aa8_row2_col0\" class=\"data row2 col0\" >Random Forest Classifier</td>\n",
              "      <td id=\"T_b2aa8_row2_col1\" class=\"data row2 col1\" >0.7816</td>\n",
              "      <td id=\"T_b2aa8_row2_col2\" class=\"data row2 col2\" >0.8589</td>\n",
              "      <td id=\"T_b2aa8_row2_col3\" class=\"data row2 col3\" >0.8195</td>\n",
              "      <td id=\"T_b2aa8_row2_col4\" class=\"data row2 col4\" >0.7624</td>\n",
              "      <td id=\"T_b2aa8_row2_col5\" class=\"data row2 col5\" >0.7898</td>\n",
              "      <td id=\"T_b2aa8_row2_col6\" class=\"data row2 col6\" >0.5632</td>\n",
              "      <td id=\"T_b2aa8_row2_col7\" class=\"data row2 col7\" >0.5650</td>\n",
              "      <td id=\"T_b2aa8_row2_col8\" class=\"data row2 col8\" >1.4650</td>\n",
              "    </tr>\n",
              "    <tr>\n",
              "      <th id=\"T_b2aa8_level0_row3\" class=\"row_heading level0 row3\" >knn</th>\n",
              "      <td id=\"T_b2aa8_row3_col0\" class=\"data row3 col0\" >K Neighbors Classifier</td>\n",
              "      <td id=\"T_b2aa8_row3_col1\" class=\"data row3 col1\" >0.7800</td>\n",
              "      <td id=\"T_b2aa8_row3_col2\" class=\"data row3 col2\" >0.8446</td>\n",
              "      <td id=\"T_b2aa8_row3_col3\" class=\"data row3 col3\" >0.8085</td>\n",
              "      <td id=\"T_b2aa8_row3_col4\" class=\"data row3 col4\" >0.7655</td>\n",
              "      <td id=\"T_b2aa8_row3_col5\" class=\"data row3 col5\" >0.7863</td>\n",
              "      <td id=\"T_b2aa8_row3_col6\" class=\"data row3 col6\" >0.5599</td>\n",
              "      <td id=\"T_b2aa8_row3_col7\" class=\"data row3 col7\" >0.5610</td>\n",
              "      <td id=\"T_b2aa8_row3_col8\" class=\"data row3 col8\" >0.1230</td>\n",
              "    </tr>\n",
              "    <tr>\n",
              "      <th id=\"T_b2aa8_level0_row4\" class=\"row_heading level0 row4\" >et</th>\n",
              "      <td id=\"T_b2aa8_row4_col0\" class=\"data row4 col0\" >Extra Trees Classifier</td>\n",
              "      <td id=\"T_b2aa8_row4_col1\" class=\"data row4 col1\" >0.7751</td>\n",
              "      <td id=\"T_b2aa8_row4_col2\" class=\"data row4 col2\" >0.8518</td>\n",
              "      <td id=\"T_b2aa8_row4_col3\" class=\"data row4 col3\" >0.8166</td>\n",
              "      <td id=\"T_b2aa8_row4_col4\" class=\"data row4 col4\" >0.7547</td>\n",
              "      <td id=\"T_b2aa8_row4_col5\" class=\"data row4 col5\" >0.7843</td>\n",
              "      <td id=\"T_b2aa8_row4_col6\" class=\"data row4 col6\" >0.5501</td>\n",
              "      <td id=\"T_b2aa8_row4_col7\" class=\"data row4 col7\" >0.5521</td>\n",
              "      <td id=\"T_b2aa8_row4_col8\" class=\"data row4 col8\" >1.2590</td>\n",
              "    </tr>\n",
              "    <tr>\n",
              "      <th id=\"T_b2aa8_level0_row5\" class=\"row_heading level0 row5\" >gbc</th>\n",
              "      <td id=\"T_b2aa8_row5_col0\" class=\"data row5 col0\" >Gradient Boosting Classifier</td>\n",
              "      <td id=\"T_b2aa8_row5_col1\" class=\"data row5 col1\" >0.7505</td>\n",
              "      <td id=\"T_b2aa8_row5_col2\" class=\"data row5 col2\" >0.8247</td>\n",
              "      <td id=\"T_b2aa8_row5_col3\" class=\"data row5 col3\" >0.8401</td>\n",
              "      <td id=\"T_b2aa8_row5_col4\" class=\"data row5 col4\" >0.7130</td>\n",
              "      <td id=\"T_b2aa8_row5_col5\" class=\"data row5 col5\" >0.7712</td>\n",
              "      <td id=\"T_b2aa8_row5_col6\" class=\"data row5 col6\" >0.5008</td>\n",
              "      <td id=\"T_b2aa8_row5_col7\" class=\"data row5 col7\" >0.5091</td>\n",
              "      <td id=\"T_b2aa8_row5_col8\" class=\"data row5 col8\" >0.9660</td>\n",
              "    </tr>\n",
              "    <tr>\n",
              "      <th id=\"T_b2aa8_level0_row6\" class=\"row_heading level0 row6\" >dt</th>\n",
              "      <td id=\"T_b2aa8_row6_col0\" class=\"data row6 col0\" >Decision Tree Classifier</td>\n",
              "      <td id=\"T_b2aa8_row6_col1\" class=\"data row6 col1\" >0.7328</td>\n",
              "      <td id=\"T_b2aa8_row6_col2\" class=\"data row6 col2\" >0.7335</td>\n",
              "      <td id=\"T_b2aa8_row6_col3\" class=\"data row6 col3\" >0.7294</td>\n",
              "      <td id=\"T_b2aa8_row6_col4\" class=\"data row6 col4\" >0.7349</td>\n",
              "      <td id=\"T_b2aa8_row6_col5\" class=\"data row6 col5\" >0.7321</td>\n",
              "      <td id=\"T_b2aa8_row6_col6\" class=\"data row6 col6\" >0.4655</td>\n",
              "      <td id=\"T_b2aa8_row6_col7\" class=\"data row6 col7\" >0.4657</td>\n",
              "      <td id=\"T_b2aa8_row6_col8\" class=\"data row6 col8\" >0.0980</td>\n",
              "    </tr>\n",
              "    <tr>\n",
              "      <th id=\"T_b2aa8_level0_row7\" class=\"row_heading level0 row7\" >nb</th>\n",
              "      <td id=\"T_b2aa8_row7_col0\" class=\"data row7 col0\" >Naive Bayes</td>\n",
              "      <td id=\"T_b2aa8_row7_col1\" class=\"data row7 col1\" >0.7148</td>\n",
              "      <td id=\"T_b2aa8_row7_col2\" class=\"data row7 col2\" >0.7415</td>\n",
              "      <td id=\"T_b2aa8_row7_col3\" class=\"data row7 col3\" >0.8186</td>\n",
              "      <td id=\"T_b2aa8_row7_col4\" class=\"data row7 col4\" >0.6784</td>\n",
              "      <td id=\"T_b2aa8_row7_col5\" class=\"data row7 col5\" >0.7419</td>\n",
              "      <td id=\"T_b2aa8_row7_col6\" class=\"data row7 col6\" >0.4295</td>\n",
              "      <td id=\"T_b2aa8_row7_col7\" class=\"data row7 col7\" >0.4390</td>\n",
              "      <td id=\"T_b2aa8_row7_col8\" class=\"data row7 col8\" >0.0780</td>\n",
              "    </tr>\n",
              "    <tr>\n",
              "      <th id=\"T_b2aa8_level0_row8\" class=\"row_heading level0 row8\" >qda</th>\n",
              "      <td id=\"T_b2aa8_row8_col0\" class=\"data row8 col0\" >Quadratic Discriminant Analysis</td>\n",
              "      <td id=\"T_b2aa8_row8_col1\" class=\"data row8 col1\" >0.7144</td>\n",
              "      <td id=\"T_b2aa8_row8_col2\" class=\"data row8 col2\" >0.7463</td>\n",
              "      <td id=\"T_b2aa8_row8_col3\" class=\"data row8 col3\" >0.8193</td>\n",
              "      <td id=\"T_b2aa8_row8_col4\" class=\"data row8 col4\" >0.6777</td>\n",
              "      <td id=\"T_b2aa8_row8_col5\" class=\"data row8 col5\" >0.7418</td>\n",
              "      <td id=\"T_b2aa8_row8_col6\" class=\"data row8 col6\" >0.4286</td>\n",
              "      <td id=\"T_b2aa8_row8_col7\" class=\"data row8 col7\" >0.4384</td>\n",
              "      <td id=\"T_b2aa8_row8_col8\" class=\"data row8 col8\" >0.0820</td>\n",
              "    </tr>\n",
              "    <tr>\n",
              "      <th id=\"T_b2aa8_level0_row9\" class=\"row_heading level0 row9\" >ada</th>\n",
              "      <td id=\"T_b2aa8_row9_col0\" class=\"data row9 col0\" >Ada Boost Classifier</td>\n",
              "      <td id=\"T_b2aa8_row9_col1\" class=\"data row9 col1\" >0.7041</td>\n",
              "      <td id=\"T_b2aa8_row9_col2\" class=\"data row9 col2\" >0.7881</td>\n",
              "      <td id=\"T_b2aa8_row9_col3\" class=\"data row9 col3\" >0.7668</td>\n",
              "      <td id=\"T_b2aa8_row9_col4\" class=\"data row9 col4\" >0.6820</td>\n",
              "      <td id=\"T_b2aa8_row9_col5\" class=\"data row9 col5\" >0.7218</td>\n",
              "      <td id=\"T_b2aa8_row9_col6\" class=\"data row9 col6\" >0.4082</td>\n",
              "      <td id=\"T_b2aa8_row9_col7\" class=\"data row9 col7\" >0.4115</td>\n",
              "      <td id=\"T_b2aa8_row9_col8\" class=\"data row9 col8\" >0.7400</td>\n",
              "    </tr>\n",
              "    <tr>\n",
              "      <th id=\"T_b2aa8_level0_row10\" class=\"row_heading level0 row10\" >ridge</th>\n",
              "      <td id=\"T_b2aa8_row10_col0\" class=\"data row10 col0\" >Ridge Classifier</td>\n",
              "      <td id=\"T_b2aa8_row10_col1\" class=\"data row10 col1\" >0.6979</td>\n",
              "      <td id=\"T_b2aa8_row10_col2\" class=\"data row10 col2\" >0.0000</td>\n",
              "      <td id=\"T_b2aa8_row10_col3\" class=\"data row10 col3\" >0.8107</td>\n",
              "      <td id=\"T_b2aa8_row10_col4\" class=\"data row10 col4\" >0.6621</td>\n",
              "      <td id=\"T_b2aa8_row10_col5\" class=\"data row10 col5\" >0.7288</td>\n",
              "      <td id=\"T_b2aa8_row10_col6\" class=\"data row10 col6\" >0.3957</td>\n",
              "      <td id=\"T_b2aa8_row10_col7\" class=\"data row10 col7\" >0.4062</td>\n",
              "      <td id=\"T_b2aa8_row10_col8\" class=\"data row10 col8\" >0.0710</td>\n",
              "    </tr>\n",
              "    <tr>\n",
              "      <th id=\"T_b2aa8_level0_row11\" class=\"row_heading level0 row11\" >lda</th>\n",
              "      <td id=\"T_b2aa8_row11_col0\" class=\"data row11 col0\" >Linear Discriminant Analysis</td>\n",
              "      <td id=\"T_b2aa8_row11_col1\" class=\"data row11 col1\" >0.6979</td>\n",
              "      <td id=\"T_b2aa8_row11_col2\" class=\"data row11 col2\" >0.7466</td>\n",
              "      <td id=\"T_b2aa8_row11_col3\" class=\"data row11 col3\" >0.8107</td>\n",
              "      <td id=\"T_b2aa8_row11_col4\" class=\"data row11 col4\" >0.6621</td>\n",
              "      <td id=\"T_b2aa8_row11_col5\" class=\"data row11 col5\" >0.7288</td>\n",
              "      <td id=\"T_b2aa8_row11_col6\" class=\"data row11 col6\" >0.3957</td>\n",
              "      <td id=\"T_b2aa8_row11_col7\" class=\"data row11 col7\" >0.4062</td>\n",
              "      <td id=\"T_b2aa8_row11_col8\" class=\"data row11 col8\" >0.1620</td>\n",
              "    </tr>\n",
              "    <tr>\n",
              "      <th id=\"T_b2aa8_level0_row12\" class=\"row_heading level0 row12\" >lr</th>\n",
              "      <td id=\"T_b2aa8_row12_col0\" class=\"data row12 col0\" >Logistic Regression</td>\n",
              "      <td id=\"T_b2aa8_row12_col1\" class=\"data row12 col1\" >0.6957</td>\n",
              "      <td id=\"T_b2aa8_row12_col2\" class=\"data row12 col2\" >0.7473</td>\n",
              "      <td id=\"T_b2aa8_row12_col3\" class=\"data row12 col3\" >0.8021</td>\n",
              "      <td id=\"T_b2aa8_row12_col4\" class=\"data row12 col4\" >0.6619</td>\n",
              "      <td id=\"T_b2aa8_row12_col5\" class=\"data row12 col5\" >0.7252</td>\n",
              "      <td id=\"T_b2aa8_row12_col6\" class=\"data row12 col6\" >0.3912</td>\n",
              "      <td id=\"T_b2aa8_row12_col7\" class=\"data row12 col7\" >0.4004</td>\n",
              "      <td id=\"T_b2aa8_row12_col8\" class=\"data row12 col8\" >0.6740</td>\n",
              "    </tr>\n",
              "    <tr>\n",
              "      <th id=\"T_b2aa8_level0_row13\" class=\"row_heading level0 row13\" >svm</th>\n",
              "      <td id=\"T_b2aa8_row13_col0\" class=\"data row13 col0\" >SVM - Linear Kernel</td>\n",
              "      <td id=\"T_b2aa8_row13_col1\" class=\"data row13 col1\" >0.6849</td>\n",
              "      <td id=\"T_b2aa8_row13_col2\" class=\"data row13 col2\" >0.0000</td>\n",
              "      <td id=\"T_b2aa8_row13_col3\" class=\"data row13 col3\" >0.8649</td>\n",
              "      <td id=\"T_b2aa8_row13_col4\" class=\"data row13 col4\" >0.6375</td>\n",
              "      <td id=\"T_b2aa8_row13_col5\" class=\"data row13 col5\" >0.7334</td>\n",
              "      <td id=\"T_b2aa8_row13_col6\" class=\"data row13 col6\" >0.3696</td>\n",
              "      <td id=\"T_b2aa8_row13_col7\" class=\"data row13 col7\" >0.3968</td>\n",
              "      <td id=\"T_b2aa8_row13_col8\" class=\"data row13 col8\" >0.3080</td>\n",
              "    </tr>\n",
              "    <tr>\n",
              "      <th id=\"T_b2aa8_level0_row14\" class=\"row_heading level0 row14\" >dummy</th>\n",
              "      <td id=\"T_b2aa8_row14_col0\" class=\"data row14 col0\" >Dummy Classifier</td>\n",
              "      <td id=\"T_b2aa8_row14_col1\" class=\"data row14 col1\" >0.5006</td>\n",
              "      <td id=\"T_b2aa8_row14_col2\" class=\"data row14 col2\" >0.5000</td>\n",
              "      <td id=\"T_b2aa8_row14_col3\" class=\"data row14 col3\" >1.0000</td>\n",
              "      <td id=\"T_b2aa8_row14_col4\" class=\"data row14 col4\" >0.5006</td>\n",
              "      <td id=\"T_b2aa8_row14_col5\" class=\"data row14 col5\" >0.6672</td>\n",
              "      <td id=\"T_b2aa8_row14_col6\" class=\"data row14 col6\" >0.0000</td>\n",
              "      <td id=\"T_b2aa8_row14_col7\" class=\"data row14 col7\" >0.0000</td>\n",
              "      <td id=\"T_b2aa8_row14_col8\" class=\"data row14 col8\" >0.0810</td>\n",
              "    </tr>\n",
              "  </tbody>\n",
              "</table>\n"
            ]
          },
          "metadata": {}
        },
        {
          "output_type": "display_data",
          "data": {
            "text/plain": [
              "Processing:   0%|          | 0/65 [00:00<?, ?it/s]"
            ],
            "application/vnd.jupyter.widget-view+json": {
              "version_major": 2,
              "version_minor": 0,
              "model_id": "90699dc8783e4169b8e7d3df4cfa5934"
            }
          },
          "metadata": {
            "application/vnd.jupyter.widget-view+json": {
              "colab": {
                "custom_widget_manager": {
                  "url": "https://ssl.gstatic.com/colaboratory-static/widgets/colab-cdn-widget-manager/b3e629b1971e1542/manager.min.js"
                }
              }
            }
          }
        },
        {
          "output_type": "display_data",
          "data": {
            "text/plain": [
              "<IPython.core.display.HTML object>"
            ],
            "text/html": []
          },
          "metadata": {}
        }
      ]
    },
    {
      "cell_type": "code",
      "source": [],
      "metadata": {
        "id": "dJfBtxV7aguq"
      },
      "id": "dJfBtxV7aguq",
      "execution_count": null,
      "outputs": []
    }
  ],
  "metadata": {
    "accelerator": "GPU",
    "colab": {
      "provenance": [],
      "include_colab_link": true
    },
    "gpuClass": "standard",
    "kernelspec": {
      "display_name": "Python 3 (ipykernel)",
      "language": "python",
      "name": "python3"
    },
    "language_info": {
      "codemirror_mode": {
        "name": "ipython",
        "version": 3
      },
      "file_extension": ".py",
      "mimetype": "text/x-python",
      "name": "python",
      "nbconvert_exporter": "python",
      "pygments_lexer": "ipython3",
      "version": "3.9.16"
    },
    "widgets": {
      "application/vnd.jupyter.widget-state+json": {
        "90699dc8783e4169b8e7d3df4cfa5934": {
          "model_module": "@jupyter-widgets/controls",
          "model_name": "HBoxModel",
          "model_module_version": "1.5.0",
          "state": {
            "_dom_classes": [],
            "_model_module": "@jupyter-widgets/controls",
            "_model_module_version": "1.5.0",
            "_model_name": "HBoxModel",
            "_view_count": null,
            "_view_module": "@jupyter-widgets/controls",
            "_view_module_version": "1.5.0",
            "_view_name": "HBoxView",
            "box_style": "",
            "children": [
              "IPY_MODEL_f9e002364ea14caf83dee1652f2e1dd1",
              "IPY_MODEL_62d30b926dfe4818b5fd092e05070940",
              "IPY_MODEL_8cb60228339740e896b6bd3e2cc2aecf"
            ],
            "layout": "IPY_MODEL_36017f57ae0d4352bf5b3228372843b2"
          }
        },
        "f9e002364ea14caf83dee1652f2e1dd1": {
          "model_module": "@jupyter-widgets/controls",
          "model_name": "HTMLModel",
          "model_module_version": "1.5.0",
          "state": {
            "_dom_classes": [],
            "_model_module": "@jupyter-widgets/controls",
            "_model_module_version": "1.5.0",
            "_model_name": "HTMLModel",
            "_view_count": null,
            "_view_module": "@jupyter-widgets/controls",
            "_view_module_version": "1.5.0",
            "_view_name": "HTMLView",
            "description": "",
            "description_tooltip": null,
            "layout": "IPY_MODEL_a07e2b836eee46929ffecd7c7e358f4c",
            "placeholder": "​",
            "style": "IPY_MODEL_d8e7f2f2b5c647e7b09d612163a7fa30",
            "value": "Processing: 100%"
          }
        },
        "62d30b926dfe4818b5fd092e05070940": {
          "model_module": "@jupyter-widgets/controls",
          "model_name": "FloatProgressModel",
          "model_module_version": "1.5.0",
          "state": {
            "_dom_classes": [],
            "_model_module": "@jupyter-widgets/controls",
            "_model_module_version": "1.5.0",
            "_model_name": "FloatProgressModel",
            "_view_count": null,
            "_view_module": "@jupyter-widgets/controls",
            "_view_module_version": "1.5.0",
            "_view_name": "ProgressView",
            "bar_style": "",
            "description": "",
            "description_tooltip": null,
            "layout": "IPY_MODEL_e6c7945e92a942a390d9ca4609f553f5",
            "max": 65,
            "min": 0,
            "orientation": "horizontal",
            "style": "IPY_MODEL_dfb6b1a5630a40c59a8d5d04301bed24",
            "value": 65
          }
        },
        "8cb60228339740e896b6bd3e2cc2aecf": {
          "model_module": "@jupyter-widgets/controls",
          "model_name": "HTMLModel",
          "model_module_version": "1.5.0",
          "state": {
            "_dom_classes": [],
            "_model_module": "@jupyter-widgets/controls",
            "_model_module_version": "1.5.0",
            "_model_name": "HTMLModel",
            "_view_count": null,
            "_view_module": "@jupyter-widgets/controls",
            "_view_module_version": "1.5.0",
            "_view_name": "HTMLView",
            "description": "",
            "description_tooltip": null,
            "layout": "IPY_MODEL_36bd126949a543f7b51a83910fd65293",
            "placeholder": "​",
            "style": "IPY_MODEL_588ca5e9c38f4b5ba99935f437deac24",
            "value": " 65/65 [01:18&lt;00:00,  1.65it/s]"
          }
        },
        "36017f57ae0d4352bf5b3228372843b2": {
          "model_module": "@jupyter-widgets/base",
          "model_name": "LayoutModel",
          "model_module_version": "1.2.0",
          "state": {
            "_model_module": "@jupyter-widgets/base",
            "_model_module_version": "1.2.0",
            "_model_name": "LayoutModel",
            "_view_count": null,
            "_view_module": "@jupyter-widgets/base",
            "_view_module_version": "1.2.0",
            "_view_name": "LayoutView",
            "align_content": null,
            "align_items": null,
            "align_self": null,
            "border": null,
            "bottom": null,
            "display": null,
            "flex": null,
            "flex_flow": null,
            "grid_area": null,
            "grid_auto_columns": null,
            "grid_auto_flow": null,
            "grid_auto_rows": null,
            "grid_column": null,
            "grid_gap": null,
            "grid_row": null,
            "grid_template_areas": null,
            "grid_template_columns": null,
            "grid_template_rows": null,
            "height": null,
            "justify_content": null,
            "justify_items": null,
            "left": null,
            "margin": null,
            "max_height": null,
            "max_width": null,
            "min_height": null,
            "min_width": null,
            "object_fit": null,
            "object_position": null,
            "order": null,
            "overflow": null,
            "overflow_x": null,
            "overflow_y": null,
            "padding": null,
            "right": null,
            "top": null,
            "visibility": "hidden",
            "width": null
          }
        },
        "a07e2b836eee46929ffecd7c7e358f4c": {
          "model_module": "@jupyter-widgets/base",
          "model_name": "LayoutModel",
          "model_module_version": "1.2.0",
          "state": {
            "_model_module": "@jupyter-widgets/base",
            "_model_module_version": "1.2.0",
            "_model_name": "LayoutModel",
            "_view_count": null,
            "_view_module": "@jupyter-widgets/base",
            "_view_module_version": "1.2.0",
            "_view_name": "LayoutView",
            "align_content": null,
            "align_items": null,
            "align_self": null,
            "border": null,
            "bottom": null,
            "display": null,
            "flex": null,
            "flex_flow": null,
            "grid_area": null,
            "grid_auto_columns": null,
            "grid_auto_flow": null,
            "grid_auto_rows": null,
            "grid_column": null,
            "grid_gap": null,
            "grid_row": null,
            "grid_template_areas": null,
            "grid_template_columns": null,
            "grid_template_rows": null,
            "height": null,
            "justify_content": null,
            "justify_items": null,
            "left": null,
            "margin": null,
            "max_height": null,
            "max_width": null,
            "min_height": null,
            "min_width": null,
            "object_fit": null,
            "object_position": null,
            "order": null,
            "overflow": null,
            "overflow_x": null,
            "overflow_y": null,
            "padding": null,
            "right": null,
            "top": null,
            "visibility": null,
            "width": null
          }
        },
        "d8e7f2f2b5c647e7b09d612163a7fa30": {
          "model_module": "@jupyter-widgets/controls",
          "model_name": "DescriptionStyleModel",
          "model_module_version": "1.5.0",
          "state": {
            "_model_module": "@jupyter-widgets/controls",
            "_model_module_version": "1.5.0",
            "_model_name": "DescriptionStyleModel",
            "_view_count": null,
            "_view_module": "@jupyter-widgets/base",
            "_view_module_version": "1.2.0",
            "_view_name": "StyleView",
            "description_width": ""
          }
        },
        "e6c7945e92a942a390d9ca4609f553f5": {
          "model_module": "@jupyter-widgets/base",
          "model_name": "LayoutModel",
          "model_module_version": "1.2.0",
          "state": {
            "_model_module": "@jupyter-widgets/base",
            "_model_module_version": "1.2.0",
            "_model_name": "LayoutModel",
            "_view_count": null,
            "_view_module": "@jupyter-widgets/base",
            "_view_module_version": "1.2.0",
            "_view_name": "LayoutView",
            "align_content": null,
            "align_items": null,
            "align_self": null,
            "border": null,
            "bottom": null,
            "display": null,
            "flex": null,
            "flex_flow": null,
            "grid_area": null,
            "grid_auto_columns": null,
            "grid_auto_flow": null,
            "grid_auto_rows": null,
            "grid_column": null,
            "grid_gap": null,
            "grid_row": null,
            "grid_template_areas": null,
            "grid_template_columns": null,
            "grid_template_rows": null,
            "height": null,
            "justify_content": null,
            "justify_items": null,
            "left": null,
            "margin": null,
            "max_height": null,
            "max_width": null,
            "min_height": null,
            "min_width": null,
            "object_fit": null,
            "object_position": null,
            "order": null,
            "overflow": null,
            "overflow_x": null,
            "overflow_y": null,
            "padding": null,
            "right": null,
            "top": null,
            "visibility": null,
            "width": null
          }
        },
        "dfb6b1a5630a40c59a8d5d04301bed24": {
          "model_module": "@jupyter-widgets/controls",
          "model_name": "ProgressStyleModel",
          "model_module_version": "1.5.0",
          "state": {
            "_model_module": "@jupyter-widgets/controls",
            "_model_module_version": "1.5.0",
            "_model_name": "ProgressStyleModel",
            "_view_count": null,
            "_view_module": "@jupyter-widgets/base",
            "_view_module_version": "1.2.0",
            "_view_name": "StyleView",
            "bar_color": null,
            "description_width": ""
          }
        },
        "36bd126949a543f7b51a83910fd65293": {
          "model_module": "@jupyter-widgets/base",
          "model_name": "LayoutModel",
          "model_module_version": "1.2.0",
          "state": {
            "_model_module": "@jupyter-widgets/base",
            "_model_module_version": "1.2.0",
            "_model_name": "LayoutModel",
            "_view_count": null,
            "_view_module": "@jupyter-widgets/base",
            "_view_module_version": "1.2.0",
            "_view_name": "LayoutView",
            "align_content": null,
            "align_items": null,
            "align_self": null,
            "border": null,
            "bottom": null,
            "display": null,
            "flex": null,
            "flex_flow": null,
            "grid_area": null,
            "grid_auto_columns": null,
            "grid_auto_flow": null,
            "grid_auto_rows": null,
            "grid_column": null,
            "grid_gap": null,
            "grid_row": null,
            "grid_template_areas": null,
            "grid_template_columns": null,
            "grid_template_rows": null,
            "height": null,
            "justify_content": null,
            "justify_items": null,
            "left": null,
            "margin": null,
            "max_height": null,
            "max_width": null,
            "min_height": null,
            "min_width": null,
            "object_fit": null,
            "object_position": null,
            "order": null,
            "overflow": null,
            "overflow_x": null,
            "overflow_y": null,
            "padding": null,
            "right": null,
            "top": null,
            "visibility": null,
            "width": null
          }
        },
        "588ca5e9c38f4b5ba99935f437deac24": {
          "model_module": "@jupyter-widgets/controls",
          "model_name": "DescriptionStyleModel",
          "model_module_version": "1.5.0",
          "state": {
            "_model_module": "@jupyter-widgets/controls",
            "_model_module_version": "1.5.0",
            "_model_name": "DescriptionStyleModel",
            "_view_count": null,
            "_view_module": "@jupyter-widgets/base",
            "_view_module_version": "1.2.0",
            "_view_name": "StyleView",
            "description_width": ""
          }
        }
      }
    }
  },
  "nbformat": 4,
  "nbformat_minor": 5
}